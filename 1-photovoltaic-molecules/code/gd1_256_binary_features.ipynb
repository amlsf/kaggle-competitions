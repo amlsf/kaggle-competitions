{
 "cells": [
  {
   "cell_type": "code",
   "execution_count": 1,
   "metadata": {
    "collapsed": false
   },
   "outputs": [
    {
     "data": {
      "text/plain": [
       "'2.7.11 |Anaconda 2.4.1 (x86_64)| (default, Dec  6 2015, 18:57:58) \\n[GCC 4.2.1 (Apple Inc. build 5577)]'"
      ]
     },
     "execution_count": 1,
     "metadata": {},
     "output_type": "execute_result"
    }
   ],
   "source": [
    "import sys\n",
    "sys.version"
   ]
  },
  {
   "cell_type": "code",
   "execution_count": 2,
   "metadata": {
    "collapsed": false
   },
   "outputs": [],
   "source": [
    "import time\n",
    "import numpy as np\n",
    "import math\n",
    "import pandas as pd\n",
    "\n",
    "from sklearn.linear_model import LinearRegression\n",
    "from sklearn.ensemble import RandomForestRegressor\n",
    "from sklearn.metrics import mean_squared_error\n",
    "\n",
    "%matplotlib inline\n",
    "import matplotlib.pyplot as plt"
   ]
  },
  {
   "cell_type": "markdown",
   "metadata": {},
   "source": [
    "<div class=\"alert alert-danger\">\n",
    "<strong>BASELINES</strong>\n",
    "</div>"
   ]
  },
  {
   "cell_type": "markdown",
   "metadata": {},
   "source": [
    "<div class=\"alert alert-info\">\n",
    "<strong>LOAD DATA</strong>\n",
    "</div>"
   ]
  },
  {
   "cell_type": "code",
   "execution_count": 3,
   "metadata": {
    "collapsed": false
   },
   "outputs": [],
   "source": [
    "# load all data\n",
    "df_train = pd.read_csv('data/train.csv')\n",
    "df_test = pd.read_csv('data/test.csv')"
   ]
  },
  {
   "cell_type": "code",
   "execution_count": 4,
   "metadata": {
    "collapsed": false,
    "scrolled": true
   },
   "outputs": [
    {
     "data": {
      "text/html": [
       "<div>\n",
       "<table border=\"1\" class=\"dataframe\">\n",
       "  <thead>\n",
       "    <tr style=\"text-align: right;\">\n",
       "      <th></th>\n",
       "      <th>smiles</th>\n",
       "      <th>feat_001</th>\n",
       "      <th>feat_002</th>\n",
       "      <th>feat_003</th>\n",
       "      <th>feat_004</th>\n",
       "      <th>feat_005</th>\n",
       "      <th>feat_006</th>\n",
       "      <th>feat_007</th>\n",
       "      <th>feat_008</th>\n",
       "      <th>feat_009</th>\n",
       "      <th>...</th>\n",
       "      <th>feat_248</th>\n",
       "      <th>feat_249</th>\n",
       "      <th>feat_250</th>\n",
       "      <th>feat_251</th>\n",
       "      <th>feat_252</th>\n",
       "      <th>feat_253</th>\n",
       "      <th>feat_254</th>\n",
       "      <th>feat_255</th>\n",
       "      <th>feat_256</th>\n",
       "      <th>gap</th>\n",
       "    </tr>\n",
       "  </thead>\n",
       "  <tbody>\n",
       "    <tr>\n",
       "      <th>0</th>\n",
       "      <td>c1ccc(o1)-c1ccc(s1)-c1cnc(-c2scc3[se]ccc23)c2n...</td>\n",
       "      <td>0</td>\n",
       "      <td>0</td>\n",
       "      <td>0</td>\n",
       "      <td>0</td>\n",
       "      <td>1</td>\n",
       "      <td>0</td>\n",
       "      <td>1</td>\n",
       "      <td>0</td>\n",
       "      <td>0</td>\n",
       "      <td>...</td>\n",
       "      <td>1</td>\n",
       "      <td>0</td>\n",
       "      <td>0</td>\n",
       "      <td>0</td>\n",
       "      <td>0</td>\n",
       "      <td>0</td>\n",
       "      <td>0</td>\n",
       "      <td>0</td>\n",
       "      <td>0</td>\n",
       "      <td>1.19</td>\n",
       "    </tr>\n",
       "    <tr>\n",
       "      <th>1</th>\n",
       "      <td>C1=CC=C(C1)c1cc2ncc3c4[SiH2]C=Cc4ncc3c2c2=C[Si...</td>\n",
       "      <td>1</td>\n",
       "      <td>0</td>\n",
       "      <td>0</td>\n",
       "      <td>0</td>\n",
       "      <td>1</td>\n",
       "      <td>0</td>\n",
       "      <td>1</td>\n",
       "      <td>0</td>\n",
       "      <td>0</td>\n",
       "      <td>...</td>\n",
       "      <td>1</td>\n",
       "      <td>0</td>\n",
       "      <td>0</td>\n",
       "      <td>1</td>\n",
       "      <td>0</td>\n",
       "      <td>0</td>\n",
       "      <td>0</td>\n",
       "      <td>0</td>\n",
       "      <td>0</td>\n",
       "      <td>1.60</td>\n",
       "    </tr>\n",
       "    <tr>\n",
       "      <th>2</th>\n",
       "      <td>[nH]1c-2c([SiH2]c3cc(-c4scc5C=CCc45)c4nsnc4c-2...</td>\n",
       "      <td>1</td>\n",
       "      <td>0</td>\n",
       "      <td>0</td>\n",
       "      <td>0</td>\n",
       "      <td>1</td>\n",
       "      <td>1</td>\n",
       "      <td>1</td>\n",
       "      <td>0</td>\n",
       "      <td>0</td>\n",
       "      <td>...</td>\n",
       "      <td>1</td>\n",
       "      <td>0</td>\n",
       "      <td>0</td>\n",
       "      <td>0</td>\n",
       "      <td>1</td>\n",
       "      <td>0</td>\n",
       "      <td>0</td>\n",
       "      <td>0</td>\n",
       "      <td>0</td>\n",
       "      <td>1.49</td>\n",
       "    </tr>\n",
       "    <tr>\n",
       "      <th>3</th>\n",
       "      <td>[nH]1c2-c3occc3Cc2c2c1cc(-c1cccc3=C[SiH2]C=c13...</td>\n",
       "      <td>1</td>\n",
       "      <td>0</td>\n",
       "      <td>0</td>\n",
       "      <td>0</td>\n",
       "      <td>1</td>\n",
       "      <td>1</td>\n",
       "      <td>1</td>\n",
       "      <td>0</td>\n",
       "      <td>0</td>\n",
       "      <td>...</td>\n",
       "      <td>1</td>\n",
       "      <td>0</td>\n",
       "      <td>0</td>\n",
       "      <td>0</td>\n",
       "      <td>1</td>\n",
       "      <td>0</td>\n",
       "      <td>0</td>\n",
       "      <td>0</td>\n",
       "      <td>0</td>\n",
       "      <td>1.36</td>\n",
       "    </tr>\n",
       "    <tr>\n",
       "      <th>4</th>\n",
       "      <td>c1cnc2c3oc4cc(-c5ncncn5)c5nsnc5c4c3c3cocc3c2c1</td>\n",
       "      <td>0</td>\n",
       "      <td>0</td>\n",
       "      <td>0</td>\n",
       "      <td>0</td>\n",
       "      <td>1</td>\n",
       "      <td>0</td>\n",
       "      <td>1</td>\n",
       "      <td>0</td>\n",
       "      <td>0</td>\n",
       "      <td>...</td>\n",
       "      <td>1</td>\n",
       "      <td>0</td>\n",
       "      <td>0</td>\n",
       "      <td>0</td>\n",
       "      <td>0</td>\n",
       "      <td>0</td>\n",
       "      <td>0</td>\n",
       "      <td>0</td>\n",
       "      <td>0</td>\n",
       "      <td>1.98</td>\n",
       "    </tr>\n",
       "  </tbody>\n",
       "</table>\n",
       "<p>5 rows × 258 columns</p>\n",
       "</div>"
      ],
      "text/plain": [
       "                                              smiles  feat_001  feat_002  \\\n",
       "0  c1ccc(o1)-c1ccc(s1)-c1cnc(-c2scc3[se]ccc23)c2n...         0         0   \n",
       "1  C1=CC=C(C1)c1cc2ncc3c4[SiH2]C=Cc4ncc3c2c2=C[Si...         1         0   \n",
       "2  [nH]1c-2c([SiH2]c3cc(-c4scc5C=CCc45)c4nsnc4c-2...         1         0   \n",
       "3  [nH]1c2-c3occc3Cc2c2c1cc(-c1cccc3=C[SiH2]C=c13...         1         0   \n",
       "4     c1cnc2c3oc4cc(-c5ncncn5)c5nsnc5c4c3c3cocc3c2c1         0         0   \n",
       "\n",
       "   feat_003  feat_004  feat_005  feat_006  feat_007  feat_008  feat_009  ...   \\\n",
       "0         0         0         1         0         1         0         0  ...    \n",
       "1         0         0         1         0         1         0         0  ...    \n",
       "2         0         0         1         1         1         0         0  ...    \n",
       "3         0         0         1         1         1         0         0  ...    \n",
       "4         0         0         1         0         1         0         0  ...    \n",
       "\n",
       "   feat_248  feat_249  feat_250  feat_251  feat_252  feat_253  feat_254  \\\n",
       "0         1         0         0         0         0         0         0   \n",
       "1         1         0         0         1         0         0         0   \n",
       "2         1         0         0         0         1         0         0   \n",
       "3         1         0         0         0         1         0         0   \n",
       "4         1         0         0         0         0         0         0   \n",
       "\n",
       "   feat_255  feat_256   gap  \n",
       "0         0         0  1.19  \n",
       "1         0         0  1.60  \n",
       "2         0         0  1.49  \n",
       "3         0         0  1.36  \n",
       "4         0         0  1.98  \n",
       "\n",
       "[5 rows x 258 columns]"
      ]
     },
     "execution_count": 4,
     "metadata": {},
     "output_type": "execute_result"
    }
   ],
   "source": [
    "df_train.head()"
   ]
  },
  {
   "cell_type": "code",
   "execution_count": 5,
   "metadata": {
    "collapsed": false,
    "scrolled": true
   },
   "outputs": [
    {
     "data": {
      "text/html": [
       "<div>\n",
       "<table border=\"1\" class=\"dataframe\">\n",
       "  <thead>\n",
       "    <tr style=\"text-align: right;\">\n",
       "      <th></th>\n",
       "      <th>Id</th>\n",
       "      <th>smiles</th>\n",
       "      <th>feat_001</th>\n",
       "      <th>feat_002</th>\n",
       "      <th>feat_003</th>\n",
       "      <th>feat_004</th>\n",
       "      <th>feat_005</th>\n",
       "      <th>feat_006</th>\n",
       "      <th>feat_007</th>\n",
       "      <th>feat_008</th>\n",
       "      <th>...</th>\n",
       "      <th>feat_247</th>\n",
       "      <th>feat_248</th>\n",
       "      <th>feat_249</th>\n",
       "      <th>feat_250</th>\n",
       "      <th>feat_251</th>\n",
       "      <th>feat_252</th>\n",
       "      <th>feat_253</th>\n",
       "      <th>feat_254</th>\n",
       "      <th>feat_255</th>\n",
       "      <th>feat_256</th>\n",
       "    </tr>\n",
       "  </thead>\n",
       "  <tbody>\n",
       "    <tr>\n",
       "      <th>0</th>\n",
       "      <td>1</td>\n",
       "      <td>c1sc(-c2cnc3c(c2)c2nsnc2c2cc4cccnc4cc32)c2cc[n...</td>\n",
       "      <td>0</td>\n",
       "      <td>0</td>\n",
       "      <td>0</td>\n",
       "      <td>0</td>\n",
       "      <td>1</td>\n",
       "      <td>1</td>\n",
       "      <td>1</td>\n",
       "      <td>0</td>\n",
       "      <td>...</td>\n",
       "      <td>0</td>\n",
       "      <td>1</td>\n",
       "      <td>0</td>\n",
       "      <td>0</td>\n",
       "      <td>0</td>\n",
       "      <td>0</td>\n",
       "      <td>0</td>\n",
       "      <td>0</td>\n",
       "      <td>0</td>\n",
       "      <td>0</td>\n",
       "    </tr>\n",
       "    <tr>\n",
       "      <th>1</th>\n",
       "      <td>2</td>\n",
       "      <td>[nH]1cccc1-c1cc2c3nsnc3c3c4sccc4[nH]c3c2s1</td>\n",
       "      <td>0</td>\n",
       "      <td>0</td>\n",
       "      <td>0</td>\n",
       "      <td>0</td>\n",
       "      <td>1</td>\n",
       "      <td>1</td>\n",
       "      <td>1</td>\n",
       "      <td>0</td>\n",
       "      <td>...</td>\n",
       "      <td>0</td>\n",
       "      <td>1</td>\n",
       "      <td>0</td>\n",
       "      <td>0</td>\n",
       "      <td>0</td>\n",
       "      <td>0</td>\n",
       "      <td>0</td>\n",
       "      <td>0</td>\n",
       "      <td>0</td>\n",
       "      <td>0</td>\n",
       "    </tr>\n",
       "    <tr>\n",
       "      <th>2</th>\n",
       "      <td>3</td>\n",
       "      <td>[nH]1c2cc(-c3ccc[se]3)c3nsnc3c2c2c3cscc3c3ccc4...</td>\n",
       "      <td>1</td>\n",
       "      <td>0</td>\n",
       "      <td>0</td>\n",
       "      <td>0</td>\n",
       "      <td>1</td>\n",
       "      <td>1</td>\n",
       "      <td>1</td>\n",
       "      <td>0</td>\n",
       "      <td>...</td>\n",
       "      <td>0</td>\n",
       "      <td>1</td>\n",
       "      <td>0</td>\n",
       "      <td>0</td>\n",
       "      <td>0</td>\n",
       "      <td>0</td>\n",
       "      <td>0</td>\n",
       "      <td>0</td>\n",
       "      <td>0</td>\n",
       "      <td>0</td>\n",
       "    </tr>\n",
       "    <tr>\n",
       "      <th>3</th>\n",
       "      <td>4</td>\n",
       "      <td>[nH]1c(cc2cnc3c(c12)c1=C[SiH2]C=c1c1ccc2=CCC=c...</td>\n",
       "      <td>1</td>\n",
       "      <td>0</td>\n",
       "      <td>0</td>\n",
       "      <td>0</td>\n",
       "      <td>1</td>\n",
       "      <td>1</td>\n",
       "      <td>1</td>\n",
       "      <td>0</td>\n",
       "      <td>...</td>\n",
       "      <td>0</td>\n",
       "      <td>1</td>\n",
       "      <td>0</td>\n",
       "      <td>0</td>\n",
       "      <td>0</td>\n",
       "      <td>0</td>\n",
       "      <td>0</td>\n",
       "      <td>0</td>\n",
       "      <td>0</td>\n",
       "      <td>0</td>\n",
       "    </tr>\n",
       "    <tr>\n",
       "      <th>4</th>\n",
       "      <td>5</td>\n",
       "      <td>c1sc(-c2sc(-c3sc(-c4scc5[se]ccc45)c4ccoc34)c3c...</td>\n",
       "      <td>0</td>\n",
       "      <td>0</td>\n",
       "      <td>0</td>\n",
       "      <td>0</td>\n",
       "      <td>1</td>\n",
       "      <td>0</td>\n",
       "      <td>1</td>\n",
       "      <td>0</td>\n",
       "      <td>...</td>\n",
       "      <td>0</td>\n",
       "      <td>1</td>\n",
       "      <td>0</td>\n",
       "      <td>0</td>\n",
       "      <td>0</td>\n",
       "      <td>0</td>\n",
       "      <td>0</td>\n",
       "      <td>0</td>\n",
       "      <td>0</td>\n",
       "      <td>0</td>\n",
       "    </tr>\n",
       "  </tbody>\n",
       "</table>\n",
       "<p>5 rows × 258 columns</p>\n",
       "</div>"
      ],
      "text/plain": [
       "   Id                                             smiles  feat_001  feat_002  \\\n",
       "0   1  c1sc(-c2cnc3c(c2)c2nsnc2c2cc4cccnc4cc32)c2cc[n...         0         0   \n",
       "1   2         [nH]1cccc1-c1cc2c3nsnc3c3c4sccc4[nH]c3c2s1         0         0   \n",
       "2   3  [nH]1c2cc(-c3ccc[se]3)c3nsnc3c2c2c3cscc3c3ccc4...         1         0   \n",
       "3   4  [nH]1c(cc2cnc3c(c12)c1=C[SiH2]C=c1c1ccc2=CCC=c...         1         0   \n",
       "4   5  c1sc(-c2sc(-c3sc(-c4scc5[se]ccc45)c4ccoc34)c3c...         0         0   \n",
       "\n",
       "   feat_003  feat_004  feat_005  feat_006  feat_007  feat_008    ...     \\\n",
       "0         0         0         1         1         1         0    ...      \n",
       "1         0         0         1         1         1         0    ...      \n",
       "2         0         0         1         1         1         0    ...      \n",
       "3         0         0         1         1         1         0    ...      \n",
       "4         0         0         1         0         1         0    ...      \n",
       "\n",
       "   feat_247  feat_248  feat_249  feat_250  feat_251  feat_252  feat_253  \\\n",
       "0         0         1         0         0         0         0         0   \n",
       "1         0         1         0         0         0         0         0   \n",
       "2         0         1         0         0         0         0         0   \n",
       "3         0         1         0         0         0         0         0   \n",
       "4         0         1         0         0         0         0         0   \n",
       "\n",
       "   feat_254  feat_255  feat_256  \n",
       "0         0         0         0  \n",
       "1         0         0         0  \n",
       "2         0         0         0  \n",
       "3         0         0         0  \n",
       "4         0         0         0  \n",
       "\n",
       "[5 rows x 258 columns]"
      ]
     },
     "execution_count": 5,
     "metadata": {},
     "output_type": "execute_result"
    }
   ],
   "source": [
    "df_test.head()"
   ]
  },
  {
   "cell_type": "code",
   "execution_count": 6,
   "metadata": {
    "collapsed": false
   },
   "outputs": [],
   "source": [
    "# store gap values\n",
    "Y_train = df_train.gap.values\n",
    "\n",
    "# row where testing examples start\n",
    "test_idx = df_train.shape[0]\n",
    "\n",
    "# delete 'Id' column\n",
    "df_test = df_test.drop(['Id'], axis=1)\n",
    "\n",
    "# delete 'gap' column\n",
    "df_train = df_train.drop(['gap'], axis=1)"
   ]
  },
  {
   "cell_type": "code",
   "execution_count": 7,
   "metadata": {
    "collapsed": false
   },
   "outputs": [
    {
     "data": {
      "text/plain": [
       "((1000000, 257), (824230, 257))"
      ]
     },
     "execution_count": 7,
     "metadata": {},
     "output_type": "execute_result"
    }
   ],
   "source": [
    "# original dataframe sizes\n",
    "df_train.shape, df_test.shape"
   ]
  },
  {
   "cell_type": "markdown",
   "metadata": {},
   "source": [
    "<div class=\"alert alert-info\">\n",
    "<strong>FEATURE ENGINEERING</strong>\n",
    "</div>"
   ]
  },
  {
   "cell_type": "code",
   "execution_count": 8,
   "metadata": {
    "collapsed": false
   },
   "outputs": [
    {
     "data": {
      "text/plain": [
       "((1824230, 256), (1824230, 1))"
      ]
     },
     "execution_count": 8,
     "metadata": {},
     "output_type": "execute_result"
    }
   ],
   "source": [
    "# dataframe with all train and test examples so we can more easily apply feature engineering\n",
    "df_all = pd.concat((df_train, df_test), axis=0)\n",
    "\n",
    "# extract 'smiles' column - for separate processing\n",
    "df_smiles = pd.DataFrame(df_all.smiles.values, columns=['smiles'], index=df_all.index.values)\n",
    "\n",
    "# drop the 'smiles' column\n",
    "df_all = df_all.drop(['smiles'], axis=1)\n",
    "\n",
    "df_all.shape, df_smiles.shape"
   ]
  },
  {
   "cell_type": "code",
   "execution_count": 9,
   "metadata": {
    "collapsed": false
   },
   "outputs": [
    {
     "data": {
      "text/plain": [
       "(1824230, 31)"
      ]
     },
     "execution_count": 9,
     "metadata": {},
     "output_type": "execute_result"
    }
   ],
   "source": [
    "# drop columns that are all zeros\n",
    "df_all_sum = pd.DataFrame(df_all.sum(axis=0), index=df_all.columns, columns=['SUM'])\n",
    "df_all_zeros = df_all_sum[df_all_sum.SUM==0].index.values\n",
    "df_all.drop(df_all_zeros, axis=1, inplace=True)\n",
    "df_all.shape"
   ]
  },
  {
   "cell_type": "code",
   "execution_count": 10,
   "metadata": {
    "collapsed": false
   },
   "outputs": [
    {
     "data": {
      "text/plain": [
       "31"
      ]
     },
     "execution_count": 10,
     "metadata": {},
     "output_type": "execute_result"
    }
   ],
   "source": [
    "# number of features\n",
    "num_features = df_all.shape[1]\n",
    "num_features"
   ]
  },
  {
   "cell_type": "code",
   "execution_count": 11,
   "metadata": {
    "collapsed": false
   },
   "outputs": [
    {
     "name": "stdout",
     "output_type": "stream",
     "text": [
      "Train features: (1000000, 31)\n",
      "Train gap: (1000000,)\n",
      "Test features: (824230, 31)\n"
     ]
    }
   ],
   "source": [
    "# split back up into training and test data\n",
    "lcols = df_all.columns.values.tolist()\n",
    "vals = df_all.values\n",
    "X_train = vals[:test_idx]\n",
    "X_test = vals[test_idx:]\n",
    "\n",
    "print 'Train features:', X_train.shape\n",
    "print 'Train gap:', Y_train.shape\n",
    "print 'Test features:', X_test.shape"
   ]
  },
  {
   "cell_type": "code",
   "execution_count": 12,
   "metadata": {
    "collapsed": true
   },
   "outputs": [],
   "source": [
    "# clear memory\n",
    "df_train = None\n",
    "df_test = None\n",
    "# df_all = None # keep to facilitate later feature engineering"
   ]
  },
  {
   "cell_type": "markdown",
   "metadata": {},
   "source": [
    "<div class=\"alert alert-info\">\n",
    "<strong>COMMON FUNCTIONS</strong>\n",
    "</div>"
   ]
  },
  {
   "cell_type": "code",
   "execution_count": 13,
   "metadata": {
    "collapsed": true
   },
   "outputs": [],
   "source": [
    "def write_to_file(filename, predictions):\n",
    "    with open(filename, \"w\") as f:\n",
    "        f.write(\"Id,Prediction\\n\")\n",
    "        for i,p in enumerate(predictions):\n",
    "            f.write(str(i+1) + \",\" + str(p) + \"\\n\")"
   ]
  },
  {
   "cell_type": "markdown",
   "metadata": {},
   "source": [
    "<div class=\"alert alert-info\">\n",
    "<strong>BASELINE PREDICTORS</strong>\n",
    "</div>"
   ]
  },
  {
   "cell_type": "markdown",
   "metadata": {},
   "source": [
    "**Linear Regression**"
   ]
  },
  {
   "cell_type": "code",
   "execution_count": 14,
   "metadata": {
    "collapsed": false
   },
   "outputs": [
    {
     "name": "stdout",
     "output_type": "stream",
     "text": [
      "Linear regression RMSE - training set = 0.29875\n",
      "Linear regression RMSE - validation set = 0.29962\n",
      "Baseline linear regression RMSE (leaderboard) = 0.29892\n"
     ]
    }
   ],
   "source": [
    "# linear regression - test & validation split\n",
    "LR = LinearRegression()\n",
    "LR.fit(X_train[:800000], Y_train[:800000])\n",
    "LR_rmse_train = math.sqrt(mean_squared_error(Y_train[:800000], LR.predict(X_train[:800000])))\n",
    "LR_rmse_val = math.sqrt(mean_squared_error(Y_train[800000:], LR.predict(X_train[800000:])))\n",
    "print 'Linear regression RMSE - training set = %0.5f' % LR_rmse_train\n",
    "print 'Linear regression RMSE - validation set = %0.5f' % LR_rmse_val\n",
    "print 'Baseline linear regression RMSE (leaderboard) = 0.29892'"
   ]
  },
  {
   "cell_type": "code",
   "execution_count": 15,
   "metadata": {
    "collapsed": false
   },
   "outputs": [
    {
     "name": "stdout",
     "output_type": "stream",
     "text": [
      "New linear regression RMSE = 0.29892\n",
      "Baseline linear regression RMSE (leaderboard) = 0.29892\n",
      "\n",
      "3 seconds to run baseline linear regression\n"
     ]
    }
   ],
   "source": [
    "# linear regression - training & test split\n",
    "\n",
    "start = time.time()\n",
    "\n",
    "LR = LinearRegression()\n",
    "LR.fit(X_train, Y_train)\n",
    "LR_pred = LR.predict(X_test)\n",
    "LR_rmse = math.sqrt(mean_squared_error(Y_train, LR.predict(X_train)))\n",
    "print 'New linear regression RMSE = %0.5f' % LR_rmse\n",
    "print 'Baseline linear regression RMSE (leaderboard) = 0.29892'\n",
    "# write_to_file('data/LR.csv', LR_pred)\n",
    "\n",
    "timer = time.time() - start\n",
    "print '\\n%d seconds to run baseline linear regression' % timer"
   ]
  },
  {
   "cell_type": "code",
   "execution_count": 16,
   "metadata": {
    "collapsed": false
   },
   "outputs": [
    {
     "data": {
      "text/html": [
       "<div>\n",
       "<table border=\"1\" class=\"dataframe\">\n",
       "  <thead>\n",
       "    <tr style=\"text-align: right;\">\n",
       "      <th></th>\n",
       "      <th>coefficients</th>\n",
       "      <th>features</th>\n",
       "    </tr>\n",
       "  </thead>\n",
       "  <tbody>\n",
       "    <tr>\n",
       "      <th>21</th>\n",
       "      <td>2.703548e+11</td>\n",
       "      <td>feat_199</td>\n",
       "    </tr>\n",
       "    <tr>\n",
       "      <th>24</th>\n",
       "      <td>3.663788e+09</td>\n",
       "      <td>feat_218</td>\n",
       "    </tr>\n",
       "    <tr>\n",
       "      <th>27</th>\n",
       "      <td>1.031975e+08</td>\n",
       "      <td>feat_243</td>\n",
       "    </tr>\n",
       "    <tr>\n",
       "      <th>6</th>\n",
       "      <td>3.267645e-01</td>\n",
       "      <td>feat_044</td>\n",
       "    </tr>\n",
       "    <tr>\n",
       "      <th>3</th>\n",
       "      <td>2.643649e-01</td>\n",
       "      <td>feat_007</td>\n",
       "    </tr>\n",
       "    <tr>\n",
       "      <th>5</th>\n",
       "      <td>2.248903e-01</td>\n",
       "      <td>feat_037</td>\n",
       "    </tr>\n",
       "    <tr>\n",
       "      <th>23</th>\n",
       "      <td>1.897814e-01</td>\n",
       "      <td>feat_208</td>\n",
       "    </tr>\n",
       "    <tr>\n",
       "      <th>1</th>\n",
       "      <td>1.875479e-01</td>\n",
       "      <td>feat_005</td>\n",
       "    </tr>\n",
       "    <tr>\n",
       "      <th>26</th>\n",
       "      <td>1.413031e-01</td>\n",
       "      <td>feat_226</td>\n",
       "    </tr>\n",
       "    <tr>\n",
       "      <th>17</th>\n",
       "      <td>3.905530e-02</td>\n",
       "      <td>feat_173</td>\n",
       "    </tr>\n",
       "    <tr>\n",
       "      <th>0</th>\n",
       "      <td>2.315846e-02</td>\n",
       "      <td>feat_001</td>\n",
       "    </tr>\n",
       "    <tr>\n",
       "      <th>15</th>\n",
       "      <td>1.857633e-02</td>\n",
       "      <td>feat_126</td>\n",
       "    </tr>\n",
       "    <tr>\n",
       "      <th>9</th>\n",
       "      <td>-1.819658e-02</td>\n",
       "      <td>feat_072</td>\n",
       "    </tr>\n",
       "    <tr>\n",
       "      <th>18</th>\n",
       "      <td>-2.151516e-02</td>\n",
       "      <td>feat_176</td>\n",
       "    </tr>\n",
       "    <tr>\n",
       "      <th>14</th>\n",
       "      <td>-3.018504e-02</td>\n",
       "      <td>feat_123</td>\n",
       "    </tr>\n",
       "    <tr>\n",
       "      <th>4</th>\n",
       "      <td>-5.866821e-02</td>\n",
       "      <td>feat_025</td>\n",
       "    </tr>\n",
       "    <tr>\n",
       "      <th>10</th>\n",
       "      <td>-6.192687e-02</td>\n",
       "      <td>feat_087</td>\n",
       "    </tr>\n",
       "    <tr>\n",
       "      <th>19</th>\n",
       "      <td>-6.591703e-02</td>\n",
       "      <td>feat_187</td>\n",
       "    </tr>\n",
       "    <tr>\n",
       "      <th>28</th>\n",
       "      <td>-7.182521e-02</td>\n",
       "      <td>feat_248</td>\n",
       "    </tr>\n",
       "    <tr>\n",
       "      <th>30</th>\n",
       "      <td>-7.390948e-02</td>\n",
       "      <td>feat_252</td>\n",
       "    </tr>\n",
       "    <tr>\n",
       "      <th>11</th>\n",
       "      <td>-9.452153e-02</td>\n",
       "      <td>feat_090</td>\n",
       "    </tr>\n",
       "    <tr>\n",
       "      <th>25</th>\n",
       "      <td>-1.374705e-01</td>\n",
       "      <td>feat_225</td>\n",
       "    </tr>\n",
       "    <tr>\n",
       "      <th>16</th>\n",
       "      <td>-1.749844e-01</td>\n",
       "      <td>feat_132</td>\n",
       "    </tr>\n",
       "    <tr>\n",
       "      <th>7</th>\n",
       "      <td>-2.209850e-01</td>\n",
       "      <td>feat_068</td>\n",
       "    </tr>\n",
       "    <tr>\n",
       "      <th>8</th>\n",
       "      <td>-2.882172e-01</td>\n",
       "      <td>feat_069</td>\n",
       "    </tr>\n",
       "    <tr>\n",
       "      <th>20</th>\n",
       "      <td>-3.114938e-01</td>\n",
       "      <td>feat_196</td>\n",
       "    </tr>\n",
       "    <tr>\n",
       "      <th>29</th>\n",
       "      <td>-3.180939e-01</td>\n",
       "      <td>feat_251</td>\n",
       "    </tr>\n",
       "    <tr>\n",
       "      <th>13</th>\n",
       "      <td>-4.314160e-01</td>\n",
       "      <td>feat_119</td>\n",
       "    </tr>\n",
       "    <tr>\n",
       "      <th>2</th>\n",
       "      <td>-1.031975e+08</td>\n",
       "      <td>feat_006</td>\n",
       "    </tr>\n",
       "    <tr>\n",
       "      <th>12</th>\n",
       "      <td>-3.663788e+09</td>\n",
       "      <td>feat_102</td>\n",
       "    </tr>\n",
       "    <tr>\n",
       "      <th>22</th>\n",
       "      <td>-2.703548e+11</td>\n",
       "      <td>feat_200</td>\n",
       "    </tr>\n",
       "  </tbody>\n",
       "</table>\n",
       "</div>"
      ],
      "text/plain": [
       "    coefficients  features\n",
       "21  2.703548e+11  feat_199\n",
       "24  3.663788e+09  feat_218\n",
       "27  1.031975e+08  feat_243\n",
       "6   3.267645e-01  feat_044\n",
       "3   2.643649e-01  feat_007\n",
       "5   2.248903e-01  feat_037\n",
       "23  1.897814e-01  feat_208\n",
       "1   1.875479e-01  feat_005\n",
       "26  1.413031e-01  feat_226\n",
       "17  3.905530e-02  feat_173\n",
       "0   2.315846e-02  feat_001\n",
       "15  1.857633e-02  feat_126\n",
       "9  -1.819658e-02  feat_072\n",
       "18 -2.151516e-02  feat_176\n",
       "14 -3.018504e-02  feat_123\n",
       "4  -5.866821e-02  feat_025\n",
       "10 -6.192687e-02  feat_087\n",
       "19 -6.591703e-02  feat_187\n",
       "28 -7.182521e-02  feat_248\n",
       "30 -7.390948e-02  feat_252\n",
       "11 -9.452153e-02  feat_090\n",
       "25 -1.374705e-01  feat_225\n",
       "16 -1.749844e-01  feat_132\n",
       "7  -2.209850e-01  feat_068\n",
       "8  -2.882172e-01  feat_069\n",
       "20 -3.114938e-01  feat_196\n",
       "29 -3.180939e-01  feat_251\n",
       "13 -4.314160e-01  feat_119\n",
       "2  -1.031975e+08  feat_006\n",
       "12 -3.663788e+09  feat_102\n",
       "22 -2.703548e+11  feat_200"
      ]
     },
     "execution_count": 16,
     "metadata": {},
     "output_type": "execute_result"
    }
   ],
   "source": [
    "# look for significant coefficients\n",
    "LR_coeff = pd.DataFrame({'features': lcols,'coefficients': LR.coef_})\n",
    "LR_coeff.sort_values(by=['coefficients', 'features'], ascending=False)"
   ]
  },
  {
   "cell_type": "markdown",
   "metadata": {},
   "source": [
    "**Random Forest**"
   ]
  },
  {
   "cell_type": "code",
   "execution_count": 17,
   "metadata": {
    "collapsed": false
   },
   "outputs": [
    {
     "name": "stdout",
     "output_type": "stream",
     "text": [
      "Random forest RMSE - training set = 0.27161\n",
      "Random forest RMSE - validation set = 0.27338\n",
      "Baseline random forest RMSE (leaderboard) = 0.27188\n"
     ]
    }
   ],
   "source": [
    "# random forest regressor - test & validation split\n",
    "RF = RandomForestRegressor()\n",
    "RF.fit(X_train[:800000], Y_train[:800000])\n",
    "RF_rmse_train = math.sqrt(mean_squared_error(Y_train[:800000], RF.predict(X_train[:800000])))\n",
    "RF_rmse_val = math.sqrt(mean_squared_error(Y_train[800000:], RF.predict(X_train[800000:])))\n",
    "print 'Random forest RMSE - training set = %0.5f' % RF_rmse_train\n",
    "print 'Random forest RMSE - validation set = %0.5f' % RF_rmse_val\n",
    "print 'Baseline random forest RMSE (leaderboard) = 0.27188'"
   ]
  },
  {
   "cell_type": "code",
   "execution_count": 18,
   "metadata": {
    "collapsed": false
   },
   "outputs": [
    {
     "name": "stdout",
     "output_type": "stream",
     "text": [
      "New random forest RMSE = 0.27188\n",
      "Baseline random forest RMSE (leaderboard) = 0.27188\n",
      "\n",
      "29 seconds to run baseline random forest\n"
     ]
    }
   ],
   "source": [
    "# random forest regressor - training & test split\n",
    "\n",
    "start = time.time()\n",
    "\n",
    "RF = RandomForestRegressor()\n",
    "RF.fit(X_train, Y_train)\n",
    "RF_pred = RF.predict(X_test)\n",
    "RF_rmse = math.sqrt(mean_squared_error(Y_train, RF.predict(X_train)))\n",
    "print 'New random forest RMSE = %0.5f' % RF_rmse\n",
    "print 'Baseline random forest RMSE (leaderboard) = 0.27188'\n",
    "# write_to_file('data/RF.csv', RF_pred)\n",
    "\n",
    "timer = time.time() - start\n",
    "print '\\n%d seconds to run baseline random forest' % timer"
   ]
  },
  {
   "cell_type": "code",
   "execution_count": 19,
   "metadata": {
    "collapsed": false
   },
   "outputs": [
    {
     "data": {
      "text/html": [
       "<div>\n",
       "<table border=\"1\" class=\"dataframe\">\n",
       "  <thead>\n",
       "    <tr style=\"text-align: right;\">\n",
       "      <th></th>\n",
       "      <th>coefficients</th>\n",
       "      <th>features</th>\n",
       "    </tr>\n",
       "  </thead>\n",
       "  <tbody>\n",
       "    <tr>\n",
       "      <th>4</th>\n",
       "      <td>3.176567e-01</td>\n",
       "      <td>feat_025</td>\n",
       "    </tr>\n",
       "    <tr>\n",
       "      <th>13</th>\n",
       "      <td>3.036892e-01</td>\n",
       "      <td>feat_119</td>\n",
       "    </tr>\n",
       "    <tr>\n",
       "      <th>7</th>\n",
       "      <td>7.824871e-02</td>\n",
       "      <td>feat_068</td>\n",
       "    </tr>\n",
       "    <tr>\n",
       "      <th>25</th>\n",
       "      <td>3.745894e-02</td>\n",
       "      <td>feat_225</td>\n",
       "    </tr>\n",
       "    <tr>\n",
       "      <th>29</th>\n",
       "      <td>2.998368e-02</td>\n",
       "      <td>feat_251</td>\n",
       "    </tr>\n",
       "    <tr>\n",
       "      <th>23</th>\n",
       "      <td>2.261285e-02</td>\n",
       "      <td>feat_208</td>\n",
       "    </tr>\n",
       "    <tr>\n",
       "      <th>9</th>\n",
       "      <td>2.207508e-02</td>\n",
       "      <td>feat_072</td>\n",
       "    </tr>\n",
       "    <tr>\n",
       "      <th>11</th>\n",
       "      <td>2.026754e-02</td>\n",
       "      <td>feat_090</td>\n",
       "    </tr>\n",
       "    <tr>\n",
       "      <th>17</th>\n",
       "      <td>1.949376e-02</td>\n",
       "      <td>feat_173</td>\n",
       "    </tr>\n",
       "    <tr>\n",
       "      <th>15</th>\n",
       "      <td>1.929272e-02</td>\n",
       "      <td>feat_126</td>\n",
       "    </tr>\n",
       "    <tr>\n",
       "      <th>14</th>\n",
       "      <td>1.856110e-02</td>\n",
       "      <td>feat_123</td>\n",
       "    </tr>\n",
       "    <tr>\n",
       "      <th>24</th>\n",
       "      <td>1.681509e-02</td>\n",
       "      <td>feat_218</td>\n",
       "    </tr>\n",
       "    <tr>\n",
       "      <th>19</th>\n",
       "      <td>1.498328e-02</td>\n",
       "      <td>feat_187</td>\n",
       "    </tr>\n",
       "    <tr>\n",
       "      <th>12</th>\n",
       "      <td>1.228376e-02</td>\n",
       "      <td>feat_102</td>\n",
       "    </tr>\n",
       "    <tr>\n",
       "      <th>10</th>\n",
       "      <td>9.539396e-03</td>\n",
       "      <td>feat_087</td>\n",
       "    </tr>\n",
       "    <tr>\n",
       "      <th>28</th>\n",
       "      <td>8.078424e-03</td>\n",
       "      <td>feat_248</td>\n",
       "    </tr>\n",
       "    <tr>\n",
       "      <th>27</th>\n",
       "      <td>7.771909e-03</td>\n",
       "      <td>feat_243</td>\n",
       "    </tr>\n",
       "    <tr>\n",
       "      <th>2</th>\n",
       "      <td>7.043392e-03</td>\n",
       "      <td>feat_006</td>\n",
       "    </tr>\n",
       "    <tr>\n",
       "      <th>30</th>\n",
       "      <td>6.610304e-03</td>\n",
       "      <td>feat_252</td>\n",
       "    </tr>\n",
       "    <tr>\n",
       "      <th>20</th>\n",
       "      <td>6.174714e-03</td>\n",
       "      <td>feat_196</td>\n",
       "    </tr>\n",
       "    <tr>\n",
       "      <th>0</th>\n",
       "      <td>4.745380e-03</td>\n",
       "      <td>feat_001</td>\n",
       "    </tr>\n",
       "    <tr>\n",
       "      <th>6</th>\n",
       "      <td>3.438134e-03</td>\n",
       "      <td>feat_044</td>\n",
       "    </tr>\n",
       "    <tr>\n",
       "      <th>5</th>\n",
       "      <td>3.339455e-03</td>\n",
       "      <td>feat_037</td>\n",
       "    </tr>\n",
       "    <tr>\n",
       "      <th>8</th>\n",
       "      <td>3.100815e-03</td>\n",
       "      <td>feat_069</td>\n",
       "    </tr>\n",
       "    <tr>\n",
       "      <th>18</th>\n",
       "      <td>2.924331e-03</td>\n",
       "      <td>feat_176</td>\n",
       "    </tr>\n",
       "    <tr>\n",
       "      <th>26</th>\n",
       "      <td>1.574311e-03</td>\n",
       "      <td>feat_226</td>\n",
       "    </tr>\n",
       "    <tr>\n",
       "      <th>3</th>\n",
       "      <td>8.862733e-04</td>\n",
       "      <td>feat_007</td>\n",
       "    </tr>\n",
       "    <tr>\n",
       "      <th>16</th>\n",
       "      <td>6.978784e-04</td>\n",
       "      <td>feat_132</td>\n",
       "    </tr>\n",
       "    <tr>\n",
       "      <th>21</th>\n",
       "      <td>3.779746e-04</td>\n",
       "      <td>feat_199</td>\n",
       "    </tr>\n",
       "    <tr>\n",
       "      <th>22</th>\n",
       "      <td>2.747633e-04</td>\n",
       "      <td>feat_200</td>\n",
       "    </tr>\n",
       "    <tr>\n",
       "      <th>1</th>\n",
       "      <td>7.971389e-08</td>\n",
       "      <td>feat_005</td>\n",
       "    </tr>\n",
       "  </tbody>\n",
       "</table>\n",
       "</div>"
      ],
      "text/plain": [
       "    coefficients  features\n",
       "4   3.176567e-01  feat_025\n",
       "13  3.036892e-01  feat_119\n",
       "7   7.824871e-02  feat_068\n",
       "25  3.745894e-02  feat_225\n",
       "29  2.998368e-02  feat_251\n",
       "23  2.261285e-02  feat_208\n",
       "9   2.207508e-02  feat_072\n",
       "11  2.026754e-02  feat_090\n",
       "17  1.949376e-02  feat_173\n",
       "15  1.929272e-02  feat_126\n",
       "14  1.856110e-02  feat_123\n",
       "24  1.681509e-02  feat_218\n",
       "19  1.498328e-02  feat_187\n",
       "12  1.228376e-02  feat_102\n",
       "10  9.539396e-03  feat_087\n",
       "28  8.078424e-03  feat_248\n",
       "27  7.771909e-03  feat_243\n",
       "2   7.043392e-03  feat_006\n",
       "30  6.610304e-03  feat_252\n",
       "20  6.174714e-03  feat_196\n",
       "0   4.745380e-03  feat_001\n",
       "6   3.438134e-03  feat_044\n",
       "5   3.339455e-03  feat_037\n",
       "8   3.100815e-03  feat_069\n",
       "18  2.924331e-03  feat_176\n",
       "26  1.574311e-03  feat_226\n",
       "3   8.862733e-04  feat_007\n",
       "16  6.978784e-04  feat_132\n",
       "21  3.779746e-04  feat_199\n",
       "22  2.747633e-04  feat_200\n",
       "1   7.971389e-08  feat_005"
      ]
     },
     "execution_count": 19,
     "metadata": {},
     "output_type": "execute_result"
    }
   ],
   "source": [
    "# look for important features\n",
    "RF_feat = pd.DataFrame({'features': lcols,'coefficients': RF.feature_importances_})\n",
    "RF_feat.sort_values(by=['coefficients', 'features'], ascending=False)"
   ]
  },
  {
   "cell_type": "markdown",
   "metadata": {},
   "source": [
    "<div class=\"alert alert-danger\">\n",
    "<strong>SEARCH FOR IMPROVED PREDICTORS</strong>\n",
    "</div>"
   ]
  },
  {
   "cell_type": "markdown",
   "metadata": {},
   "source": [
    "<div class=\"alert alert-info\">\n",
    "<strong>ADD SUM OF BINARY VARS</strong>\n",
    "</div>"
   ]
  },
  {
   "cell_type": "code",
   "execution_count": 21,
   "metadata": {
    "collapsed": false
   },
   "outputs": [],
   "source": [
    "# sum binary features\n",
    "sum_feat = df_all.sum(axis=1)\n",
    "df_all['sum_feat'] = sum_feat"
   ]
  },
  {
   "cell_type": "code",
   "execution_count": 22,
   "metadata": {
    "collapsed": true
   },
   "outputs": [],
   "source": [
    "# split back up into training and test data\n",
    "vals = df_all.values\n",
    "X_train = vals[:test_idx]\n",
    "X_test = vals[test_idx:]"
   ]
  },
  {
   "cell_type": "code",
   "execution_count": 23,
   "metadata": {
    "collapsed": false
   },
   "outputs": [
    {
     "name": "stdout",
     "output_type": "stream",
     "text": [
      "Linear regression RMSE - training set = 0.29875\n",
      "Linear regression RMSE - validation set = 0.29962\n",
      "Baseline linear regression RMSE (leaderboard) = 0.29892\n"
     ]
    }
   ],
   "source": [
    "# linear regression - test & validation split\n",
    "LR = LinearRegression()\n",
    "LR.fit(X_train[:800000], Y_train[:800000])\n",
    "LR_rmse_train = math.sqrt(mean_squared_error(Y_train[:800000], LR.predict(X_train[:800000])))\n",
    "LR_rmse_val = math.sqrt(mean_squared_error(Y_train[800000:], LR.predict(X_train[800000:])))\n",
    "print 'Linear regression RMSE - training set = %0.5f' % LR_rmse_train\n",
    "print 'Linear regression RMSE - validation set = %0.5f' % LR_rmse_val\n",
    "print 'Baseline linear regression RMSE (leaderboard) = 0.29892'"
   ]
  },
  {
   "cell_type": "code",
   "execution_count": 24,
   "metadata": {
    "collapsed": false
   },
   "outputs": [
    {
     "name": "stdout",
     "output_type": "stream",
     "text": [
      "New linear regression RMSE = 0.29893\n",
      "Baseline linear regression RMSE (leaderboard) = 0.29892\n",
      "\n",
      "3 seconds to run baseline linear regression\n"
     ]
    }
   ],
   "source": [
    "# linear regression - training & test split\n",
    "\n",
    "start = time.time()\n",
    "\n",
    "LR = LinearRegression()\n",
    "LR.fit(X_train, Y_train)\n",
    "LR_pred = LR.predict(X_test)\n",
    "LR_rmse = math.sqrt(mean_squared_error(Y_train, LR.predict(X_train)))\n",
    "print 'New linear regression RMSE = %0.5f' % LR_rmse\n",
    "print 'Baseline linear regression RMSE (leaderboard) = 0.29892'\n",
    "# write_to_file('data/LR.csv', LR_pred)\n",
    "\n",
    "timer = time.time() - start\n",
    "print '\\n%d seconds to run baseline linear regression' % timer"
   ]
  },
  {
   "cell_type": "code",
   "execution_count": 25,
   "metadata": {
    "collapsed": false
   },
   "outputs": [
    {
     "name": "stdout",
     "output_type": "stream",
     "text": [
      "Random forest RMSE - training set = 0.27161\n",
      "Random forest RMSE - validation set = 0.27337\n",
      "Baseline random forest RMSE (leaderboard) = 0.27188\n"
     ]
    }
   ],
   "source": [
    "# random forest regressor - test & validation split\n",
    "RF = RandomForestRegressor()\n",
    "RF.fit(X_train[:800000], Y_train[:800000])\n",
    "RF_rmse_train = math.sqrt(mean_squared_error(Y_train[:800000], RF.predict(X_train[:800000])))\n",
    "RF_rmse_val = math.sqrt(mean_squared_error(Y_train[800000:], RF.predict(X_train[800000:])))\n",
    "print 'Random forest RMSE - training set = %0.5f' % RF_rmse_train\n",
    "print 'Random forest RMSE - validation set = %0.5f' % RF_rmse_val\n",
    "print 'Baseline random forest RMSE (leaderboard) = 0.27188'"
   ]
  },
  {
   "cell_type": "code",
   "execution_count": 26,
   "metadata": {
    "collapsed": false
   },
   "outputs": [
    {
     "name": "stdout",
     "output_type": "stream",
     "text": [
      "New random forest RMSE = 0.27188\n",
      "Baseline random forest RMSE (leaderboard) = 0.27188\n",
      "\n",
      "33 seconds to run baseline random forest\n"
     ]
    }
   ],
   "source": [
    "# random forest regressor - training & test split\n",
    "\n",
    "start = time.time()\n",
    "\n",
    "RF = RandomForestRegressor()\n",
    "RF.fit(X_train, Y_train)\n",
    "RF_pred = RF.predict(X_test)\n",
    "RF_rmse = math.sqrt(mean_squared_error(Y_train, RF.predict(X_train)))\n",
    "print 'New random forest RMSE = %0.5f' % RF_rmse\n",
    "print 'Baseline random forest RMSE (leaderboard) = 0.27188'\n",
    "# write_to_file('data/RF.csv', RF_pred)\n",
    "\n",
    "timer = time.time() - start\n",
    "print '\\n%d seconds to run baseline random forest' % timer"
   ]
  },
  {
   "cell_type": "markdown",
   "metadata": {},
   "source": [
    "<div class=\"alert alert-info\">\n",
    "<strong>ADD INTERACTIONS</strong>\n",
    "</div>"
   ]
  },
  {
   "cell_type": "code",
   "execution_count": 27,
   "metadata": {
    "collapsed": false
   },
   "outputs": [
    {
     "data": {
      "text/plain": [
       "((1824230, 32), (1824230, 32))"
      ]
     },
     "execution_count": 27,
     "metadata": {},
     "output_type": "execute_result"
    }
   ],
   "source": [
    "# create new dataframe\n",
    "df_new = df_all.copy()\n",
    "df_all.shape, df_new.shape"
   ]
  },
  {
   "cell_type": "code",
   "execution_count": 33,
   "metadata": {
    "collapsed": false
   },
   "outputs": [],
   "source": [
    "# identify features to interact\n",
    "key_feat = list(df_new.columns.values)\n",
    "key_feat.remove('sum_feat')"
   ]
  },
  {
   "cell_type": "code",
   "execution_count": 34,
   "metadata": {
    "collapsed": false
   },
   "outputs": [],
   "source": [
    "# create linear combinations of key features\n",
    "for i, ft1 in enumerate(key_feat):\n",
    "    for j, ft2 in enumerate(key_feat):\n",
    "        if j<=i:\n",
    "            newft = 'feat_' + ft1[-3:] + '_' + ft2[-3:]\n",
    "            tmp = df_new[ft1] * df_new[ft2]\n",
    "            df_new[newft] = tmp"
   ]
  },
  {
   "cell_type": "code",
   "execution_count": 35,
   "metadata": {
    "collapsed": false
   },
   "outputs": [
    {
     "data": {
      "text/plain": [
       "(1824230, 528)"
      ]
     },
     "execution_count": 35,
     "metadata": {},
     "output_type": "execute_result"
    }
   ],
   "source": [
    "# new number of features\n",
    "df_new.shape"
   ]
  },
  {
   "cell_type": "code",
   "execution_count": 36,
   "metadata": {
    "collapsed": true
   },
   "outputs": [],
   "source": [
    "# split back up into training and test data\n",
    "vals = df_new.values\n",
    "X_train = vals[:test_idx]\n",
    "X_test = vals[test_idx:]"
   ]
  },
  {
   "cell_type": "code",
   "execution_count": 37,
   "metadata": {
    "collapsed": false
   },
   "outputs": [
    {
     "name": "stdout",
     "output_type": "stream",
     "text": [
      "Linear regression RMSE - training set = 0.27986\n",
      "Linear regression RMSE - validation set = 0.28072\n",
      "Baseline linear regression RMSE (leaderboard) = 0.29892\n"
     ]
    }
   ],
   "source": [
    "# linear regression - test & validation split\n",
    "LR = LinearRegression()\n",
    "LR.fit(X_train[:800000], Y_train[:800000])\n",
    "LR_rmse_train = math.sqrt(mean_squared_error(Y_train[:800000], LR.predict(X_train[:800000])))\n",
    "LR_rmse_val = math.sqrt(mean_squared_error(Y_train[800000:], LR.predict(X_train[800000:])))\n",
    "print 'Linear regression RMSE - training set = %0.5f' % LR_rmse_train\n",
    "print 'Linear regression RMSE - validation set = %0.5f' % LR_rmse_val\n",
    "print 'Baseline linear regression RMSE (leaderboard) = 0.29892'"
   ]
  },
  {
   "cell_type": "code",
   "execution_count": 38,
   "metadata": {
    "collapsed": false
   },
   "outputs": [
    {
     "name": "stdout",
     "output_type": "stream",
     "text": [
      "New linear regression RMSE = 0.28001\n",
      "Baseline linear regression RMSE (leaderboard) = 0.29892\n",
      "\n",
      "240 seconds to run baseline linear regression\n"
     ]
    }
   ],
   "source": [
    "# linear regression - training & test split\n",
    "\n",
    "start = time.time()\n",
    "\n",
    "LR = LinearRegression()\n",
    "LR.fit(X_train, Y_train)\n",
    "LR_pred = LR.predict(X_test)\n",
    "LR_rmse = math.sqrt(mean_squared_error(Y_train, LR.predict(X_train)))\n",
    "print 'New linear regression RMSE = %0.5f' % LR_rmse\n",
    "print 'Baseline linear regression RMSE (leaderboard) = 0.29892'\n",
    "# write_to_file('data/LR.csv', LR_pred)\n",
    "\n",
    "timer = time.time() - start\n",
    "print '\\n%d seconds to run baseline linear regression' % timer"
   ]
  },
  {
   "cell_type": "code",
   "execution_count": 39,
   "metadata": {
    "collapsed": false
   },
   "outputs": [
    {
     "name": "stdout",
     "output_type": "stream",
     "text": [
      "Random forest RMSE - training set = 0.27161\n",
      "Random forest RMSE - validation set = 0.27338\n",
      "Baseline random forest RMSE (leaderboard) = 0.27188\n"
     ]
    }
   ],
   "source": [
    "# random forest regressor - test & validation split\n",
    "RF = RandomForestRegressor()\n",
    "RF.fit(X_train[:800000], Y_train[:800000])\n",
    "RF_rmse_train = math.sqrt(mean_squared_error(Y_train[:800000], RF.predict(X_train[:800000])))\n",
    "RF_rmse_val = math.sqrt(mean_squared_error(Y_train[800000:], RF.predict(X_train[800000:])))\n",
    "print 'Random forest RMSE - training set = %0.5f' % RF_rmse_train\n",
    "print 'Random forest RMSE - validation set = %0.5f' % RF_rmse_val\n",
    "print 'Baseline random forest RMSE (leaderboard) = 0.27188'"
   ]
  },
  {
   "cell_type": "code",
   "execution_count": 40,
   "metadata": {
    "collapsed": false
   },
   "outputs": [
    {
     "name": "stdout",
     "output_type": "stream",
     "text": [
      "New random forest RMSE = 0.27188\n",
      "Baseline random forest RMSE (leaderboard) = 0.27188\n",
      "\n",
      "502 seconds to run baseline random forest\n"
     ]
    }
   ],
   "source": [
    "# random forest regressor - training & test split\n",
    "\n",
    "start = time.time()\n",
    "\n",
    "RF = RandomForestRegressor()\n",
    "RF.fit(X_train, Y_train)\n",
    "RF_pred = RF.predict(X_test)\n",
    "RF_rmse = math.sqrt(mean_squared_error(Y_train, RF.predict(X_train)))\n",
    "print 'New random forest RMSE = %0.5f' % RF_rmse\n",
    "print 'Baseline random forest RMSE (leaderboard) = 0.27188'\n",
    "# write_to_file('data/RF.csv', RF_pred)\n",
    "\n",
    "timer = time.time() - start\n",
    "print '\\n%d seconds to run baseline random forest' % timer"
   ]
  }
 ],
 "metadata": {
  "kernelspec": {
   "display_name": "Python 2",
   "language": "python",
   "name": "python2"
  },
  "language_info": {
   "codemirror_mode": {
    "name": "ipython",
    "version": 2
   },
   "file_extension": ".py",
   "mimetype": "text/x-python",
   "name": "python",
   "nbconvert_exporter": "python",
   "pygments_lexer": "ipython2",
   "version": "2.7.11"
  }
 },
 "nbformat": 4,
 "nbformat_minor": 0
}

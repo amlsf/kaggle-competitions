{
 "cells": [
  {
   "cell_type": "code",
   "execution_count": 1,
   "metadata": {
    "collapsed": false
   },
   "outputs": [
    {
     "data": {
      "text/plain": [
       "'2.7.11 |Anaconda 2.4.1 (x86_64)| (default, Dec  6 2015, 18:57:58) \\n[GCC 4.2.1 (Apple Inc. build 5577)]'"
      ]
     },
     "execution_count": 1,
     "metadata": {},
     "output_type": "execute_result"
    }
   ],
   "source": [
    "import sys\n",
    "sys.version"
   ]
  },
  {
   "cell_type": "code",
   "execution_count": 2,
   "metadata": {
    "collapsed": true
   },
   "outputs": [],
   "source": [
    "import math\n",
    "import time"
   ]
  },
  {
   "cell_type": "code",
   "execution_count": 3,
   "metadata": {
    "collapsed": false
   },
   "outputs": [],
   "source": [
    "import pandas as pd\n",
    "import numpy as np\n",
    "import matplotlib.pyplot as plt\n",
    "%matplotlib inline\n",
    "\n",
    "from sklearn.linear_model import LinearRegression\n",
    "from sklearn.ensemble import RandomForestRegressor\n",
    "from sklearn.metrics import *"
   ]
  },
  {
   "cell_type": "markdown",
   "metadata": {},
   "source": [
    "<div class=\"alert alert-info\">\n",
    "<strong>LOAD DATA</strong>\n",
    "</div>"
   ]
  },
  {
   "cell_type": "code",
   "execution_count": 4,
   "metadata": {
    "collapsed": false
   },
   "outputs": [
    {
     "name": "stdout",
     "output_type": "stream",
     "text": [
      "67 seconds to load data\n"
     ]
    }
   ],
   "source": [
    "start = time.time()\n",
    "\n",
    "\"\"\"\n",
    "Read in train and test as Pandas DataFrames\n",
    "\"\"\"\n",
    "df_train = pd.read_csv(\"train.csv\")\n",
    "df_test = pd.read_csv(\"test.csv\")\n",
    "\n",
    "timer = time.time() - start\n",
    "print '%d seconds to load data' % timer"
   ]
  },
  {
   "cell_type": "code",
   "execution_count": 5,
   "metadata": {
    "collapsed": false,
    "scrolled": true
   },
   "outputs": [
    {
     "data": {
      "text/html": [
       "<div>\n",
       "<table border=\"1\" class=\"dataframe\">\n",
       "  <thead>\n",
       "    <tr style=\"text-align: right;\">\n",
       "      <th></th>\n",
       "      <th>smiles</th>\n",
       "      <th>feat_001</th>\n",
       "      <th>feat_002</th>\n",
       "      <th>feat_003</th>\n",
       "      <th>feat_004</th>\n",
       "      <th>feat_005</th>\n",
       "      <th>feat_006</th>\n",
       "      <th>feat_007</th>\n",
       "      <th>feat_008</th>\n",
       "      <th>feat_009</th>\n",
       "      <th>...</th>\n",
       "      <th>feat_248</th>\n",
       "      <th>feat_249</th>\n",
       "      <th>feat_250</th>\n",
       "      <th>feat_251</th>\n",
       "      <th>feat_252</th>\n",
       "      <th>feat_253</th>\n",
       "      <th>feat_254</th>\n",
       "      <th>feat_255</th>\n",
       "      <th>feat_256</th>\n",
       "      <th>gap</th>\n",
       "    </tr>\n",
       "  </thead>\n",
       "  <tbody>\n",
       "    <tr>\n",
       "      <th>0</th>\n",
       "      <td>c1ccc(o1)-c1ccc(s1)-c1cnc(-c2scc3[se]ccc23)c2n...</td>\n",
       "      <td>0</td>\n",
       "      <td>0</td>\n",
       "      <td>0</td>\n",
       "      <td>0</td>\n",
       "      <td>1</td>\n",
       "      <td>0</td>\n",
       "      <td>1</td>\n",
       "      <td>0</td>\n",
       "      <td>0</td>\n",
       "      <td>...</td>\n",
       "      <td>1</td>\n",
       "      <td>0</td>\n",
       "      <td>0</td>\n",
       "      <td>0</td>\n",
       "      <td>0</td>\n",
       "      <td>0</td>\n",
       "      <td>0</td>\n",
       "      <td>0</td>\n",
       "      <td>0</td>\n",
       "      <td>1.19</td>\n",
       "    </tr>\n",
       "    <tr>\n",
       "      <th>1</th>\n",
       "      <td>C1=CC=C(C1)c1cc2ncc3c4[SiH2]C=Cc4ncc3c2c2=C[Si...</td>\n",
       "      <td>1</td>\n",
       "      <td>0</td>\n",
       "      <td>0</td>\n",
       "      <td>0</td>\n",
       "      <td>1</td>\n",
       "      <td>0</td>\n",
       "      <td>1</td>\n",
       "      <td>0</td>\n",
       "      <td>0</td>\n",
       "      <td>...</td>\n",
       "      <td>1</td>\n",
       "      <td>0</td>\n",
       "      <td>0</td>\n",
       "      <td>1</td>\n",
       "      <td>0</td>\n",
       "      <td>0</td>\n",
       "      <td>0</td>\n",
       "      <td>0</td>\n",
       "      <td>0</td>\n",
       "      <td>1.60</td>\n",
       "    </tr>\n",
       "    <tr>\n",
       "      <th>2</th>\n",
       "      <td>[nH]1c-2c([SiH2]c3cc(-c4scc5C=CCc45)c4nsnc4c-2...</td>\n",
       "      <td>1</td>\n",
       "      <td>0</td>\n",
       "      <td>0</td>\n",
       "      <td>0</td>\n",
       "      <td>1</td>\n",
       "      <td>1</td>\n",
       "      <td>1</td>\n",
       "      <td>0</td>\n",
       "      <td>0</td>\n",
       "      <td>...</td>\n",
       "      <td>1</td>\n",
       "      <td>0</td>\n",
       "      <td>0</td>\n",
       "      <td>0</td>\n",
       "      <td>1</td>\n",
       "      <td>0</td>\n",
       "      <td>0</td>\n",
       "      <td>0</td>\n",
       "      <td>0</td>\n",
       "      <td>1.49</td>\n",
       "    </tr>\n",
       "    <tr>\n",
       "      <th>3</th>\n",
       "      <td>[nH]1c2-c3occc3Cc2c2c1cc(-c1cccc3=C[SiH2]C=c13...</td>\n",
       "      <td>1</td>\n",
       "      <td>0</td>\n",
       "      <td>0</td>\n",
       "      <td>0</td>\n",
       "      <td>1</td>\n",
       "      <td>1</td>\n",
       "      <td>1</td>\n",
       "      <td>0</td>\n",
       "      <td>0</td>\n",
       "      <td>...</td>\n",
       "      <td>1</td>\n",
       "      <td>0</td>\n",
       "      <td>0</td>\n",
       "      <td>0</td>\n",
       "      <td>1</td>\n",
       "      <td>0</td>\n",
       "      <td>0</td>\n",
       "      <td>0</td>\n",
       "      <td>0</td>\n",
       "      <td>1.36</td>\n",
       "    </tr>\n",
       "    <tr>\n",
       "      <th>4</th>\n",
       "      <td>c1cnc2c3oc4cc(-c5ncncn5)c5nsnc5c4c3c3cocc3c2c1</td>\n",
       "      <td>0</td>\n",
       "      <td>0</td>\n",
       "      <td>0</td>\n",
       "      <td>0</td>\n",
       "      <td>1</td>\n",
       "      <td>0</td>\n",
       "      <td>1</td>\n",
       "      <td>0</td>\n",
       "      <td>0</td>\n",
       "      <td>...</td>\n",
       "      <td>1</td>\n",
       "      <td>0</td>\n",
       "      <td>0</td>\n",
       "      <td>0</td>\n",
       "      <td>0</td>\n",
       "      <td>0</td>\n",
       "      <td>0</td>\n",
       "      <td>0</td>\n",
       "      <td>0</td>\n",
       "      <td>1.98</td>\n",
       "    </tr>\n",
       "  </tbody>\n",
       "</table>\n",
       "<p>5 rows × 258 columns</p>\n",
       "</div>"
      ],
      "text/plain": [
       "                                              smiles  feat_001  feat_002  \\\n",
       "0  c1ccc(o1)-c1ccc(s1)-c1cnc(-c2scc3[se]ccc23)c2n...         0         0   \n",
       "1  C1=CC=C(C1)c1cc2ncc3c4[SiH2]C=Cc4ncc3c2c2=C[Si...         1         0   \n",
       "2  [nH]1c-2c([SiH2]c3cc(-c4scc5C=CCc45)c4nsnc4c-2...         1         0   \n",
       "3  [nH]1c2-c3occc3Cc2c2c1cc(-c1cccc3=C[SiH2]C=c13...         1         0   \n",
       "4     c1cnc2c3oc4cc(-c5ncncn5)c5nsnc5c4c3c3cocc3c2c1         0         0   \n",
       "\n",
       "   feat_003  feat_004  feat_005  feat_006  feat_007  feat_008  feat_009  ...   \\\n",
       "0         0         0         1         0         1         0         0  ...    \n",
       "1         0         0         1         0         1         0         0  ...    \n",
       "2         0         0         1         1         1         0         0  ...    \n",
       "3         0         0         1         1         1         0         0  ...    \n",
       "4         0         0         1         0         1         0         0  ...    \n",
       "\n",
       "   feat_248  feat_249  feat_250  feat_251  feat_252  feat_253  feat_254  \\\n",
       "0         1         0         0         0         0         0         0   \n",
       "1         1         0         0         1         0         0         0   \n",
       "2         1         0         0         0         1         0         0   \n",
       "3         1         0         0         0         1         0         0   \n",
       "4         1         0         0         0         0         0         0   \n",
       "\n",
       "   feat_255  feat_256   gap  \n",
       "0         0         0  1.19  \n",
       "1         0         0  1.60  \n",
       "2         0         0  1.49  \n",
       "3         0         0  1.36  \n",
       "4         0         0  1.98  \n",
       "\n",
       "[5 rows x 258 columns]"
      ]
     },
     "execution_count": 5,
     "metadata": {},
     "output_type": "execute_result"
    }
   ],
   "source": [
    "df_train.head()"
   ]
  },
  {
   "cell_type": "code",
   "execution_count": 6,
   "metadata": {
    "collapsed": false,
    "scrolled": true
   },
   "outputs": [
    {
     "data": {
      "text/html": [
       "<div>\n",
       "<table border=\"1\" class=\"dataframe\">\n",
       "  <thead>\n",
       "    <tr style=\"text-align: right;\">\n",
       "      <th></th>\n",
       "      <th>Id</th>\n",
       "      <th>smiles</th>\n",
       "      <th>feat_001</th>\n",
       "      <th>feat_002</th>\n",
       "      <th>feat_003</th>\n",
       "      <th>feat_004</th>\n",
       "      <th>feat_005</th>\n",
       "      <th>feat_006</th>\n",
       "      <th>feat_007</th>\n",
       "      <th>feat_008</th>\n",
       "      <th>...</th>\n",
       "      <th>feat_247</th>\n",
       "      <th>feat_248</th>\n",
       "      <th>feat_249</th>\n",
       "      <th>feat_250</th>\n",
       "      <th>feat_251</th>\n",
       "      <th>feat_252</th>\n",
       "      <th>feat_253</th>\n",
       "      <th>feat_254</th>\n",
       "      <th>feat_255</th>\n",
       "      <th>feat_256</th>\n",
       "    </tr>\n",
       "  </thead>\n",
       "  <tbody>\n",
       "    <tr>\n",
       "      <th>0</th>\n",
       "      <td>1</td>\n",
       "      <td>c1sc(-c2cnc3c(c2)c2nsnc2c2cc4cccnc4cc32)c2cc[n...</td>\n",
       "      <td>0</td>\n",
       "      <td>0</td>\n",
       "      <td>0</td>\n",
       "      <td>0</td>\n",
       "      <td>1</td>\n",
       "      <td>1</td>\n",
       "      <td>1</td>\n",
       "      <td>0</td>\n",
       "      <td>...</td>\n",
       "      <td>0</td>\n",
       "      <td>1</td>\n",
       "      <td>0</td>\n",
       "      <td>0</td>\n",
       "      <td>0</td>\n",
       "      <td>0</td>\n",
       "      <td>0</td>\n",
       "      <td>0</td>\n",
       "      <td>0</td>\n",
       "      <td>0</td>\n",
       "    </tr>\n",
       "    <tr>\n",
       "      <th>1</th>\n",
       "      <td>2</td>\n",
       "      <td>[nH]1cccc1-c1cc2c3nsnc3c3c4sccc4[nH]c3c2s1</td>\n",
       "      <td>0</td>\n",
       "      <td>0</td>\n",
       "      <td>0</td>\n",
       "      <td>0</td>\n",
       "      <td>1</td>\n",
       "      <td>1</td>\n",
       "      <td>1</td>\n",
       "      <td>0</td>\n",
       "      <td>...</td>\n",
       "      <td>0</td>\n",
       "      <td>1</td>\n",
       "      <td>0</td>\n",
       "      <td>0</td>\n",
       "      <td>0</td>\n",
       "      <td>0</td>\n",
       "      <td>0</td>\n",
       "      <td>0</td>\n",
       "      <td>0</td>\n",
       "      <td>0</td>\n",
       "    </tr>\n",
       "    <tr>\n",
       "      <th>2</th>\n",
       "      <td>3</td>\n",
       "      <td>[nH]1c2cc(-c3ccc[se]3)c3nsnc3c2c2c3cscc3c3ccc4...</td>\n",
       "      <td>1</td>\n",
       "      <td>0</td>\n",
       "      <td>0</td>\n",
       "      <td>0</td>\n",
       "      <td>1</td>\n",
       "      <td>1</td>\n",
       "      <td>1</td>\n",
       "      <td>0</td>\n",
       "      <td>...</td>\n",
       "      <td>0</td>\n",
       "      <td>1</td>\n",
       "      <td>0</td>\n",
       "      <td>0</td>\n",
       "      <td>0</td>\n",
       "      <td>0</td>\n",
       "      <td>0</td>\n",
       "      <td>0</td>\n",
       "      <td>0</td>\n",
       "      <td>0</td>\n",
       "    </tr>\n",
       "    <tr>\n",
       "      <th>3</th>\n",
       "      <td>4</td>\n",
       "      <td>[nH]1c(cc2cnc3c(c12)c1=C[SiH2]C=c1c1ccc2=CCC=c...</td>\n",
       "      <td>1</td>\n",
       "      <td>0</td>\n",
       "      <td>0</td>\n",
       "      <td>0</td>\n",
       "      <td>1</td>\n",
       "      <td>1</td>\n",
       "      <td>1</td>\n",
       "      <td>0</td>\n",
       "      <td>...</td>\n",
       "      <td>0</td>\n",
       "      <td>1</td>\n",
       "      <td>0</td>\n",
       "      <td>0</td>\n",
       "      <td>0</td>\n",
       "      <td>0</td>\n",
       "      <td>0</td>\n",
       "      <td>0</td>\n",
       "      <td>0</td>\n",
       "      <td>0</td>\n",
       "    </tr>\n",
       "    <tr>\n",
       "      <th>4</th>\n",
       "      <td>5</td>\n",
       "      <td>c1sc(-c2sc(-c3sc(-c4scc5[se]ccc45)c4ccoc34)c3c...</td>\n",
       "      <td>0</td>\n",
       "      <td>0</td>\n",
       "      <td>0</td>\n",
       "      <td>0</td>\n",
       "      <td>1</td>\n",
       "      <td>0</td>\n",
       "      <td>1</td>\n",
       "      <td>0</td>\n",
       "      <td>...</td>\n",
       "      <td>0</td>\n",
       "      <td>1</td>\n",
       "      <td>0</td>\n",
       "      <td>0</td>\n",
       "      <td>0</td>\n",
       "      <td>0</td>\n",
       "      <td>0</td>\n",
       "      <td>0</td>\n",
       "      <td>0</td>\n",
       "      <td>0</td>\n",
       "    </tr>\n",
       "  </tbody>\n",
       "</table>\n",
       "<p>5 rows × 258 columns</p>\n",
       "</div>"
      ],
      "text/plain": [
       "   Id                                             smiles  feat_001  feat_002  \\\n",
       "0   1  c1sc(-c2cnc3c(c2)c2nsnc2c2cc4cccnc4cc32)c2cc[n...         0         0   \n",
       "1   2         [nH]1cccc1-c1cc2c3nsnc3c3c4sccc4[nH]c3c2s1         0         0   \n",
       "2   3  [nH]1c2cc(-c3ccc[se]3)c3nsnc3c2c2c3cscc3c3ccc4...         1         0   \n",
       "3   4  [nH]1c(cc2cnc3c(c12)c1=C[SiH2]C=c1c1ccc2=CCC=c...         1         0   \n",
       "4   5  c1sc(-c2sc(-c3sc(-c4scc5[se]ccc45)c4ccoc34)c3c...         0         0   \n",
       "\n",
       "   feat_003  feat_004  feat_005  feat_006  feat_007  feat_008    ...     \\\n",
       "0         0         0         1         1         1         0    ...      \n",
       "1         0         0         1         1         1         0    ...      \n",
       "2         0         0         1         1         1         0    ...      \n",
       "3         0         0         1         1         1         0    ...      \n",
       "4         0         0         1         0         1         0    ...      \n",
       "\n",
       "   feat_247  feat_248  feat_249  feat_250  feat_251  feat_252  feat_253  \\\n",
       "0         0         1         0         0         0         0         0   \n",
       "1         0         1         0         0         0         0         0   \n",
       "2         0         1         0         0         0         0         0   \n",
       "3         0         1         0         0         0         0         0   \n",
       "4         0         1         0         0         0         0         0   \n",
       "\n",
       "   feat_254  feat_255  feat_256  \n",
       "0         0         0         0  \n",
       "1         0         0         0  \n",
       "2         0         0         0  \n",
       "3         0         0         0  \n",
       "4         0         0         0  \n",
       "\n",
       "[5 rows x 258 columns]"
      ]
     },
     "execution_count": 6,
     "metadata": {},
     "output_type": "execute_result"
    }
   ],
   "source": [
    "df_test.head()"
   ]
  },
  {
   "cell_type": "markdown",
   "metadata": {},
   "source": [
    "<div class=\"alert alert-info\">\n",
    "<strong>CREATION OF VALIDATION SET FROM TRAINING DATA</strong>\n",
    "</div>"
   ]
  },
  {
   "cell_type": "markdown",
   "metadata": {},
   "source": [
    "Given the abundance of training data, we have chosen to use a validation set (or \"test set\" within our training set) to help us compare some of the different models we construct before trying them on the Kaggle set.  We use a common 80-20 split for this purpose. (Reference: http://stackoverflow.com/questions/13610074/is-there-a-rule-of-thumb-for-how-to-divide-a-dataset-into-training-and-validatio)"
   ]
  },
  {
   "cell_type": "code",
   "execution_count": 5,
   "metadata": {
    "collapsed": false
   },
   "outputs": [
    {
     "name": "stdout",
     "output_type": "stream",
     "text": [
      "Total # of observations:  1000000\n",
      "# for use in training set:  800000\n"
     ]
    }
   ],
   "source": [
    "# construct validation set (80-20)\n",
    "cutoff = df_train.shape[0]*4/5\n",
    "print \"Total # of observations: \", df_train.shape[0]\n",
    "print \"# for use in training set: \", cutoff"
   ]
  },
  {
   "cell_type": "code",
   "execution_count": 6,
   "metadata": {
    "collapsed": false
   },
   "outputs": [],
   "source": [
    "#store gap values\n",
    "#Y_train = df_train.gap.values\n",
    "Y_all = df_train.gap.values\n",
    "Y_train = Y_all[:cutoff]\n",
    "Y_valid = Y_all[cutoff:]\n",
    "\n",
    "#row where testing examples start\n",
    "test_idx = df_train.shape[0]\n",
    "#delete 'Id' column: we should consider saving this if there's a chance the numbers were not ordered\n",
    "df_test = df_test.drop(['Id'], axis=1)\n",
    "#delete 'gap' column\n",
    "df_train = df_train.drop(['gap'], axis=1)"
   ]
  },
  {
   "cell_type": "code",
   "execution_count": 7,
   "metadata": {
    "collapsed": false
   },
   "outputs": [
    {
     "data": {
      "text/html": [
       "<div>\n",
       "<table border=\"1\" class=\"dataframe\">\n",
       "  <thead>\n",
       "    <tr style=\"text-align: right;\">\n",
       "      <th></th>\n",
       "      <th>smiles</th>\n",
       "      <th>feat_001</th>\n",
       "      <th>feat_002</th>\n",
       "      <th>feat_003</th>\n",
       "      <th>feat_004</th>\n",
       "      <th>feat_005</th>\n",
       "      <th>feat_006</th>\n",
       "      <th>feat_007</th>\n",
       "      <th>feat_008</th>\n",
       "      <th>feat_009</th>\n",
       "      <th>...</th>\n",
       "      <th>feat_247</th>\n",
       "      <th>feat_248</th>\n",
       "      <th>feat_249</th>\n",
       "      <th>feat_250</th>\n",
       "      <th>feat_251</th>\n",
       "      <th>feat_252</th>\n",
       "      <th>feat_253</th>\n",
       "      <th>feat_254</th>\n",
       "      <th>feat_255</th>\n",
       "      <th>feat_256</th>\n",
       "    </tr>\n",
       "  </thead>\n",
       "  <tbody>\n",
       "    <tr>\n",
       "      <th>0</th>\n",
       "      <td>c1ccc(o1)-c1ccc(s1)-c1cnc(-c2scc3[se]ccc23)c2n...</td>\n",
       "      <td>0</td>\n",
       "      <td>0</td>\n",
       "      <td>0</td>\n",
       "      <td>0</td>\n",
       "      <td>1</td>\n",
       "      <td>0</td>\n",
       "      <td>1</td>\n",
       "      <td>0</td>\n",
       "      <td>0</td>\n",
       "      <td>...</td>\n",
       "      <td>0</td>\n",
       "      <td>1</td>\n",
       "      <td>0</td>\n",
       "      <td>0</td>\n",
       "      <td>0</td>\n",
       "      <td>0</td>\n",
       "      <td>0</td>\n",
       "      <td>0</td>\n",
       "      <td>0</td>\n",
       "      <td>0</td>\n",
       "    </tr>\n",
       "    <tr>\n",
       "      <th>1</th>\n",
       "      <td>C1=CC=C(C1)c1cc2ncc3c4[SiH2]C=Cc4ncc3c2c2=C[Si...</td>\n",
       "      <td>1</td>\n",
       "      <td>0</td>\n",
       "      <td>0</td>\n",
       "      <td>0</td>\n",
       "      <td>1</td>\n",
       "      <td>0</td>\n",
       "      <td>1</td>\n",
       "      <td>0</td>\n",
       "      <td>0</td>\n",
       "      <td>...</td>\n",
       "      <td>0</td>\n",
       "      <td>1</td>\n",
       "      <td>0</td>\n",
       "      <td>0</td>\n",
       "      <td>1</td>\n",
       "      <td>0</td>\n",
       "      <td>0</td>\n",
       "      <td>0</td>\n",
       "      <td>0</td>\n",
       "      <td>0</td>\n",
       "    </tr>\n",
       "    <tr>\n",
       "      <th>2</th>\n",
       "      <td>[nH]1c-2c([SiH2]c3cc(-c4scc5C=CCc45)c4nsnc4c-2...</td>\n",
       "      <td>1</td>\n",
       "      <td>0</td>\n",
       "      <td>0</td>\n",
       "      <td>0</td>\n",
       "      <td>1</td>\n",
       "      <td>1</td>\n",
       "      <td>1</td>\n",
       "      <td>0</td>\n",
       "      <td>0</td>\n",
       "      <td>...</td>\n",
       "      <td>0</td>\n",
       "      <td>1</td>\n",
       "      <td>0</td>\n",
       "      <td>0</td>\n",
       "      <td>0</td>\n",
       "      <td>1</td>\n",
       "      <td>0</td>\n",
       "      <td>0</td>\n",
       "      <td>0</td>\n",
       "      <td>0</td>\n",
       "    </tr>\n",
       "    <tr>\n",
       "      <th>3</th>\n",
       "      <td>[nH]1c2-c3occc3Cc2c2c1cc(-c1cccc3=C[SiH2]C=c13...</td>\n",
       "      <td>1</td>\n",
       "      <td>0</td>\n",
       "      <td>0</td>\n",
       "      <td>0</td>\n",
       "      <td>1</td>\n",
       "      <td>1</td>\n",
       "      <td>1</td>\n",
       "      <td>0</td>\n",
       "      <td>0</td>\n",
       "      <td>...</td>\n",
       "      <td>0</td>\n",
       "      <td>1</td>\n",
       "      <td>0</td>\n",
       "      <td>0</td>\n",
       "      <td>0</td>\n",
       "      <td>1</td>\n",
       "      <td>0</td>\n",
       "      <td>0</td>\n",
       "      <td>0</td>\n",
       "      <td>0</td>\n",
       "    </tr>\n",
       "    <tr>\n",
       "      <th>4</th>\n",
       "      <td>c1cnc2c3oc4cc(-c5ncncn5)c5nsnc5c4c3c3cocc3c2c1</td>\n",
       "      <td>0</td>\n",
       "      <td>0</td>\n",
       "      <td>0</td>\n",
       "      <td>0</td>\n",
       "      <td>1</td>\n",
       "      <td>0</td>\n",
       "      <td>1</td>\n",
       "      <td>0</td>\n",
       "      <td>0</td>\n",
       "      <td>...</td>\n",
       "      <td>0</td>\n",
       "      <td>1</td>\n",
       "      <td>0</td>\n",
       "      <td>0</td>\n",
       "      <td>0</td>\n",
       "      <td>0</td>\n",
       "      <td>0</td>\n",
       "      <td>0</td>\n",
       "      <td>0</td>\n",
       "      <td>0</td>\n",
       "    </tr>\n",
       "  </tbody>\n",
       "</table>\n",
       "<p>5 rows × 257 columns</p>\n",
       "</div>"
      ],
      "text/plain": [
       "                                              smiles  feat_001  feat_002  \\\n",
       "0  c1ccc(o1)-c1ccc(s1)-c1cnc(-c2scc3[se]ccc23)c2n...         0         0   \n",
       "1  C1=CC=C(C1)c1cc2ncc3c4[SiH2]C=Cc4ncc3c2c2=C[Si...         1         0   \n",
       "2  [nH]1c-2c([SiH2]c3cc(-c4scc5C=CCc45)c4nsnc4c-2...         1         0   \n",
       "3  [nH]1c2-c3occc3Cc2c2c1cc(-c1cccc3=C[SiH2]C=c13...         1         0   \n",
       "4     c1cnc2c3oc4cc(-c5ncncn5)c5nsnc5c4c3c3cocc3c2c1         0         0   \n",
       "\n",
       "   feat_003  feat_004  feat_005  feat_006  feat_007  feat_008  feat_009  \\\n",
       "0         0         0         1         0         1         0         0   \n",
       "1         0         0         1         0         1         0         0   \n",
       "2         0         0         1         1         1         0         0   \n",
       "3         0         0         1         1         1         0         0   \n",
       "4         0         0         1         0         1         0         0   \n",
       "\n",
       "     ...     feat_247  feat_248  feat_249  feat_250  feat_251  feat_252  \\\n",
       "0    ...            0         1         0         0         0         0   \n",
       "1    ...            0         1         0         0         1         0   \n",
       "2    ...            0         1         0         0         0         1   \n",
       "3    ...            0         1         0         0         0         1   \n",
       "4    ...            0         1         0         0         0         0   \n",
       "\n",
       "   feat_253  feat_254  feat_255  feat_256  \n",
       "0         0         0         0         0  \n",
       "1         0         0         0         0  \n",
       "2         0         0         0         0  \n",
       "3         0         0         0         0  \n",
       "4         0         0         0         0  \n",
       "\n",
       "[5 rows x 257 columns]"
      ]
     },
     "execution_count": 7,
     "metadata": {},
     "output_type": "execute_result"
    }
   ],
   "source": [
    "#DataFrame with all train and test examples so we can more easily apply feature engineering on\n",
    "df_all = pd.concat((df_train, df_test), axis=0, ignore_index=True)\n",
    "df_all.head()"
   ]
  },
  {
   "cell_type": "code",
   "execution_count": 8,
   "metadata": {
    "collapsed": false
   },
   "outputs": [
    {
     "data": {
      "text/plain": [
       "(1824230,)"
      ]
     },
     "execution_count": 8,
     "metadata": {},
     "output_type": "execute_result"
    }
   ],
   "source": [
    "# save smiles column\n",
    "smiles = df_all['smiles']\n",
    "smiles.shape"
   ]
  },
  {
   "cell_type": "code",
   "execution_count": 9,
   "metadata": {
    "collapsed": false
   },
   "outputs": [
    {
     "name": "stdout",
     "output_type": "stream",
     "text": [
      "Train features:  (800000, 256)\n",
      "Validation set:  (200000, 256)\n",
      "Train gap:  (800000,)\n",
      "Validation set for gap:  (200000,)\n",
      "Test features: (824230, 256)\n"
     ]
    }
   ],
   "source": [
    "#Drop the 'smiles' column\n",
    "df_all = df_all.drop(['smiles'], axis=1)\n",
    "vals = df_all.values  # converts data to numpy format (array)\n",
    "\n",
    "#X_train = vals[:test_idx]\n",
    "X_train = vals[:cutoff]\n",
    "X_valid = vals[cutoff:test_idx]\n",
    "X_test = vals[test_idx:]\n",
    "\n",
    "print \"Train features: \", X_train.shape\n",
    "print \"Validation set: \", X_valid.shape\n",
    "print \"Train gap: \", Y_train.shape\n",
    "print \"Validation set for gap: \", Y_valid.shape\n",
    "print \"Test features:\", X_test.shape"
   ]
  },
  {
   "cell_type": "code",
   "execution_count": 12,
   "metadata": {
    "collapsed": false
   },
   "outputs": [
    {
     "data": {
      "text/plain": [
       "(1824230, 256)"
      ]
     },
     "execution_count": 12,
     "metadata": {},
     "output_type": "execute_result"
    }
   ],
   "source": [
    "vals.shape"
   ]
  },
  {
   "cell_type": "code",
   "execution_count": 13,
   "metadata": {
    "collapsed": false
   },
   "outputs": [
    {
     "data": {
      "text/plain": [
       "1000000"
      ]
     },
     "execution_count": 13,
     "metadata": {},
     "output_type": "execute_result"
    }
   ],
   "source": [
    "test_idx"
   ]
  },
  {
   "cell_type": "code",
   "execution_count": 10,
   "metadata": {
    "collapsed": true
   },
   "outputs": [],
   "source": [
    "X_all = vals[:test_idx]"
   ]
  },
  {
   "cell_type": "markdown",
   "metadata": {},
   "source": [
    "<div class=\"alert alert-info\">\n",
    "<strong>BASELINE PREDICTORS</strong>\n",
    "</div>"
   ]
  },
  {
   "cell_type": "markdown",
   "metadata": {},
   "source": [
    "## linear regression"
   ]
  },
  {
   "cell_type": "code",
   "execution_count": 15,
   "metadata": {
    "collapsed": false
   },
   "outputs": [
    {
     "name": "stdout",
     "output_type": "stream",
     "text": [
      "\n",
      "25 seconds to run baseline linear regression\n"
     ]
    }
   ],
   "source": [
    "start = time.time()\n",
    "\n",
    "LR = LinearRegression()\n",
    "#LR.fit(X_train, Y_train)\n",
    "LR.fit(X_all, Y_all) # original\n",
    "LR_pred = LR.predict(X_test)\n",
    "\n",
    "timer = time.time() - start\n",
    "print '\\n%d seconds to run baseline linear regression' % timer"
   ]
  },
  {
   "cell_type": "code",
   "execution_count": 16,
   "metadata": {
    "collapsed": false
   },
   "outputs": [
    {
     "name": "stdout",
     "output_type": "stream",
     "text": [
      "R_squared = 0.46103\n"
     ]
    }
   ],
   "source": [
    "#LR_R2 = r2_score(Y_train, LR.predict(X_train))\n",
    "LR_R2 = r2_score(Y_all, LR.predict(X_all))\n",
    "print 'R_squared = %0.5f' % LR_R2"
   ]
  },
  {
   "cell_type": "code",
   "execution_count": 17,
   "metadata": {
    "collapsed": false
   },
   "outputs": [
    {
     "name": "stdout",
     "output_type": "stream",
     "text": [
      "Adjusted R_squared = 0.46089\n"
     ]
    }
   ],
   "source": [
    "#Source: http://sourceforge.net/p/scikit-learn/mailman/scikit-learn-general/thread/516EC479.6080704@gmail.com/\n",
    "#LR_adjR2 = 1 - float(len(Y_train)-1)/(len(Y_train)-len(LR.coef_)-1)*(1 - r2_score(Y_train, LR.predict(X_train)))\n",
    "LR_adjR2 = 1 - float(len(Y_all)-1)/(len(Y_all)-len(LR.coef_)-1)*(1 - r2_score(Y_all, LR.predict(X_all)))\n",
    "print 'Adjusted R_squared = %0.5f' % LR_adjR2"
   ]
  },
  {
   "cell_type": "code",
   "execution_count": 18,
   "metadata": {
    "collapsed": false
   },
   "outputs": [
    {
     "name": "stdout",
     "output_type": "stream",
     "text": [
      "Training set RMSE = 0.29893\n"
     ]
    }
   ],
   "source": [
    "#LR_rmse = math.sqrt(mean_squared_error(Y_train, LR.predict(X_train)))\n",
    "LR_rmse = math.sqrt(mean_squared_error(Y_all, LR.predict(X_all)))\n",
    "print 'Training set RMSE = %0.5f' % LR_rmse\n",
    "# print 'Test set RMSE (from leaderboard) = 0.29846'"
   ]
  },
  {
   "cell_type": "code",
   "execution_count": 19,
   "metadata": {
    "collapsed": false
   },
   "outputs": [
    {
     "name": "stdout",
     "output_type": "stream",
     "text": [
      "mean of predictions = 1.9159\n",
      "median of predictions = 1.9624\n",
      "minimum of predictions = 0.7266\n",
      "maximum of predictions = 2.6076\n"
     ]
    }
   ],
   "source": [
    "# just to summarize the data in the prediction vector to get a ballpark figure of values\n",
    "print 'mean of predictions = %0.4f' % np.mean(LR_pred)\n",
    "print 'median of predictions = %0.4f' % np.median(LR_pred)\n",
    "print 'minimum of predictions = %0.4f' % np.min(LR_pred)\n",
    "print 'maximum of predictions = %0.4f' % np.max(LR_pred)"
   ]
  },
  {
   "cell_type": "code",
   "execution_count": 20,
   "metadata": {
    "collapsed": false
   },
   "outputs": [
    {
     "data": {
      "text/plain": [
       "array([ 1.61085441,  1.64186093,  1.53968802,  1.77994206,  2.28964563,\n",
       "        2.12677565,  2.19776186,  1.70927539,  2.19615967,  2.07280525])"
      ]
     },
     "execution_count": 20,
     "metadata": {},
     "output_type": "execute_result"
    }
   ],
   "source": [
    "LR_pred[0:10]"
   ]
  },
  {
   "cell_type": "markdown",
   "metadata": {},
   "source": [
    "## random forest"
   ]
  },
  {
   "cell_type": "code",
   "execution_count": 21,
   "metadata": {
    "collapsed": false
   },
   "outputs": [
    {
     "name": "stdout",
     "output_type": "stream",
     "text": [
      "\n",
      "42 seconds to run baseline random forest\n"
     ]
    }
   ],
   "source": [
    "start = time.time()\n",
    "\n",
    "RF = RandomForestRegressor()\n",
    "#RF.fit(X_train, Y_train)\n",
    "RF.fit(X_all, Y_all)\n",
    "RF_pred = RF.predict(X_test)\n",
    "\n",
    "timer = time.time() - start\n",
    "print '\\n%d seconds to run baseline random forest' % timer"
   ]
  },
  {
   "cell_type": "code",
   "execution_count": 22,
   "metadata": {
    "collapsed": false
   },
   "outputs": [
    {
     "name": "stdout",
     "output_type": "stream",
     "text": [
      "R_squared = 0.55416\n"
     ]
    }
   ],
   "source": [
    "#RF_R2 = r2_score(Y_train, RF.predict(X_train))\n",
    "RF_R2 = r2_score(Y_all, RF.predict(X_all))\n",
    "print 'R_squared = %0.5f' % RF_R2"
   ]
  },
  {
   "cell_type": "code",
   "execution_count": 23,
   "metadata": {
    "collapsed": false
   },
   "outputs": [
    {
     "name": "stdout",
     "output_type": "stream",
     "text": [
      "Training set RMSE = 0.27188\n"
     ]
    }
   ],
   "source": [
    "#RF_rmse = math.sqrt(mean_squared_error(Y_train, RF.predict(X_train)))\n",
    "RF_rmse = math.sqrt(mean_squared_error(Y_all, RF.predict(X_all)))\n",
    "print 'Training set RMSE = %0.5f' % RF_rmse\n",
    "# print 'Test set RMSE (from leaderboard) = 0.27207'"
   ]
  },
  {
   "cell_type": "markdown",
   "metadata": {},
   "source": [
    "<div class=\"alert alert-info\">\n",
    "<strong>SAVE RESULTS</strong>\n",
    "</div>"
   ]
  },
  {
   "cell_type": "code",
   "execution_count": 11,
   "metadata": {
    "collapsed": false
   },
   "outputs": [],
   "source": [
    "def write_to_file(filename, predictions):\n",
    "    with open(filename, \"w\") as f:\n",
    "        f.write(\"Id,Prediction\\n\")\n",
    "        for i,p in enumerate(predictions):\n",
    "            f.write(str(i+1) + \",\" + str(p) + \"\\n\")"
   ]
  },
  {
   "cell_type": "code",
   "execution_count": null,
   "metadata": {
    "collapsed": true
   },
   "outputs": [],
   "source": [
    "write_to_file(\"sample1.csv\", LR_pred)\n",
    "write_to_file(\"sample2.csv\", RF_pred)"
   ]
  },
  {
   "cell_type": "markdown",
   "metadata": {},
   "source": [
    "<div class=\"alert alert-info\">\n",
    "<strong>TRY: models on DF with reduced features (28) but with interactions</strong>\n",
    "</div>"
   ]
  },
  {
   "cell_type": "markdown",
   "metadata": {},
   "source": [
    "Based on our exploratory data analysis, we reduced the dimension of our data set by keeping only the features obtained from a backward selection process (see analysis in R), as a starting point. Essentially, primarily vectors with no variability in the training set were removed."
   ]
  },
  {
   "cell_type": "raw",
   "metadata": {},
   "source": [
    "From exploratory analysis (R file):\n",
    "\n",
    "Call:\n",
    "lm(formula = log_resp ~ feat_001 + feat_005 + feat_006 + feat_007 + \n",
    "    feat_025 + feat_037 + feat_044 + feat_068 + feat_069 + feat_072 + \n",
    "    feat_087 + feat_090 + feat_102 + feat_119 + feat_123 + feat_126 + \n",
    "    feat_132 + feat_173 + feat_176 + feat_187 + feat_196 + feat_199 + \n",
    "    feat_208 + feat_225 + feat_226 + feat_248 + feat_251 + feat_252, \n",
    "    data = data2)"
   ]
  },
  {
   "cell_type": "code",
   "execution_count": 12,
   "metadata": {
    "collapsed": false
   },
   "outputs": [],
   "source": [
    "keep = [\"feat_001\", \"feat_005\", \"feat_006\", \"feat_007\", \"feat_025\", \"feat_037\", \"feat_044\", \"feat_068\", \"feat_069\", \n",
    "        \"feat_072\", \"feat_087\", \"feat_090\", \"feat_102\", \"feat_119\", \"feat_123\", \"feat_126\", \"feat_132\", \"feat_173\",\n",
    "        \"feat_176\", \"feat_187\", \"feat_196\", \"feat_199\", \"feat_208\", \"feat_225\", \"feat_226\", \"feat_248\", \"feat_251\", \n",
    "        \"feat_252\"]\n",
    "\n",
    "reduced_DF = df_all[keep]"
   ]
  },
  {
   "cell_type": "code",
   "execution_count": 13,
   "metadata": {
    "collapsed": false
   },
   "outputs": [
    {
     "data": {
      "text/plain": [
       "(1824230, 28)"
      ]
     },
     "execution_count": 13,
     "metadata": {},
     "output_type": "execute_result"
    }
   ],
   "source": [
    "vals2 = reduced_DF.values  # converts data to numpy format (array)\n",
    "vals2.shape"
   ]
  },
  {
   "cell_type": "code",
   "execution_count": 14,
   "metadata": {
    "collapsed": false
   },
   "outputs": [
    {
     "name": "stderr",
     "output_type": "stream",
     "text": [
      "/Users/K-Lo/anaconda/lib/python2.7/site-packages/ipykernel/__main__.py:4: SettingWithCopyWarning: \n",
      "A value is trying to be set on a copy of a slice from a DataFrame.\n",
      "Try using .loc[row_indexer,col_indexer] = value instead\n",
      "\n",
      "See the caveats in the documentation: http://pandas.pydata.org/pandas-docs/stable/indexing.html#indexing-view-versus-copy\n"
     ]
    },
    {
     "data": {
      "text/plain": [
       "(1824230, 406)"
      ]
     },
     "execution_count": 14,
     "metadata": {},
     "output_type": "execute_result"
    }
   ],
   "source": [
    "for i in range(vals2.shape[1]):\n",
    "    for j in range(i+1, vals2.shape[1]):\n",
    "        colname = keep[i] + \"x\" + keep[j][-3:]\n",
    "        reduced_DF[colname] = reduced_DF[keep[i]]*reduced_DF[keep[j]]\n",
    "\n",
    "vals2 = reduced_DF.values\n",
    "vals2.shape"
   ]
  },
  {
   "cell_type": "code",
   "execution_count": 27,
   "metadata": {
    "collapsed": false
   },
   "outputs": [
    {
     "data": {
      "text/html": [
       "<div>\n",
       "<table border=\"1\" class=\"dataframe\">\n",
       "  <thead>\n",
       "    <tr style=\"text-align: right;\">\n",
       "      <th></th>\n",
       "      <th>feat_001</th>\n",
       "      <th>feat_005</th>\n",
       "      <th>feat_006</th>\n",
       "      <th>feat_007</th>\n",
       "      <th>feat_025</th>\n",
       "      <th>feat_037</th>\n",
       "      <th>feat_044</th>\n",
       "      <th>feat_068</th>\n",
       "      <th>feat_069</th>\n",
       "      <th>feat_072</th>\n",
       "      <th>...</th>\n",
       "      <th>feat_225x226</th>\n",
       "      <th>feat_225x248</th>\n",
       "      <th>feat_225x251</th>\n",
       "      <th>feat_225x252</th>\n",
       "      <th>feat_226x248</th>\n",
       "      <th>feat_226x251</th>\n",
       "      <th>feat_226x252</th>\n",
       "      <th>feat_248x251</th>\n",
       "      <th>feat_248x252</th>\n",
       "      <th>feat_251x252</th>\n",
       "    </tr>\n",
       "  </thead>\n",
       "  <tbody>\n",
       "    <tr>\n",
       "      <th>0</th>\n",
       "      <td>0</td>\n",
       "      <td>1</td>\n",
       "      <td>0</td>\n",
       "      <td>1</td>\n",
       "      <td>0</td>\n",
       "      <td>0</td>\n",
       "      <td>0</td>\n",
       "      <td>1</td>\n",
       "      <td>0</td>\n",
       "      <td>1</td>\n",
       "      <td>...</td>\n",
       "      <td>0</td>\n",
       "      <td>0</td>\n",
       "      <td>0</td>\n",
       "      <td>0</td>\n",
       "      <td>1</td>\n",
       "      <td>0</td>\n",
       "      <td>0</td>\n",
       "      <td>0</td>\n",
       "      <td>0</td>\n",
       "      <td>0</td>\n",
       "    </tr>\n",
       "    <tr>\n",
       "      <th>1</th>\n",
       "      <td>1</td>\n",
       "      <td>1</td>\n",
       "      <td>0</td>\n",
       "      <td>1</td>\n",
       "      <td>1</td>\n",
       "      <td>1</td>\n",
       "      <td>0</td>\n",
       "      <td>0</td>\n",
       "      <td>1</td>\n",
       "      <td>1</td>\n",
       "      <td>...</td>\n",
       "      <td>0</td>\n",
       "      <td>0</td>\n",
       "      <td>0</td>\n",
       "      <td>0</td>\n",
       "      <td>1</td>\n",
       "      <td>1</td>\n",
       "      <td>0</td>\n",
       "      <td>1</td>\n",
       "      <td>0</td>\n",
       "      <td>0</td>\n",
       "    </tr>\n",
       "    <tr>\n",
       "      <th>2</th>\n",
       "      <td>1</td>\n",
       "      <td>1</td>\n",
       "      <td>1</td>\n",
       "      <td>1</td>\n",
       "      <td>0</td>\n",
       "      <td>1</td>\n",
       "      <td>0</td>\n",
       "      <td>1</td>\n",
       "      <td>1</td>\n",
       "      <td>1</td>\n",
       "      <td>...</td>\n",
       "      <td>0</td>\n",
       "      <td>0</td>\n",
       "      <td>0</td>\n",
       "      <td>0</td>\n",
       "      <td>1</td>\n",
       "      <td>0</td>\n",
       "      <td>1</td>\n",
       "      <td>0</td>\n",
       "      <td>1</td>\n",
       "      <td>0</td>\n",
       "    </tr>\n",
       "    <tr>\n",
       "      <th>3</th>\n",
       "      <td>1</td>\n",
       "      <td>1</td>\n",
       "      <td>1</td>\n",
       "      <td>1</td>\n",
       "      <td>1</td>\n",
       "      <td>0</td>\n",
       "      <td>0</td>\n",
       "      <td>1</td>\n",
       "      <td>0</td>\n",
       "      <td>0</td>\n",
       "      <td>...</td>\n",
       "      <td>0</td>\n",
       "      <td>0</td>\n",
       "      <td>0</td>\n",
       "      <td>0</td>\n",
       "      <td>1</td>\n",
       "      <td>0</td>\n",
       "      <td>1</td>\n",
       "      <td>0</td>\n",
       "      <td>1</td>\n",
       "      <td>0</td>\n",
       "    </tr>\n",
       "    <tr>\n",
       "      <th>4</th>\n",
       "      <td>0</td>\n",
       "      <td>1</td>\n",
       "      <td>0</td>\n",
       "      <td>1</td>\n",
       "      <td>0</td>\n",
       "      <td>0</td>\n",
       "      <td>0</td>\n",
       "      <td>0</td>\n",
       "      <td>0</td>\n",
       "      <td>1</td>\n",
       "      <td>...</td>\n",
       "      <td>0</td>\n",
       "      <td>0</td>\n",
       "      <td>0</td>\n",
       "      <td>0</td>\n",
       "      <td>1</td>\n",
       "      <td>0</td>\n",
       "      <td>0</td>\n",
       "      <td>0</td>\n",
       "      <td>0</td>\n",
       "      <td>0</td>\n",
       "    </tr>\n",
       "  </tbody>\n",
       "</table>\n",
       "<p>5 rows × 406 columns</p>\n",
       "</div>"
      ],
      "text/plain": [
       "   feat_001  feat_005  feat_006  feat_007  feat_025  feat_037  feat_044  \\\n",
       "0         0         1         0         1         0         0         0   \n",
       "1         1         1         0         1         1         1         0   \n",
       "2         1         1         1         1         0         1         0   \n",
       "3         1         1         1         1         1         0         0   \n",
       "4         0         1         0         1         0         0         0   \n",
       "\n",
       "   feat_068  feat_069  feat_072      ...       feat_225x226  feat_225x248  \\\n",
       "0         1         0         1      ...                  0             0   \n",
       "1         0         1         1      ...                  0             0   \n",
       "2         1         1         1      ...                  0             0   \n",
       "3         1         0         0      ...                  0             0   \n",
       "4         0         0         1      ...                  0             0   \n",
       "\n",
       "   feat_225x251  feat_225x252  feat_226x248  feat_226x251  feat_226x252  \\\n",
       "0             0             0             1             0             0   \n",
       "1             0             0             1             1             0   \n",
       "2             0             0             1             0             1   \n",
       "3             0             0             1             0             1   \n",
       "4             0             0             1             0             0   \n",
       "\n",
       "   feat_248x251  feat_248x252  feat_251x252  \n",
       "0             0             0             0  \n",
       "1             1             0             0  \n",
       "2             0             1             0  \n",
       "3             0             1             0  \n",
       "4             0             0             0  \n",
       "\n",
       "[5 rows x 406 columns]"
      ]
     },
     "execution_count": 27,
     "metadata": {},
     "output_type": "execute_result"
    }
   ],
   "source": [
    "reduced_DF.head()"
   ]
  },
  {
   "cell_type": "code",
   "execution_count": 14,
   "metadata": {
    "collapsed": false
   },
   "outputs": [
    {
     "name": "stdout",
     "output_type": "stream",
     "text": [
      "Train features:  (800000, 406)\n",
      "Validation set:  (200000, 406)\n",
      "Train gap:  (800000,)\n",
      "Validation set for gap:  (200000,)\n",
      "Test features: (824230, 406)\n"
     ]
    }
   ],
   "source": [
    "X_train = vals2[:cutoff]\n",
    "X_valid = vals2[cutoff:test_idx]\n",
    "X_test = vals2[test_idx:]\n",
    "\n",
    "print \"Train features: \", X_train.shape\n",
    "print \"Validation set: \", X_valid.shape\n",
    "print \"Train gap: \", Y_train.shape\n",
    "print \"Validation set for gap: \", Y_valid.shape\n",
    "print \"Test features:\", X_test.shape"
   ]
  },
  {
   "cell_type": "markdown",
   "metadata": {},
   "source": [
    "### Linear Regression on set with interactions"
   ]
  },
  {
   "cell_type": "code",
   "execution_count": 29,
   "metadata": {
    "collapsed": false
   },
   "outputs": [
    {
     "name": "stdout",
     "output_type": "stream",
     "text": [
      "\n",
      "56 seconds to run linear regression (reduced + interactions)\n"
     ]
    }
   ],
   "source": [
    "start = time.time()\n",
    "\n",
    "LR2 = LinearRegression()\n",
    "LR2.fit(X_train, Y_train)\n",
    "LR2_validate = LR2.predict(X_valid)\n",
    "# LR2_pred = LR2.predict(X_test)  \n",
    "\n",
    "timer = time.time() - start\n",
    "print '\\n%d seconds to run linear regression (reduced + interactions)' % timer"
   ]
  },
  {
   "cell_type": "code",
   "execution_count": 30,
   "metadata": {
    "collapsed": false
   },
   "outputs": [
    {
     "name": "stdout",
     "output_type": "stream",
     "text": [
      "Training set (80-20) RMSE = 0.27985\n",
      "Validation set RMSE = 0.28070\n"
     ]
    }
   ],
   "source": [
    "LR2_rmse = math.sqrt(mean_squared_error(Y_train, LR2.predict(X_train)))\n",
    "print 'Training set (80-20) RMSE = %0.5f' % LR2_rmse\n",
    "\n",
    "LR2_rmsev = math.sqrt(mean_squared_error(Y_valid, LR2_validate))\n",
    "print 'Validation set RMSE = %0.5f' % LR2_rmsev"
   ]
  },
  {
   "cell_type": "markdown",
   "metadata": {},
   "source": [
    "### Random Forest (on set with interactions)"
   ]
  },
  {
   "cell_type": "code",
   "execution_count": 31,
   "metadata": {
    "collapsed": false
   },
   "outputs": [
    {
     "name": "stdout",
     "output_type": "stream",
     "text": [
      "\n",
      "276 seconds to run random forest (reduced + interactions)\n"
     ]
    }
   ],
   "source": [
    "start = time.time()\n",
    "\n",
    "RF2 = RandomForestRegressor()\n",
    "RF2.fit(X_train, Y_train)\n",
    "RF2_validate = RF2.predict(X_valid)\n",
    "#RF2_pred = RF2.predict(X_test)\n",
    "\n",
    "timer = time.time() - start\n",
    "print '\\n%d seconds to run random forest (reduced + interactions)' % timer"
   ]
  },
  {
   "cell_type": "code",
   "execution_count": 32,
   "metadata": {
    "collapsed": false
   },
   "outputs": [
    {
     "name": "stdout",
     "output_type": "stream",
     "text": [
      "Training set (80-20) RMSE = 0.27161\n",
      "Validation set RMSE = 0.27337\n"
     ]
    }
   ],
   "source": [
    "RF2_rmse = math.sqrt(mean_squared_error(Y_train, RF2.predict(X_train)))\n",
    "print 'Training set (80-20) RMSE = %0.5f' % RF2_rmse\n",
    "\n",
    "RF2_rmsev = math.sqrt(mean_squared_error(Y_valid, RF2_validate))\n",
    "print 'Validation set RMSE = %0.5f' % RF2_rmsev"
   ]
  },
  {
   "cell_type": "code",
   "execution_count": null,
   "metadata": {
    "collapsed": false
   },
   "outputs": [],
   "source": [
    "# write_to_file(\"RF2.csv\", RF2_pred)\n",
    "# (RF_pred==RF2_pred).all()"
   ]
  },
  {
   "cell_type": "markdown",
   "metadata": {},
   "source": [
    "### Lasso "
   ]
  },
  {
   "cell_type": "markdown",
   "metadata": {},
   "source": [
    "Link on regularation methods: http://www.datarobot.com/blog/regularized-linear-regression-with-scikit-learn/ <p>\n",
    "\n",
    "Regularization techniques\n",
    "\n",
    "In the above example we used Ridge Regression, a regularized linear regression technique that puts an L2 norm penalty on the regression coefficients. Another popular regularization technique is the LASSO, a technique which puts an L1 norm penalty instead. The difference between the two is that the LASSO leads to sparse solutions, driving most coefficients to zero, whereas Ridge Regression leads to dense solutions, in which most coefficients are non-zero...\n",
    "\n",
    "Another popular regularization technique is the Elastic Net, the convex combination of the L2 norm and the L1 norm. It too leads to a sparse solution."
   ]
  },
  {
   "cell_type": "code",
   "execution_count": 33,
   "metadata": {
    "collapsed": false
   },
   "outputs": [],
   "source": [
    "from sklearn.linear_model import Lasso"
   ]
  },
  {
   "cell_type": "code",
   "execution_count": 34,
   "metadata": {
    "collapsed": false
   },
   "outputs": [
    {
     "name": "stdout",
     "output_type": "stream",
     "text": [
      "\n",
      "Alpha = 1.0000\n",
      "8 seconds to complete lasso on set with interactions\n",
      "Training set (80/20) RMSE = 0.40710\n",
      "Validation set RMSE = 0.40750\n",
      "\n",
      "Alpha = 0.1000\n",
      "20 seconds to complete lasso on set with interactions\n",
      "Training set (80/20) RMSE = 0.40710\n",
      "Validation set RMSE = 0.40750\n",
      "\n",
      "Alpha = 0.0100\n",
      "67 seconds to complete lasso on set with interactions\n",
      "Training set (80/20) RMSE = 0.30917\n",
      "Validation set RMSE = 0.30963\n",
      "\n",
      "Alpha = 0.0010\n",
      "576 seconds to complete lasso on set with interactions\n",
      "Training set (80/20) RMSE = 0.28814\n",
      "Validation set RMSE = 0.28878\n",
      "\n",
      "Alpha = 0.0001\n",
      "1432 seconds to complete lasso on set with interactions\n",
      "Training set (80/20) RMSE = 0.28092\n",
      "Validation set RMSE = 0.28165\n"
     ]
    },
    {
     "name": "stderr",
     "output_type": "stream",
     "text": [
      "/Users/K-Lo/anaconda/lib/python2.7/site-packages/sklearn/linear_model/coordinate_descent.py:466: ConvergenceWarning: Objective did not converge. You might want to increase the number of iterations\n",
      "  ConvergenceWarning)\n"
     ]
    }
   ],
   "source": [
    "start = time.time()\n",
    "\n",
    "params = [1.0, 0.1, 0.01, 0.001, 0.0001]\n",
    "\n",
    "for alpha in params:\n",
    "    LR_lasso = Lasso(alpha)\n",
    "    LR_lasso.fit(X_train, Y_train)\n",
    "    LR_lasso_validate = LR_lasso.predict(X_valid)\n",
    "    # LR_lasso_pred = LR_lasso.predict(X_test)\n",
    "\n",
    "    timer = time.time() - start\n",
    "    print '\\nAlpha = %0.4f' % alpha\n",
    "    print '%d seconds to complete lasso on set with interactions' % timer\n",
    "\n",
    "    LR_lasso_rmse = math.sqrt(mean_squared_error(Y_train, LR_lasso.predict(X_train)))\n",
    "    print 'Training set (80/20) RMSE = %0.5f' % LR_lasso_rmse\n",
    "\n",
    "    LR_lasso_rmsev = math.sqrt(mean_squared_error(Y_valid, LR_lasso_validate))\n",
    "    print 'Validation set RMSE = %0.5f' % LR_lasso_rmsev"
   ]
  },
  {
   "cell_type": "markdown",
   "metadata": {},
   "source": [
    "### Ridge Regression"
   ]
  },
  {
   "cell_type": "code",
   "execution_count": 35,
   "metadata": {
    "collapsed": true
   },
   "outputs": [],
   "source": [
    "from sklearn.linear_model import Ridge"
   ]
  },
  {
   "cell_type": "code",
   "execution_count": 36,
   "metadata": {
    "collapsed": false
   },
   "outputs": [
    {
     "name": "stdout",
     "output_type": "stream",
     "text": [
      "\n",
      "Alpha = 0.000000000\n",
      "91 seconds to run ridge regression on set with interactions\n",
      "Training set (80/20) RMSE = 0.27989\n",
      "Validation set RMSE = 0.28074\n",
      "\n",
      "Alpha = 0.000000010\n",
      "102 seconds to run ridge regression on set with interactions\n",
      "Training set (80/20) RMSE = 0.27984\n",
      "Validation set RMSE = 0.28070\n",
      "\n",
      "Alpha = 0.000010000\n",
      "115 seconds to run ridge regression on set with interactions\n",
      "Training set (80/20) RMSE = 0.27984\n",
      "Validation set RMSE = 0.28070\n",
      "\n",
      "Alpha = 0.100000000\n",
      "126 seconds to run ridge regression on set with interactions\n",
      "Training set (80/20) RMSE = 0.27984\n",
      "Validation set RMSE = 0.28070\n"
     ]
    }
   ],
   "source": [
    "start = time.time()\n",
    "\n",
    "params = [0.0, 1e-8, 1e-5, 1e-1]\n",
    "\n",
    "for alpha in params:\n",
    "    LR_ridge = Ridge(alpha)\n",
    "    LR_ridge.fit(X_train, Y_train)\n",
    "    LR_ridge_validate = LR_ridge.predict(X_valid)\n",
    "    # LR_ridge_pred = LR_ridge.predict(X_test)\n",
    "\n",
    "    timer = time.time() - start\n",
    "    print '\\nAlpha = %0.9f' % alpha\n",
    "    print '%d seconds to run ridge regression on set with interactions' % timer\n",
    "\n",
    "    LR_ridge_rmse = math.sqrt(mean_squared_error(Y_train, LR_ridge.predict(X_train)))\n",
    "    print 'Training set (80/20) RMSE = %0.5f' % LR_ridge_rmse\n",
    "\n",
    "    LR_ridge_rmsev = math.sqrt(mean_squared_error(Y_valid, LR_ridge_validate))\n",
    "    print 'Validation set RMSE = %0.5f' % LR_ridge_rmsev"
   ]
  },
  {
   "cell_type": "markdown",
   "metadata": {},
   "source": [
    "### Elastic Net"
   ]
  },
  {
   "cell_type": "code",
   "execution_count": 37,
   "metadata": {
    "collapsed": true
   },
   "outputs": [],
   "source": [
    "from sklearn.linear_model import ElasticNet"
   ]
  },
  {
   "cell_type": "code",
   "execution_count": 38,
   "metadata": {
    "collapsed": false
   },
   "outputs": [
    {
     "name": "stdout",
     "output_type": "stream",
     "text": [
      "\n",
      "Alpha = 1.0000\n",
      "8 seconds to complete Elastic Net regularization on set with interactions\n",
      "Training set (80/20) RMSE = 0.40710\n",
      "Validation set RMSE = 0.40750\n",
      "\n",
      "Alpha = 0.1000\n",
      "38 seconds to complete Elastic Net regularization on set with interactions\n",
      "Training set (80/20) RMSE = 0.36993\n",
      "Validation set RMSE = 0.37035\n",
      "\n",
      "Alpha = 0.0100\n",
      "311 seconds to complete Elastic Net regularization on set with interactions\n",
      "Training set (80/20) RMSE = 0.30129\n",
      "Validation set RMSE = 0.30182\n",
      "\n",
      "Alpha = 0.0010\n",
      "985 seconds to complete Elastic Net regularization on set with interactions\n",
      "Training set (80/20) RMSE = 0.28503\n",
      "Validation set RMSE = 0.28566\n",
      "\n",
      "Alpha = 0.0001\n",
      "1982 seconds to complete Elastic Net regularization on set with interactions\n",
      "Training set (80/20) RMSE = 0.28039\n",
      "Validation set RMSE = 0.28116\n"
     ]
    }
   ],
   "source": [
    "start = time.time()\n",
    "\n",
    "params = [1.0, 0.1, 0.01, 0.001, 0.0001]\n",
    "\n",
    "for alpha in params:\n",
    "    LR_en = ElasticNet(alpha)\n",
    "    LR_en.fit(X_train, Y_train)\n",
    "    LR_en_validate = LR_en.predict(X_valid)\n",
    "    # LR_en_pred = LR_en.predict(X_test)\n",
    "\n",
    "    timer = time.time() - start\n",
    "    print '\\nAlpha = %0.4f' % alpha\n",
    "    print '%d seconds to complete Elastic Net regularization on set with interactions' % timer\n",
    "\n",
    "    LR_en_rmse = math.sqrt(mean_squared_error(Y_train, LR_en.predict(X_train)))\n",
    "    print 'Training set (80/20) RMSE = %0.5f' % LR_en_rmse\n",
    "\n",
    "    LR_en_rmsev = math.sqrt(mean_squared_error(Y_valid, LR_en_validate))\n",
    "    print 'Validation set RMSE = %0.5f' % LR_en_rmsev"
   ]
  },
  {
   "cell_type": "markdown",
   "metadata": {},
   "source": [
    "### Let's try transforming the response"
   ]
  },
  {
   "cell_type": "markdown",
   "metadata": {},
   "source": [
    "See the discussion in the R notebook. This is primarily to deal with heteroskedasticity, which can be a problem for the Linear Regression models."
   ]
  },
  {
   "cell_type": "code",
   "execution_count": 39,
   "metadata": {
    "collapsed": false
   },
   "outputs": [
    {
     "name": "stdout",
     "output_type": "stream",
     "text": [
      "\n",
      "61 seconds to run linear regression (interactions + transform)\n",
      "Training set (80/20) RMSE = 0.27994\n",
      "Validation set RMSE = 0.28074\n"
     ]
    }
   ],
   "source": [
    "# Linear Regression\n",
    "start = time.time()\n",
    "\n",
    "LR3 = LinearRegression()\n",
    "LR3.fit(X_train, np.log(Y_train + 1.5))\n",
    "LR3_validate = LR3.predict(X_valid)\n",
    "#LR3_pred = LR3.predict(X_test)\n",
    "\n",
    "timer = time.time() - start\n",
    "print '\\n%d seconds to run linear regression (interactions + transform)' % timer\n",
    "\n",
    "LR3_rmse = math.sqrt(mean_squared_error(Y_train, np.exp(LR3.predict(X_train))-1.5))\n",
    "print 'Training set (80/20) RMSE = %0.5f' % LR3_rmse\n",
    "\n",
    "LR3_rmsev = math.sqrt(mean_squared_error(Y_valid, np.exp(LR3_validate)-1.5))\n",
    "print 'Validation set RMSE = %0.5f' % LR3_rmsev"
   ]
  },
  {
   "cell_type": "code",
   "execution_count": 40,
   "metadata": {
    "collapsed": false
   },
   "outputs": [
    {
     "name": "stdout",
     "output_type": "stream",
     "text": [
      "\n",
      "284 seconds to run random forest (interactions + transform)\n",
      "Training set (80/20) RMSE = 0.27187\n",
      "Validation set RMSE = 0.27359\n"
     ]
    }
   ],
   "source": [
    "# Random Forest\n",
    "start = time.time()\n",
    "\n",
    "RF3 = RandomForestRegressor()\n",
    "RF3.fit(X_train, np.log(Y_train + 1.5))\n",
    "RF3_validate = RF3.predict(X_valid)\n",
    "#RF3_pred = RF3.predict(X_test)\n",
    "\n",
    "timer = time.time() - start\n",
    "print '\\n%d seconds to run random forest (interactions + transform)' % timer\n",
    "\n",
    "RF3_rmse = math.sqrt(mean_squared_error(Y_train, np.exp(RF3.predict(X_train))-1.5))\n",
    "print 'Training set (80/20) RMSE = %0.5f' % RF3_rmse\n",
    "\n",
    "RF3_rmsev = math.sqrt(mean_squared_error(Y_valid, np.exp(RF3_validate)-1.5))\n",
    "print 'Validation set RMSE = %0.5f' % RF3_rmsev"
   ]
  },
  {
   "cell_type": "code",
   "execution_count": null,
   "metadata": {
    "collapsed": false
   },
   "outputs": [],
   "source": [
    "# just to summarize the data in the prediction vector\n",
    "# print 'mean of predictions = %0.4f' % np.mean(cnvt_pred)\n",
    "# print 'median of predictions = %0.4f' % np.median(cnvt_pred)\n",
    "# print 'minimum of predictions = %0.4f' % np.min(cnvt_pred)\n",
    "# print 'maximum of predictions = %0.4f' % np.max(cnvt_pred)"
   ]
  },
  {
   "cell_type": "code",
   "execution_count": null,
   "metadata": {
    "collapsed": true
   },
   "outputs": [],
   "source": [
    "# write_to_file(\"RF3.csv\", cnvt_pred)"
   ]
  },
  {
   "cell_type": "markdown",
   "metadata": {
    "collapsed": true
   },
   "source": [
    "So far, the five submissions that we put through beat the Linear Regression baseline but not the Random Forest baseline. Given the evidence of heteroskedasticity, and the fact that all of these models seem to perform at the same level on the test set, all this is generally indicative that we are missing some key features that explain the data better.  We should now explore coming up with new features to consider for further modeling."
   ]
  },
  {
   "cell_type": "markdown",
   "metadata": {},
   "source": [
    "<div class=\"alert alert-info\">\n",
    "<strong>Increasing number of fingerprints</strong>\n",
    "</div>"
   ]
  },
  {
   "cell_type": "markdown",
   "metadata": {},
   "source": [
    "After inspecting the documentation for RDKit, we realized that only a subset of \"fingerprints\" were provided. We tried working with the full set of 2048 **but on training data with fewer (about 50k) observations).**  We removed features where there was no variation in the training set. We ran a number of the models above. "
   ]
  },
  {
   "cell_type": "markdown",
   "metadata": {},
   "source": [
    "#### load test data from big set"
   ]
  },
  {
   "cell_type": "code",
   "execution_count": null,
   "metadata": {
    "collapsed": false
   },
   "outputs": [],
   "source": [
    "#start = time.time()\n",
    "\n",
    "\"\"\"\n",
    "Read in test data as Pandas DataFrames\n",
    "\"\"\"\n",
    "\n",
    "#df_test_big = pd.read_csv(\"test_2048.csv\")\n",
    "\n",
    "#timer = time.time() - start\n",
    "#print '%d seconds to load test data' % timer\n",
    "\n",
    "#df_test_big.head()"
   ]
  },
  {
   "cell_type": "code",
   "execution_count": null,
   "metadata": {
    "collapsed": true
   },
   "outputs": [],
   "source": [
    "#df_test_big.shape"
   ]
  },
  {
   "cell_type": "code",
   "execution_count": null,
   "metadata": {
    "collapsed": true
   },
   "outputs": [],
   "source": [
    "##clean test file until shape is (824230, 2048) <<<---\n",
    "\n",
    "#delete first column\n",
    "#df_test_big = df_test_big.drop(['Unnamed: 0'], axis=1)\n",
    "\n",
    "#save and delete smiles\n",
    "#big_smiles_test = df_test_big['smiles']\n",
    "#df_test_big = df_test_big.drop(['smiles'], axis=1)\n",
    "\n",
    "#df_test_big.head()"
   ]
  },
  {
   "cell_type": "code",
   "execution_count": null,
   "metadata": {
    "collapsed": true
   },
   "outputs": [],
   "source": [
    "#X_big_test = df_test_big.values  # converts data to numpy format (array)"
   ]
  },
  {
   "cell_type": "code",
   "execution_count": null,
   "metadata": {
    "collapsed": true
   },
   "outputs": [],
   "source": [
    "#X_big_test.shape ## shape should be (824230, 2048) <<<---"
   ]
  },
  {
   "cell_type": "markdown",
   "metadata": {},
   "source": [
    "#### load training data from big set"
   ]
  },
  {
   "cell_type": "code",
   "execution_count": 41,
   "metadata": {
    "collapsed": false
   },
   "outputs": [
    {
     "name": "stdout",
     "output_type": "stream",
     "text": [
      "13 seconds to load data\n"
     ]
    }
   ],
   "source": [
    "start = time.time()\n",
    "\n",
    "\"\"\"\n",
    "Read in train data as Pandas DataFrames\n",
    "\"\"\"\n",
    "df_train_big = pd.read_csv(\"train_2048_50k.csv\")\n",
    "# df_test_big = pd.read_csv(\"test_2048.csv\")\n",
    "\n",
    "timer = time.time() - start\n",
    "print '%d seconds to load data' % timer"
   ]
  },
  {
   "cell_type": "code",
   "execution_count": 42,
   "metadata": {
    "collapsed": false
   },
   "outputs": [
    {
     "data": {
      "text/html": [
       "<div>\n",
       "<table border=\"1\" class=\"dataframe\">\n",
       "  <thead>\n",
       "    <tr style=\"text-align: right;\">\n",
       "      <th></th>\n",
       "      <th>Unnamed: 0</th>\n",
       "      <th>0</th>\n",
       "      <th>1</th>\n",
       "      <th>2</th>\n",
       "      <th>3</th>\n",
       "      <th>4</th>\n",
       "      <th>5</th>\n",
       "      <th>6</th>\n",
       "      <th>7</th>\n",
       "      <th>8</th>\n",
       "      <th>...</th>\n",
       "      <th>2040</th>\n",
       "      <th>2041</th>\n",
       "      <th>2042</th>\n",
       "      <th>2043</th>\n",
       "      <th>2044</th>\n",
       "      <th>2045</th>\n",
       "      <th>2046</th>\n",
       "      <th>2047</th>\n",
       "      <th>smiles</th>\n",
       "      <th>gap</th>\n",
       "    </tr>\n",
       "  </thead>\n",
       "  <tbody>\n",
       "    <tr>\n",
       "      <th>0</th>\n",
       "      <td>0</td>\n",
       "      <td>1</td>\n",
       "      <td>1</td>\n",
       "      <td>0</td>\n",
       "      <td>0</td>\n",
       "      <td>0</td>\n",
       "      <td>1</td>\n",
       "      <td>0</td>\n",
       "      <td>0</td>\n",
       "      <td>0</td>\n",
       "      <td>...</td>\n",
       "      <td>1</td>\n",
       "      <td>1</td>\n",
       "      <td>0</td>\n",
       "      <td>1</td>\n",
       "      <td>1</td>\n",
       "      <td>1</td>\n",
       "      <td>1</td>\n",
       "      <td>1</td>\n",
       "      <td>c1ccc(o1)-c1ccc(s1)-c1cnc(-c2scc3[se]ccc23)c2n...</td>\n",
       "      <td>1.19</td>\n",
       "    </tr>\n",
       "    <tr>\n",
       "      <th>1</th>\n",
       "      <td>1</td>\n",
       "      <td>1</td>\n",
       "      <td>0</td>\n",
       "      <td>1</td>\n",
       "      <td>0</td>\n",
       "      <td>1</td>\n",
       "      <td>1</td>\n",
       "      <td>1</td>\n",
       "      <td>0</td>\n",
       "      <td>0</td>\n",
       "      <td>...</td>\n",
       "      <td>1</td>\n",
       "      <td>1</td>\n",
       "      <td>0</td>\n",
       "      <td>0</td>\n",
       "      <td>1</td>\n",
       "      <td>0</td>\n",
       "      <td>1</td>\n",
       "      <td>0</td>\n",
       "      <td>C1=CC=C(C1)c1cc2ncc3c4[SiH2]C=Cc4ncc3c2c2=C[Si...</td>\n",
       "      <td>1.60</td>\n",
       "    </tr>\n",
       "    <tr>\n",
       "      <th>2</th>\n",
       "      <td>2</td>\n",
       "      <td>1</td>\n",
       "      <td>1</td>\n",
       "      <td>1</td>\n",
       "      <td>1</td>\n",
       "      <td>1</td>\n",
       "      <td>1</td>\n",
       "      <td>1</td>\n",
       "      <td>0</td>\n",
       "      <td>0</td>\n",
       "      <td>...</td>\n",
       "      <td>0</td>\n",
       "      <td>1</td>\n",
       "      <td>1</td>\n",
       "      <td>1</td>\n",
       "      <td>1</td>\n",
       "      <td>1</td>\n",
       "      <td>1</td>\n",
       "      <td>1</td>\n",
       "      <td>[nH]1c-2c([SiH2]c3cc(-c4scc5C=CCc45)c4nsnc4c-2...</td>\n",
       "      <td>1.49</td>\n",
       "    </tr>\n",
       "    <tr>\n",
       "      <th>3</th>\n",
       "      <td>3</td>\n",
       "      <td>1</td>\n",
       "      <td>1</td>\n",
       "      <td>0</td>\n",
       "      <td>0</td>\n",
       "      <td>1</td>\n",
       "      <td>1</td>\n",
       "      <td>1</td>\n",
       "      <td>0</td>\n",
       "      <td>0</td>\n",
       "      <td>...</td>\n",
       "      <td>1</td>\n",
       "      <td>1</td>\n",
       "      <td>0</td>\n",
       "      <td>1</td>\n",
       "      <td>1</td>\n",
       "      <td>0</td>\n",
       "      <td>1</td>\n",
       "      <td>0</td>\n",
       "      <td>[nH]1c2-c3occc3Cc2c2c1cc(-c1cccc3=C[SiH2]C=c13...</td>\n",
       "      <td>1.36</td>\n",
       "    </tr>\n",
       "    <tr>\n",
       "      <th>4</th>\n",
       "      <td>4</td>\n",
       "      <td>1</td>\n",
       "      <td>1</td>\n",
       "      <td>1</td>\n",
       "      <td>0</td>\n",
       "      <td>0</td>\n",
       "      <td>1</td>\n",
       "      <td>0</td>\n",
       "      <td>1</td>\n",
       "      <td>0</td>\n",
       "      <td>...</td>\n",
       "      <td>0</td>\n",
       "      <td>1</td>\n",
       "      <td>0</td>\n",
       "      <td>1</td>\n",
       "      <td>0</td>\n",
       "      <td>1</td>\n",
       "      <td>1</td>\n",
       "      <td>1</td>\n",
       "      <td>c1cnc2c3oc4cc(-c5ncncn5)c5nsnc5c4c3c3cocc3c2c1</td>\n",
       "      <td>1.98</td>\n",
       "    </tr>\n",
       "  </tbody>\n",
       "</table>\n",
       "<p>5 rows × 2051 columns</p>\n",
       "</div>"
      ],
      "text/plain": [
       "   Unnamed: 0  0  1  2  3  4  5  6  7  8  ...   2040  2041  2042  2043  2044  \\\n",
       "0           0  1  1  0  0  0  1  0  0  0  ...      1     1     0     1     1   \n",
       "1           1  1  0  1  0  1  1  1  0  0  ...      1     1     0     0     1   \n",
       "2           2  1  1  1  1  1  1  1  0  0  ...      0     1     1     1     1   \n",
       "3           3  1  1  0  0  1  1  1  0  0  ...      1     1     0     1     1   \n",
       "4           4  1  1  1  0  0  1  0  1  0  ...      0     1     0     1     0   \n",
       "\n",
       "   2045  2046  2047                                             smiles   gap  \n",
       "0     1     1     1  c1ccc(o1)-c1ccc(s1)-c1cnc(-c2scc3[se]ccc23)c2n...  1.19  \n",
       "1     0     1     0  C1=CC=C(C1)c1cc2ncc3c4[SiH2]C=Cc4ncc3c2c2=C[Si...  1.60  \n",
       "2     1     1     1  [nH]1c-2c([SiH2]c3cc(-c4scc5C=CCc45)c4nsnc4c-2...  1.49  \n",
       "3     0     1     0  [nH]1c2-c3occc3Cc2c2c1cc(-c1cccc3=C[SiH2]C=c13...  1.36  \n",
       "4     1     1     1     c1cnc2c3oc4cc(-c5ncncn5)c5nsnc5c4c3c3cocc3c2c1  1.98  \n",
       "\n",
       "[5 rows x 2051 columns]"
      ]
     },
     "execution_count": 42,
     "metadata": {},
     "output_type": "execute_result"
    }
   ],
   "source": [
    "df_train_big.head()"
   ]
  },
  {
   "cell_type": "code",
   "execution_count": 43,
   "metadata": {
    "collapsed": false
   },
   "outputs": [
    {
     "data": {
      "text/plain": [
       "(47837, 2051)"
      ]
     },
     "execution_count": 43,
     "metadata": {},
     "output_type": "execute_result"
    }
   ],
   "source": [
    "df_train_big.shape"
   ]
  },
  {
   "cell_type": "code",
   "execution_count": 44,
   "metadata": {
    "collapsed": false
   },
   "outputs": [],
   "source": [
    "colsums = df_train_big.sum(axis=0)"
   ]
  },
  {
   "cell_type": "code",
   "execution_count": 45,
   "metadata": {
    "collapsed": false
   },
   "outputs": [
    {
     "data": {
      "text/plain": [
       "1593"
      ]
     },
     "execution_count": 45,
     "metadata": {},
     "output_type": "execute_result"
    }
   ],
   "source": [
    "min(colsums)"
   ]
  },
  {
   "cell_type": "code",
   "execution_count": 46,
   "metadata": {
    "collapsed": false
   },
   "outputs": [
    {
     "name": "stdout",
     "output_type": "stream",
     "text": [
      "Total # of observations:  47837\n",
      "# for use in training set:  38269\n"
     ]
    }
   ],
   "source": [
    "# construct validation set (80-20)\n",
    "cutoff2 = df_train_big.shape[0]*4/5\n",
    "print \"Total # of observations: \", df_train_big.shape[0]\n",
    "print \"# for use in training set: \", cutoff2"
   ]
  },
  {
   "cell_type": "code",
   "execution_count": 47,
   "metadata": {
    "collapsed": false
   },
   "outputs": [
    {
     "data": {
      "text/html": [
       "<div>\n",
       "<table border=\"1\" class=\"dataframe\">\n",
       "  <thead>\n",
       "    <tr style=\"text-align: right;\">\n",
       "      <th></th>\n",
       "      <th>0</th>\n",
       "      <th>1</th>\n",
       "      <th>2</th>\n",
       "      <th>3</th>\n",
       "      <th>4</th>\n",
       "      <th>5</th>\n",
       "      <th>6</th>\n",
       "      <th>7</th>\n",
       "      <th>8</th>\n",
       "      <th>9</th>\n",
       "      <th>...</th>\n",
       "      <th>2038</th>\n",
       "      <th>2039</th>\n",
       "      <th>2040</th>\n",
       "      <th>2041</th>\n",
       "      <th>2042</th>\n",
       "      <th>2043</th>\n",
       "      <th>2044</th>\n",
       "      <th>2045</th>\n",
       "      <th>2046</th>\n",
       "      <th>2047</th>\n",
       "    </tr>\n",
       "  </thead>\n",
       "  <tbody>\n",
       "    <tr>\n",
       "      <th>0</th>\n",
       "      <td>1</td>\n",
       "      <td>1</td>\n",
       "      <td>0</td>\n",
       "      <td>0</td>\n",
       "      <td>0</td>\n",
       "      <td>1</td>\n",
       "      <td>0</td>\n",
       "      <td>0</td>\n",
       "      <td>0</td>\n",
       "      <td>0</td>\n",
       "      <td>...</td>\n",
       "      <td>1</td>\n",
       "      <td>0</td>\n",
       "      <td>1</td>\n",
       "      <td>1</td>\n",
       "      <td>0</td>\n",
       "      <td>1</td>\n",
       "      <td>1</td>\n",
       "      <td>1</td>\n",
       "      <td>1</td>\n",
       "      <td>1</td>\n",
       "    </tr>\n",
       "    <tr>\n",
       "      <th>1</th>\n",
       "      <td>1</td>\n",
       "      <td>0</td>\n",
       "      <td>1</td>\n",
       "      <td>0</td>\n",
       "      <td>1</td>\n",
       "      <td>1</td>\n",
       "      <td>1</td>\n",
       "      <td>0</td>\n",
       "      <td>0</td>\n",
       "      <td>0</td>\n",
       "      <td>...</td>\n",
       "      <td>0</td>\n",
       "      <td>1</td>\n",
       "      <td>1</td>\n",
       "      <td>1</td>\n",
       "      <td>0</td>\n",
       "      <td>0</td>\n",
       "      <td>1</td>\n",
       "      <td>0</td>\n",
       "      <td>1</td>\n",
       "      <td>0</td>\n",
       "    </tr>\n",
       "    <tr>\n",
       "      <th>2</th>\n",
       "      <td>1</td>\n",
       "      <td>1</td>\n",
       "      <td>1</td>\n",
       "      <td>1</td>\n",
       "      <td>1</td>\n",
       "      <td>1</td>\n",
       "      <td>1</td>\n",
       "      <td>0</td>\n",
       "      <td>0</td>\n",
       "      <td>0</td>\n",
       "      <td>...</td>\n",
       "      <td>1</td>\n",
       "      <td>1</td>\n",
       "      <td>0</td>\n",
       "      <td>1</td>\n",
       "      <td>1</td>\n",
       "      <td>1</td>\n",
       "      <td>1</td>\n",
       "      <td>1</td>\n",
       "      <td>1</td>\n",
       "      <td>1</td>\n",
       "    </tr>\n",
       "    <tr>\n",
       "      <th>3</th>\n",
       "      <td>1</td>\n",
       "      <td>1</td>\n",
       "      <td>0</td>\n",
       "      <td>0</td>\n",
       "      <td>1</td>\n",
       "      <td>1</td>\n",
       "      <td>1</td>\n",
       "      <td>0</td>\n",
       "      <td>0</td>\n",
       "      <td>0</td>\n",
       "      <td>...</td>\n",
       "      <td>1</td>\n",
       "      <td>0</td>\n",
       "      <td>1</td>\n",
       "      <td>1</td>\n",
       "      <td>0</td>\n",
       "      <td>1</td>\n",
       "      <td>1</td>\n",
       "      <td>0</td>\n",
       "      <td>1</td>\n",
       "      <td>0</td>\n",
       "    </tr>\n",
       "    <tr>\n",
       "      <th>4</th>\n",
       "      <td>1</td>\n",
       "      <td>1</td>\n",
       "      <td>1</td>\n",
       "      <td>0</td>\n",
       "      <td>0</td>\n",
       "      <td>1</td>\n",
       "      <td>0</td>\n",
       "      <td>1</td>\n",
       "      <td>0</td>\n",
       "      <td>0</td>\n",
       "      <td>...</td>\n",
       "      <td>1</td>\n",
       "      <td>1</td>\n",
       "      <td>0</td>\n",
       "      <td>1</td>\n",
       "      <td>0</td>\n",
       "      <td>1</td>\n",
       "      <td>0</td>\n",
       "      <td>1</td>\n",
       "      <td>1</td>\n",
       "      <td>1</td>\n",
       "    </tr>\n",
       "  </tbody>\n",
       "</table>\n",
       "<p>5 rows × 2048 columns</p>\n",
       "</div>"
      ],
      "text/plain": [
       "   0  1  2  3  4  5  6  7  8  9  ...   2038  2039  2040  2041  2042  2043  \\\n",
       "0  1  1  0  0  0  1  0  0  0  0  ...      1     0     1     1     0     1   \n",
       "1  1  0  1  0  1  1  1  0  0  0  ...      0     1     1     1     0     0   \n",
       "2  1  1  1  1  1  1  1  0  0  0  ...      1     1     0     1     1     1   \n",
       "3  1  1  0  0  1  1  1  0  0  0  ...      1     0     1     1     0     1   \n",
       "4  1  1  1  0  0  1  0  1  0  0  ...      1     1     0     1     0     1   \n",
       "\n",
       "   2044  2045  2046  2047  \n",
       "0     1     1     1     1  \n",
       "1     1     0     1     0  \n",
       "2     1     1     1     1  \n",
       "3     1     0     1     0  \n",
       "4     0     1     1     1  \n",
       "\n",
       "[5 rows x 2048 columns]"
      ]
     },
     "execution_count": 47,
     "metadata": {},
     "output_type": "execute_result"
    }
   ],
   "source": [
    "#store gap values\n",
    "Y_big_all = df_train_big.gap.values\n",
    "Y_big_train = Y_big_all[:cutoff2]\n",
    "Y_big_valid = Y_big_all[cutoff2:]\n",
    "\n",
    "#delete 'gap' column\n",
    "df_train_big = df_train_big.drop(['gap'], axis=1)\n",
    "#delete first column\n",
    "df_train_big = df_train_big.drop(['Unnamed: 0'], axis=1)\n",
    "\n",
    "#save and delete smiles\n",
    "big_smiles = df_train_big['smiles']\n",
    "df_train_big = df_train_big.drop(['smiles'], axis=1)\n",
    "\n",
    "df_train_big.head()"
   ]
  },
  {
   "cell_type": "code",
   "execution_count": 48,
   "metadata": {
    "collapsed": false
   },
   "outputs": [
    {
     "name": "stdout",
     "output_type": "stream",
     "text": [
      "Train features:  (38269, 2048)\n",
      "Validation set:  (9568, 2048)\n",
      "Train gap:  (38269,)\n",
      "Validation set for gap:  (9568,)\n"
     ]
    }
   ],
   "source": [
    "vals2 = df_train_big.values  # converts data to numpy format (array)\n",
    "X_big_train = vals2[:cutoff2]\n",
    "X_big_valid = vals2[cutoff2:]\n",
    "\n",
    "print \"Train features: \", X_big_train.shape\n",
    "print \"Validation set: \", X_big_valid.shape\n",
    "print \"Train gap: \", Y_big_train.shape\n",
    "print \"Validation set for gap: \", Y_big_valid.shape"
   ]
  },
  {
   "cell_type": "markdown",
   "metadata": {},
   "source": [
    "### models"
   ]
  },
  {
   "cell_type": "code",
   "execution_count": 49,
   "metadata": {
    "collapsed": false
   },
   "outputs": [
    {
     "name": "stdout",
     "output_type": "stream",
     "text": [
      "\n",
      "89 seconds to run linear regression (2048 fingerprints)\n",
      "Training set (80/20) RMSE = 0.13556\n",
      "Validation set RMSE = 0.14358\n"
     ]
    }
   ],
   "source": [
    "# Linear Regression\n",
    "start = time.time()\n",
    "\n",
    "LRbig = LinearRegression()\n",
    "LRbig.fit(X_big_train, Y_big_train)\n",
    "LRbig_validate = LRbig.predict(X_big_valid)\n",
    "\n",
    "timer = time.time() - start\n",
    "print '\\n%d seconds to run linear regression (2048 fingerprints)' % timer\n",
    "\n",
    "LRbig_rmse = math.sqrt(mean_squared_error(Y_big_train, LRbig.predict(X_big_train)))\n",
    "print 'Training set (80/20) RMSE = %0.5f' % LRbig_rmse\n",
    "\n",
    "LRbig_rmsev = math.sqrt(mean_squared_error(Y_big_valid, LRbig_validate))\n",
    "print 'Validation set RMSE = %0.5f' % LRbig_rmsev"
   ]
  },
  {
   "cell_type": "markdown",
   "metadata": {},
   "source": [
    "<div class=\"alert alert-warning\">\n",
    "<strong>Obtain test file for linear regression</strong>\n",
    "</div>"
   ]
  },
  {
   "cell_type": "code",
   "execution_count": null,
   "metadata": {
    "collapsed": true
   },
   "outputs": [],
   "source": [
    "#LRbig_pred = LRbig.predict(X_big_test)\n",
    "#write_to_file(\"LRbig.csv\", LRbig_pred)"
   ]
  },
  {
   "cell_type": "markdown",
   "metadata": {},
   "source": [
    "<div class=\"alert alert-warning\">\n",
    "<strong>--</strong>\n",
    "</div>"
   ]
  },
  {
   "cell_type": "code",
   "execution_count": 50,
   "metadata": {
    "collapsed": false
   },
   "outputs": [
    {
     "name": "stdout",
     "output_type": "stream",
     "text": [
      "\n",
      "163 seconds to run random forest (2048 fingerprints)\n",
      "Training set (80/20) RMSE = 0.07112\n",
      "Validation set RMSE = 0.16244\n"
     ]
    }
   ],
   "source": [
    "# Random Forest\n",
    "start = time.time()\n",
    "\n",
    "RFbig = RandomForestRegressor()\n",
    "RFbig.fit(X_big_train, Y_big_train)\n",
    "RFbig_validate = RFbig.predict(X_big_valid)\n",
    "\n",
    "timer = time.time() - start\n",
    "print '\\n%d seconds to run random forest (2048 fingerprints)' % timer\n",
    "\n",
    "RFbig_rmse = math.sqrt(mean_squared_error(Y_big_train, RFbig.predict(X_big_train)))\n",
    "print 'Training set (80/20) RMSE = %0.5f' % RFbig_rmse\n",
    "\n",
    "RFbig_rmsev = math.sqrt(mean_squared_error(Y_big_valid, RFbig_validate))\n",
    "print 'Validation set RMSE = %0.5f' % RFbig_rmsev"
   ]
  },
  {
   "cell_type": "markdown",
   "metadata": {},
   "source": [
    "<div class=\"alert alert-warning\">\n",
    "<strong>Obtain test file for random forest</strong>\n",
    "</div>"
   ]
  },
  {
   "cell_type": "code",
   "execution_count": null,
   "metadata": {
    "collapsed": true
   },
   "outputs": [],
   "source": [
    "#RFbig_pred = RFbig.predict(X_big_test)\n",
    "#write_to_file(\"RFbig.csv\", RFbig_pred)"
   ]
  },
  {
   "cell_type": "markdown",
   "metadata": {},
   "source": [
    "<div class=\"alert alert-warning\">\n",
    "<strong>--</strong>\n",
    "</div>"
   ]
  },
  {
   "cell_type": "code",
   "execution_count": 51,
   "metadata": {
    "collapsed": false
   },
   "outputs": [
    {
     "name": "stdout",
     "output_type": "stream",
     "text": [
      "\n",
      "Alpha = 1.0000\n",
      "2 seconds to complete lasso on big set (2048 fingerprints)\n",
      "Training set (80/20) RMSE = 0.39679\n",
      "Validation set RMSE = 0.39483\n",
      "\n",
      "Alpha = 0.1000\n",
      "5 seconds to complete lasso on big set (2048 fingerprints)\n",
      "Training set (80/20) RMSE = 0.39679\n",
      "Validation set RMSE = 0.39483\n",
      "\n",
      "Alpha = 0.0100\n",
      "14 seconds to complete lasso on big set (2048 fingerprints)\n",
      "Training set (80/20) RMSE = 0.20788\n",
      "Validation set RMSE = 0.20784\n",
      "\n",
      "Alpha = 0.0010\n",
      "97 seconds to complete lasso on big set (2048 fingerprints)\n",
      "Training set (80/20) RMSE = 0.15339\n",
      "Validation set RMSE = 0.15558\n",
      "\n",
      "Alpha = 0.0001\n",
      "228 seconds to complete lasso on big set (2048 fingerprints)\n",
      "Training set (80/20) RMSE = 0.13709\n",
      "Validation set RMSE = 0.14350\n"
     ]
    }
   ],
   "source": [
    "# Lasso\n",
    "\n",
    "start = time.time()\n",
    "\n",
    "params = [1.0, 0.1, 0.01, 0.001, 0.0001]\n",
    "\n",
    "for alpha in params:\n",
    "    LR_lasso2 = Lasso(alpha)\n",
    "    LR_lasso2.fit(X_big_train, Y_big_train)\n",
    "    LR_lasso2_validate = LR_lasso2.predict(X_big_valid)\n",
    "    # LR_lasso2_pred = LR_lasso2.predict(X_big_test)\n",
    "\n",
    "    timer = time.time() - start\n",
    "    print '\\nAlpha = %0.4f' % alpha\n",
    "    print '%d seconds to complete lasso on big set (2048 fingerprints)' % timer\n",
    "\n",
    "    LR_lasso2_rmse = math.sqrt(mean_squared_error(Y_big_train, LR_lasso2.predict(X_big_train)))\n",
    "    print 'Training set (80/20) RMSE = %0.5f' % LR_lasso2_rmse\n",
    "\n",
    "    LR_lasso2_rmsev = math.sqrt(mean_squared_error(Y_big_valid, LR_lasso2_validate))\n",
    "    print 'Validation set RMSE = %0.5f' % LR_lasso2_rmsev"
   ]
  },
  {
   "cell_type": "markdown",
   "metadata": {},
   "source": [
    "<div class=\"alert alert-info\">\n",
    "<strong>Try string parsing</strong>\n",
    "</div>"
   ]
  },
  {
   "cell_type": "code",
   "execution_count": 52,
   "metadata": {
    "collapsed": false
   },
   "outputs": [
    {
     "data": {
      "text/plain": [
       "1    C1=CC=C(C1)c1cc2ncc3c4[SiH2]C=Cc4ncc3c2c2=C[Si...\n",
       "1           [nH]1cccc1-c1cc2c3nsnc3c3c4sccc4[nH]c3c2s1\n",
       "Name: smiles, dtype: object"
      ]
     },
     "execution_count": 52,
     "metadata": {},
     "output_type": "execute_result"
    }
   ],
   "source": [
    "smiles[1]"
   ]
  },
  {
   "cell_type": "markdown",
   "metadata": {},
   "source": [
    "We notice the string itself is composed of common characters. Among other things, chemical symbols and bonds are represented.  Perhaps if we treat this as a string character investigative exercise we may be able to generate some relevant features: e.g. whether or not a particular character(s) appears, and if so, how many times. <p>\n",
    "\n",
    "Link re SMILES strings:  https://en.wikipedia.org/wiki/Simplified_molecular-input_line-entry_system <p>\n",
    "\n",
    "Some points: <br>\n",
    "- a number of equally valid SMILES strings can be written for a molecule. For example, CCO, OCC and C(O)C all specify the structure of ethanol <br>\n",
    "- Atoms are represented by the standard abbreviation of the chemical elements, in square brackets, such as [Au] for gold. Brackets can be omitted for the \"organic subset\" of B, C, N, O, P, S, F, Cl, Br, and I. All other elements must be enclosed in brackets. If the brackets are omitted, the proper number of implicit hydrogen atoms is assumed; for instance the SMILES for water is simply O <br>\n",
    "- An atom holding one or more electrical charges is enclosed in brackets, followed by the symbol H if it is bonded to one or more atoms of hydrogen, followed by the number of hydrogen atoms <br>\n",
    "- Ring closure labels are used to indicate connectivity between non-adjacent atoms in the SMILES string, which for cyclohexane and dioxane can be written as C1CCCCC1 and O1CCOCC1 respectively. For a second ring, the label will be 2 (naphthalene: c1cccc2c1cccc2 (note the lower case for aromatic compounds))... After reaching 9, the label must be preceded by a '%' <br>\n",
    "- Double, triple, and quadruple bonds are represented by the symbols '=', '#', and '$' respectively as illustrated by the SMILES O=C=O (carbon dioxide) <br>\n",
    "- Aromatic C, O, S and N atoms are shown in their lower case 'c', 'o', 's' and 'n' respectively. Benzene, pyridine and furan can be represented respectively by the SMILES c1ccccc1, n1ccccc1 and o1cccc1 <br>\n",
    "- Aromatic nitrogen bonded to hydrogen, as found in pyrrole must be represented as [nH] and imidazole is written in SMILES notation as n1c[nH]cc1 <br>\n",
    "Branches are described with parentheses <br>\n",
    "- Configuration around double bonds is specified using the characters \"/\" and \"\\\" <br>\n",
    "- Configuration at tetrahedral carbon is specified by @ or @@ <p>\n",
    "\n",
    "Link re: Organic Solar cells: https://en.wikipedia.org/wiki/Organic_solar_cell <p>\n",
    "\n",
    "- Molecular engineering (e.g. changing the length and functional group of polymers) can change the band gap, allowing for electronic tunability <br>\n",
    "- A common characteristic of both the small molecules and polymers (Fig 1) used as the light-absorbing material in photovoltaics is that they all have large conjugated systems. A conjugated system is formed where carbon atoms covalently bond with alternating single and double bonds"
   ]
  },
  {
   "cell_type": "markdown",
   "metadata": {},
   "source": [
    "Searching through the original training data set revealed that the following characters were present in the string: <p>\n",
    "\n",
    "numbers = [1, 2, 3, 4, 5, 6] <br>\n",
    "bond_symbols = [\"=\", \"-\"] <br>\n",
    "carbons = [\"c\", \"C\"] <br>\n",
    "hydrogens = [\"H\"] (not sure if He appears)<br>\n",
    "sulphurs = [\"S\", \"s\"] (should treat Si separately, not sure if Se/Sn appears) <br>\n",
    "oxygens = [\"o\"] <br>\n",
    "nitrogens = [\"n\"] <br>\n",
    "brackets = [\"(\", \")\", \"[\", \"]\"] <p>"
   ]
  },
  {
   "cell_type": "code",
   "execution_count": 15,
   "metadata": {
    "collapsed": false
   },
   "outputs": [],
   "source": [
    "def countsymb(symbol, smile):\n",
    "    # count number of times symbol exists in smile string\n",
    "    # this is specific to the list of characters found in the training set noted above\n",
    "    # since we check for specific two-symbol elements\n",
    "    numchars = len(str(symbol))\n",
    "    count = 0\n",
    "    \n",
    "    if numchars>1:\n",
    "        for i in range(len(smile)+1-numchars):\n",
    "            if smile[i:i+numchars]==symbol:\n",
    "                count += 1\n",
    "    else:\n",
    "        for i in range(len(smile)):\n",
    "            if smile[i]==symbol:\n",
    "                if (((symbol==\"S\") or (symbol==\"s\")) and (i!=len(smile)) and (smile[i+1] in [\"i\", \"e\", \"n\"])):\n",
    "                    pass\n",
    "                elif (symbol==\"H\") and (i!=len(smile)) and (smile[i+1]==\"e\"):\n",
    "                    pass\n",
    "                else:\n",
    "                    try:\n",
    "                        if (symbol==\"H\") and (smile[i+2]==\"]\"):\n",
    "                            # the number represents hydrogen atoms\n",
    "                            count += int(smile[i+1])\n",
    "                        else:\n",
    "                            count += 1\n",
    "                    except:\n",
    "                        count += 1\n",
    "\n",
    "    return count"
   ]
  },
  {
   "cell_type": "code",
   "execution_count": 54,
   "metadata": {
    "collapsed": false
   },
   "outputs": [
    {
     "data": {
      "text/plain": [
       "3"
      ]
     },
     "execution_count": 54,
     "metadata": {},
     "output_type": "execute_result"
    }
   ],
   "source": [
    "countsymb(\"H\", \"CcH3]eCcK\")"
   ]
  },
  {
   "cell_type": "code",
   "execution_count": 55,
   "metadata": {
    "collapsed": false
   },
   "outputs": [
    {
     "data": {
      "text/plain": [
       "False"
      ]
     },
     "execution_count": 55,
     "metadata": {},
     "output_type": "execute_result"
    }
   ],
   "source": [
    "\"i\" not in [\"i\", \"j\"]"
   ]
  },
  {
   "cell_type": "code",
   "execution_count": 56,
   "metadata": {
    "collapsed": false
   },
   "outputs": [
    {
     "data": {
      "text/plain": [
       "'0    c1ccc(o1)-c1ccc(s1)-c1cnc(-c2scc3[se]ccc23)c2n...\\n0    c1sc(-c2cnc3c(c2)c2nsnc2c2cc4cccnc4cc32)c2cc[n...\\nName: smiles, dtype: object'"
      ]
     },
     "execution_count": 56,
     "metadata": {},
     "output_type": "execute_result"
    }
   ],
   "source": [
    "str(smiles.loc[0])"
   ]
  },
  {
   "cell_type": "code",
   "execution_count": 57,
   "metadata": {
    "collapsed": false
   },
   "outputs": [
    {
     "data": {
      "text/plain": [
       "2"
      ]
     },
     "execution_count": 57,
     "metadata": {},
     "output_type": "execute_result"
    }
   ],
   "source": [
    "countsymb(\"Si\", str(smiles.loc[1]))"
   ]
  },
  {
   "cell_type": "code",
   "execution_count": 16,
   "metadata": {
    "collapsed": false
   },
   "outputs": [],
   "source": [
    "def maxnum(smile):\n",
    "    # determines the maximum integer that occurs in a smile string as part of a ring\n",
    "    maxn = 0\n",
    "    for i in range(len(smile)):\n",
    "        if smile[i]==\"%\":  # 2 digit\n",
    "            if int(smile[i+1:i+3])>maxn:\n",
    "                maxn = int(smile[i+1:i+3])\n",
    "        else:\n",
    "            try:\n",
    "                if int(smile[i])>maxn:\n",
    "                    if (i!=len(smile)) and (smile[i+1]==\"]\"):\n",
    "                        # not part of ring, it is a hydrogen count\n",
    "                        pass\n",
    "                    else:\n",
    "                        maxn = int(smile[i])\n",
    "            except:\n",
    "                pass\n",
    "    return maxn"
   ]
  },
  {
   "cell_type": "code",
   "execution_count": 59,
   "metadata": {
    "collapsed": false
   },
   "outputs": [
    {
     "data": {
      "text/plain": [
       "3"
      ]
     },
     "execution_count": 59,
     "metadata": {},
     "output_type": "execute_result"
    }
   ],
   "source": [
    "maxnum(\"Csslkcjlkjd13lkjflkjf2kjhkjhkjh7\")"
   ]
  },
  {
   "cell_type": "code",
   "execution_count": 60,
   "metadata": {
    "collapsed": false
   },
   "outputs": [
    {
     "data": {
      "text/plain": [
       "4"
      ]
     },
     "execution_count": 60,
     "metadata": {},
     "output_type": "execute_result"
    }
   ],
   "source": [
    "maxnum(str(smiles.loc[1]))"
   ]
  },
  {
   "cell_type": "markdown",
   "metadata": {},
   "source": [
    "### generate features only from string"
   ]
  },
  {
   "cell_type": "markdown",
   "metadata": {},
   "source": [
    "Given that the 256 features we were given did not show any significant improvement, we decided to start from scratch."
   ]
  },
  {
   "cell_type": "code",
   "execution_count": 17,
   "metadata": {
    "collapsed": true
   },
   "outputs": [],
   "source": [
    "smileparseDF = smiles.to_frame()"
   ]
  },
  {
   "cell_type": "code",
   "execution_count": 62,
   "metadata": {
    "collapsed": false
   },
   "outputs": [
    {
     "data": {
      "text/plain": [
       "(1824230, 1)"
      ]
     },
     "execution_count": 62,
     "metadata": {},
     "output_type": "execute_result"
    }
   ],
   "source": [
    "smileparseDF.shape"
   ]
  },
  {
   "cell_type": "code",
   "execution_count": 18,
   "metadata": {
    "collapsed": false
   },
   "outputs": [],
   "source": [
    "# calculate some feature for each smile string and add a feature column\n",
    "\n",
    "# count carbons\n",
    "smallc = np.vstack(smileparseDF.smiles.astype(str).apply(lambda x: countsymb(\"c\", x)))\n",
    "smileparseDF['smallc'] = pd.DataFrame(smallc)\n",
    "\n",
    "bigc = np.vstack(smileparseDF.smiles.astype(str).apply(lambda x: countsymb(\"C\", x)))\n",
    "smileparseDF['bigc'] = pd.DataFrame(bigc)\n",
    "\n",
    "smileparseDF['sumc'] = smileparseDF['smallc'] + smileparseDF['bigc']\n",
    "\n",
    "# count H, o, n\n",
    "bigh = np.vstack(smileparseDF.smiles.astype(str).apply(lambda x: countsymb(\"H\", x)))\n",
    "smileparseDF['bigh'] = pd.DataFrame(bigh)\n",
    "\n",
    "smallo = np.vstack(smileparseDF.smiles.astype(str).apply(lambda x: countsymb(\"o\", x)))\n",
    "smileparseDF['smallo'] = pd.DataFrame(smallo)\n",
    "\n",
    "smalln = np.vstack(smileparseDF.smiles.astype(str).apply(lambda x: countsymb(\"n\", x)))\n",
    "smileparseDF['smalln'] = pd.DataFrame(smalln)\n",
    "\n",
    "# count sulphurs\n",
    "smalls = np.vstack(smileparseDF.smiles.astype(str).apply(lambda x: countsymb(\"s\", x)))\n",
    "smileparseDF['smalls'] = pd.DataFrame(smalls)\n",
    "\n",
    "bigs = np.vstack(smileparseDF.smiles.astype(str).apply(lambda x: countsymb(\"S\", x)))\n",
    "smileparseDF['bigs'] = pd.DataFrame(bigs)\n",
    "\n",
    "smileparseDF['sums'] = smileparseDF['smalls'] + smileparseDF['bigs']\n",
    "\n",
    "# two-character\n",
    "nh = np.vstack(smileparseDF.smiles.astype(str).apply(lambda x: countsymb(\"nH\", x)))\n",
    "smileparseDF['nh'] = pd.DataFrame(nh)\n",
    "\n",
    "silica = np.vstack(smileparseDF.smiles.astype(str).apply(lambda x: countsymb(\"Si\", x)))\n",
    "smileparseDF['silica'] = pd.DataFrame(silica)\n",
    "\n",
    "sn = np.vstack(smileparseDF.smiles.astype(str).apply(lambda x: countsymb(\"Sn\", x)))\n",
    "smileparseDF['sn'] = pd.DataFrame(sn)\n",
    "\n",
    "se = np.vstack(smileparseDF.smiles.astype(str).apply(lambda x: countsymb(\"se\", x)))\n",
    "smileparseDF['se'] = pd.DataFrame(se)\n",
    "\n",
    "he = np.vstack(smileparseDF.smiles.astype(str).apply(lambda x: countsymb(\"He\", x)))\n",
    "smileparseDF['he'] = pd.DataFrame(he)\n",
    "\n",
    "# carbon sequences\n",
    "cc = np.vstack(smileparseDF.smiles.astype(str).apply(lambda x: countsymb(\"cc\", x)))\n",
    "smileparseDF['cc'] = pd.DataFrame(cc)\n",
    "\n",
    "cc_cap = np.vstack(smileparseDF.smiles.astype(str).apply(lambda x: countsymb(\"CC\", x)))\n",
    "smileparseDF['cc_cap'] = pd.DataFrame(cc_cap)\n",
    "\n",
    "cc_bs = np.vstack(smileparseDF.smiles.astype(str).apply(lambda x: countsymb(\"Cc\", x)))\n",
    "smileparseDF['cc_bs'] = pd.DataFrame(cc_bs)\n",
    "\n",
    "cc_sb = np.vstack(smileparseDF.smiles.astype(str).apply(lambda x: countsymb(\"cC\", x)))\n",
    "smileparseDF['cc_sb'] = pd.DataFrame(cc_sb)\n",
    "\n",
    "smileparseDF['cc_pairs'] = smileparseDF['cc'] + smileparseDF['cc_cap'] + smileparseDF['cc_bs'] + smileparseDF['cc_sb']\n",
    "\n",
    "cn = np.vstack(smileparseDF.smiles.astype(str).apply(lambda x: countsymb(\"cn\", x)))\n",
    "smileparseDF['cn'] = pd.DataFrame(cn)\n",
    "\n",
    "nc = np.vstack(smileparseDF.smiles.astype(str).apply(lambda x: countsymb(\"nc\", x)))\n",
    "smileparseDF['nc'] = pd.DataFrame(nc)\n",
    "\n",
    "# bonds\n",
    "dblbond = np.vstack(smileparseDF.smiles.astype(str).apply(lambda x: countsymb(\"=\", x)))\n",
    "smileparseDF['dblbond'] = pd.DataFrame(dblbond)\n",
    "\n",
    "sglbond = np.vstack(smileparseDF.smiles.astype(str).apply(lambda x: countsymb(\"-\", x)))\n",
    "smileparseDF['sglbond'] = pd.DataFrame(sglbond)\n",
    "\n",
    "# brackets\n",
    "roundbr = np.vstack(smileparseDF.smiles.astype(str).apply(lambda x: countsymb(\"(\", x)))\n",
    "smileparseDF['roundbr'] = pd.DataFrame(roundbr)\n",
    "\n",
    "squarebr = np.vstack(smileparseDF.smiles.astype(str).apply(lambda x: countsymb(\"[\", x)))\n",
    "smileparseDF['squarebr'] = pd.DataFrame(squarebr)\n",
    "\n",
    "smileparseDF['bracks'] = smileparseDF['roundbr'] + smileparseDF['squarebr']\n",
    "\n",
    "# other compounds\n",
    "benz = np.vstack(smileparseDF.smiles.astype(str).apply(lambda x: countsymb(\"c1ccccc1\", x)))\n",
    "smileparseDF['benz'] = pd.DataFrame(benz)\n",
    "\n",
    "# count number of rings\n",
    "rings = np.vstack(smileparseDF.smiles.astype(str).apply(lambda x: maxnum(x)))\n",
    "smileparseDF['rings'] = pd.DataFrame(rings)"
   ]
  },
  {
   "cell_type": "code",
   "execution_count": 19,
   "metadata": {
    "collapsed": false
   },
   "outputs": [
    {
     "data": {
      "text/html": [
       "<div>\n",
       "<table border=\"1\" class=\"dataframe\">\n",
       "  <thead>\n",
       "    <tr style=\"text-align: right;\">\n",
       "      <th></th>\n",
       "      <th>smiles</th>\n",
       "      <th>smallc</th>\n",
       "      <th>bigc</th>\n",
       "      <th>sumc</th>\n",
       "      <th>bigh</th>\n",
       "      <th>smallo</th>\n",
       "      <th>smalln</th>\n",
       "      <th>smalls</th>\n",
       "      <th>bigs</th>\n",
       "      <th>sums</th>\n",
       "      <th>...</th>\n",
       "      <th>cc_pairs</th>\n",
       "      <th>cn</th>\n",
       "      <th>nc</th>\n",
       "      <th>dblbond</th>\n",
       "      <th>sglbond</th>\n",
       "      <th>roundbr</th>\n",
       "      <th>squarebr</th>\n",
       "      <th>bracks</th>\n",
       "      <th>benz</th>\n",
       "      <th>rings</th>\n",
       "    </tr>\n",
       "  </thead>\n",
       "  <tbody>\n",
       "    <tr>\n",
       "      <th>0</th>\n",
       "      <td>c1ccc(o1)-c1ccc(s1)-c1cnc(-c2scc3[se]ccc23)c2n...</td>\n",
       "      <td>19</td>\n",
       "      <td>0</td>\n",
       "      <td>19</td>\n",
       "      <td>0</td>\n",
       "      <td>1</td>\n",
       "      <td>3</td>\n",
       "      <td>2</td>\n",
       "      <td>0</td>\n",
       "      <td>2</td>\n",
       "      <td>...</td>\n",
       "      <td>7</td>\n",
       "      <td>1</td>\n",
       "      <td>2</td>\n",
       "      <td>0</td>\n",
       "      <td>3</td>\n",
       "      <td>3</td>\n",
       "      <td>1</td>\n",
       "      <td>4</td>\n",
       "      <td>0</td>\n",
       "      <td>3</td>\n",
       "    </tr>\n",
       "    <tr>\n",
       "      <th>1</th>\n",
       "      <td>C1=CC=C(C1)c1cc2ncc3c4[SiH2]C=Cc4ncc3c2c2=C[Si...</td>\n",
       "      <td>12</td>\n",
       "      <td>9</td>\n",
       "      <td>21</td>\n",
       "      <td>4</td>\n",
       "      <td>0</td>\n",
       "      <td>2</td>\n",
       "      <td>0</td>\n",
       "      <td>0</td>\n",
       "      <td>0</td>\n",
       "      <td>...</td>\n",
       "      <td>5</td>\n",
       "      <td>0</td>\n",
       "      <td>2</td>\n",
       "      <td>5</td>\n",
       "      <td>0</td>\n",
       "      <td>1</td>\n",
       "      <td>2</td>\n",
       "      <td>3</td>\n",
       "      <td>0</td>\n",
       "      <td>4</td>\n",
       "    </tr>\n",
       "    <tr>\n",
       "      <th>2</th>\n",
       "      <td>[nH]1c-2c([SiH2]c3cc(-c4scc5C=CCc45)c4nsnc4c-2...</td>\n",
       "      <td>18</td>\n",
       "      <td>3</td>\n",
       "      <td>21</td>\n",
       "      <td>3</td>\n",
       "      <td>0</td>\n",
       "      <td>3</td>\n",
       "      <td>1</td>\n",
       "      <td>0</td>\n",
       "      <td>1</td>\n",
       "      <td>...</td>\n",
       "      <td>8</td>\n",
       "      <td>0</td>\n",
       "      <td>1</td>\n",
       "      <td>1</td>\n",
       "      <td>3</td>\n",
       "      <td>2</td>\n",
       "      <td>2</td>\n",
       "      <td>4</td>\n",
       "      <td>0</td>\n",
       "      <td>5</td>\n",
       "    </tr>\n",
       "    <tr>\n",
       "      <th>3</th>\n",
       "      <td>[nH]1c2-c3occc3Cc2c2c1cc(-c1cccc3=C[SiH2]C=c13...</td>\n",
       "      <td>18</td>\n",
       "      <td>5</td>\n",
       "      <td>23</td>\n",
       "      <td>5</td>\n",
       "      <td>1</td>\n",
       "      <td>1</td>\n",
       "      <td>0</td>\n",
       "      <td>0</td>\n",
       "      <td>0</td>\n",
       "      <td>...</td>\n",
       "      <td>7</td>\n",
       "      <td>0</td>\n",
       "      <td>0</td>\n",
       "      <td>4</td>\n",
       "      <td>2</td>\n",
       "      <td>1</td>\n",
       "      <td>3</td>\n",
       "      <td>4</td>\n",
       "      <td>0</td>\n",
       "      <td>3</td>\n",
       "    </tr>\n",
       "    <tr>\n",
       "      <th>4</th>\n",
       "      <td>c1cnc2c3oc4cc(-c5ncncn5)c5nsnc5c4c3c3cocc3c2c1</td>\n",
       "      <td>20</td>\n",
       "      <td>0</td>\n",
       "      <td>20</td>\n",
       "      <td>0</td>\n",
       "      <td>2</td>\n",
       "      <td>6</td>\n",
       "      <td>0</td>\n",
       "      <td>0</td>\n",
       "      <td>0</td>\n",
       "      <td>...</td>\n",
       "      <td>2</td>\n",
       "      <td>3</td>\n",
       "      <td>4</td>\n",
       "      <td>0</td>\n",
       "      <td>1</td>\n",
       "      <td>1</td>\n",
       "      <td>0</td>\n",
       "      <td>1</td>\n",
       "      <td>0</td>\n",
       "      <td>5</td>\n",
       "    </tr>\n",
       "    <tr>\n",
       "      <th>5</th>\n",
       "      <td>C1=Cc2cnc3cc4cc(-c5scc6[nH]ccc56)c5ccccc5c4cc3...</td>\n",
       "      <td>23</td>\n",
       "      <td>2</td>\n",
       "      <td>25</td>\n",
       "      <td>3</td>\n",
       "      <td>0</td>\n",
       "      <td>2</td>\n",
       "      <td>1</td>\n",
       "      <td>0</td>\n",
       "      <td>1</td>\n",
       "      <td>...</td>\n",
       "      <td>11</td>\n",
       "      <td>1</td>\n",
       "      <td>1</td>\n",
       "      <td>1</td>\n",
       "      <td>1</td>\n",
       "      <td>1</td>\n",
       "      <td>2</td>\n",
       "      <td>3</td>\n",
       "      <td>0</td>\n",
       "      <td>6</td>\n",
       "    </tr>\n",
       "    <tr>\n",
       "      <th>6</th>\n",
       "      <td>c1ncc(s1)-c1cnc2c(c1)oc1c2ccc2ccccc12</td>\n",
       "      <td>18</td>\n",
       "      <td>0</td>\n",
       "      <td>18</td>\n",
       "      <td>0</td>\n",
       "      <td>1</td>\n",
       "      <td>2</td>\n",
       "      <td>1</td>\n",
       "      <td>0</td>\n",
       "      <td>1</td>\n",
       "      <td>...</td>\n",
       "      <td>7</td>\n",
       "      <td>1</td>\n",
       "      <td>2</td>\n",
       "      <td>0</td>\n",
       "      <td>1</td>\n",
       "      <td>2</td>\n",
       "      <td>0</td>\n",
       "      <td>2</td>\n",
       "      <td>0</td>\n",
       "      <td>2</td>\n",
       "    </tr>\n",
       "    <tr>\n",
       "      <th>7</th>\n",
       "      <td>c1sc(-c2ccc3c(c2)sc2c3c3=CCC=c3c3cccnc23)c2[se...</td>\n",
       "      <td>21</td>\n",
       "      <td>3</td>\n",
       "      <td>24</td>\n",
       "      <td>0</td>\n",
       "      <td>0</td>\n",
       "      <td>1</td>\n",
       "      <td>2</td>\n",
       "      <td>0</td>\n",
       "      <td>2</td>\n",
       "      <td>...</td>\n",
       "      <td>8</td>\n",
       "      <td>1</td>\n",
       "      <td>1</td>\n",
       "      <td>2</td>\n",
       "      <td>1</td>\n",
       "      <td>2</td>\n",
       "      <td>1</td>\n",
       "      <td>3</td>\n",
       "      <td>0</td>\n",
       "      <td>3</td>\n",
       "    </tr>\n",
       "    <tr>\n",
       "      <th>8</th>\n",
       "      <td>c1ccc(o1)-c1cc2cc3cc4c5c[nH]cc5ccc4cc3cc2o1</td>\n",
       "      <td>22</td>\n",
       "      <td>0</td>\n",
       "      <td>22</td>\n",
       "      <td>1</td>\n",
       "      <td>2</td>\n",
       "      <td>1</td>\n",
       "      <td>0</td>\n",
       "      <td>0</td>\n",
       "      <td>0</td>\n",
       "      <td>...</td>\n",
       "      <td>10</td>\n",
       "      <td>0</td>\n",
       "      <td>0</td>\n",
       "      <td>0</td>\n",
       "      <td>1</td>\n",
       "      <td>1</td>\n",
       "      <td>1</td>\n",
       "      <td>2</td>\n",
       "      <td>0</td>\n",
       "      <td>5</td>\n",
       "    </tr>\n",
       "    <tr>\n",
       "      <th>9</th>\n",
       "      <td>[nH]1ccc2c3c[nH]cc3c3cc(-c4cncs4)c4=CCC=c4c3c12</td>\n",
       "      <td>17</td>\n",
       "      <td>3</td>\n",
       "      <td>20</td>\n",
       "      <td>2</td>\n",
       "      <td>0</td>\n",
       "      <td>3</td>\n",
       "      <td>1</td>\n",
       "      <td>0</td>\n",
       "      <td>1</td>\n",
       "      <td>...</td>\n",
       "      <td>6</td>\n",
       "      <td>1</td>\n",
       "      <td>1</td>\n",
       "      <td>2</td>\n",
       "      <td>1</td>\n",
       "      <td>1</td>\n",
       "      <td>2</td>\n",
       "      <td>3</td>\n",
       "      <td>0</td>\n",
       "      <td>4</td>\n",
       "    </tr>\n",
       "  </tbody>\n",
       "</table>\n",
       "<p>10 rows × 29 columns</p>\n",
       "</div>"
      ],
      "text/plain": [
       "                                              smiles  smallc  bigc  sumc  \\\n",
       "0  c1ccc(o1)-c1ccc(s1)-c1cnc(-c2scc3[se]ccc23)c2n...      19     0    19   \n",
       "1  C1=CC=C(C1)c1cc2ncc3c4[SiH2]C=Cc4ncc3c2c2=C[Si...      12     9    21   \n",
       "2  [nH]1c-2c([SiH2]c3cc(-c4scc5C=CCc45)c4nsnc4c-2...      18     3    21   \n",
       "3  [nH]1c2-c3occc3Cc2c2c1cc(-c1cccc3=C[SiH2]C=c13...      18     5    23   \n",
       "4     c1cnc2c3oc4cc(-c5ncncn5)c5nsnc5c4c3c3cocc3c2c1      20     0    20   \n",
       "5  C1=Cc2cnc3cc4cc(-c5scc6[nH]ccc56)c5ccccc5c4cc3...      23     2    25   \n",
       "6              c1ncc(s1)-c1cnc2c(c1)oc1c2ccc2ccccc12      18     0    18   \n",
       "7  c1sc(-c2ccc3c(c2)sc2c3c3=CCC=c3c3cccnc23)c2[se...      21     3    24   \n",
       "8        c1ccc(o1)-c1cc2cc3cc4c5c[nH]cc5ccc4cc3cc2o1      22     0    22   \n",
       "9    [nH]1ccc2c3c[nH]cc3c3cc(-c4cncs4)c4=CCC=c4c3c12      17     3    20   \n",
       "\n",
       "   bigh  smallo  smalln  smalls  bigs  sums  ...    cc_pairs  cn  nc  dblbond  \\\n",
       "0     0       1       3       2     0     2  ...           7   1   2        0   \n",
       "1     4       0       2       0     0     0  ...           5   0   2        5   \n",
       "2     3       0       3       1     0     1  ...           8   0   1        1   \n",
       "3     5       1       1       0     0     0  ...           7   0   0        4   \n",
       "4     0       2       6       0     0     0  ...           2   3   4        0   \n",
       "5     3       0       2       1     0     1  ...          11   1   1        1   \n",
       "6     0       1       2       1     0     1  ...           7   1   2        0   \n",
       "7     0       0       1       2     0     2  ...           8   1   1        2   \n",
       "8     1       2       1       0     0     0  ...          10   0   0        0   \n",
       "9     2       0       3       1     0     1  ...           6   1   1        2   \n",
       "\n",
       "   sglbond  roundbr  squarebr  bracks  benz  rings  \n",
       "0        3        3         1       4     0      3  \n",
       "1        0        1         2       3     0      4  \n",
       "2        3        2         2       4     0      5  \n",
       "3        2        1         3       4     0      3  \n",
       "4        1        1         0       1     0      5  \n",
       "5        1        1         2       3     0      6  \n",
       "6        1        2         0       2     0      2  \n",
       "7        1        2         1       3     0      3  \n",
       "8        1        1         1       2     0      5  \n",
       "9        1        1         2       3     0      4  \n",
       "\n",
       "[10 rows x 29 columns]"
      ]
     },
     "execution_count": 19,
     "metadata": {},
     "output_type": "execute_result"
    }
   ],
   "source": [
    "smileparseDF.head(10)"
   ]
  },
  {
   "cell_type": "code",
   "execution_count": 65,
   "metadata": {
    "collapsed": false
   },
   "outputs": [
    {
     "data": {
      "text/plain": [
       "0"
      ]
     },
     "execution_count": 65,
     "metadata": {},
     "output_type": "execute_result"
    }
   ],
   "source": [
    "smileparseDF[\"sn\"].sum()"
   ]
  },
  {
   "cell_type": "code",
   "execution_count": 66,
   "metadata": {
    "collapsed": false
   },
   "outputs": [
    {
     "data": {
      "text/plain": [
       "0"
      ]
     },
     "execution_count": 66,
     "metadata": {},
     "output_type": "execute_result"
    }
   ],
   "source": [
    "smileparseDF[\"he\"].sum()"
   ]
  },
  {
   "cell_type": "code",
   "execution_count": 21,
   "metadata": {
    "collapsed": false
   },
   "outputs": [
    {
     "data": {
      "text/plain": [
       "36621"
      ]
     },
     "execution_count": 21,
     "metadata": {},
     "output_type": "execute_result"
    }
   ],
   "source": [
    "smileparseDF[\"benz\"].sum()"
   ]
  },
  {
   "cell_type": "code",
   "execution_count": 20,
   "metadata": {
    "collapsed": true
   },
   "outputs": [],
   "source": [
    "#delete zero columns\n",
    "smileparseDF = smileparseDF.drop(['sn'], axis=1)\n",
    "smileparseDF = smileparseDF.drop(['he'], axis=1)"
   ]
  },
  {
   "cell_type": "code",
   "execution_count": 21,
   "metadata": {
    "collapsed": true
   },
   "outputs": [],
   "source": [
    "#drop smiles\n",
    "smileparseDF = smileparseDF.drop(['smiles'], axis=1)"
   ]
  },
  {
   "cell_type": "code",
   "execution_count": 25,
   "metadata": {
    "collapsed": false
   },
   "outputs": [
    {
     "name": "stdout",
     "output_type": "stream",
     "text": [
      "Train features:  (800000, 26)\n",
      "Validation set:  (200000, 26)\n",
      "Train gap:  (800000,)\n",
      "Validation set for gap:  (200000,)\n",
      "Test features: (824230, 26)\n"
     ]
    }
   ],
   "source": [
    "parsevals = smileparseDF.values  # converts data to numpy format (array)\n",
    "\n",
    "X_train = parsevals[:cutoff]\n",
    "X_valid = parsevals[cutoff:test_idx]\n",
    "X_test = parsevals[test_idx:]\n",
    "\n",
    "print \"Train features: \", X_train.shape\n",
    "print \"Validation set: \", X_valid.shape\n",
    "print \"Train gap: \", Y_train.shape\n",
    "print \"Validation set for gap: \", Y_valid.shape\n",
    "print \"Test features:\", X_test.shape"
   ]
  },
  {
   "cell_type": "code",
   "execution_count": 26,
   "metadata": {
    "collapsed": false
   },
   "outputs": [
    {
     "name": "stderr",
     "output_type": "stream",
     "text": [
      "/Users/K-Lo/anaconda/lib/python2.7/site-packages/sklearn/utils/validation.py:420: DataConversionWarning: Data with input dtype int64 was converted to float64 by StandardScaler.\n",
      "  warnings.warn(msg, DataConversionWarning)\n",
      "/Users/K-Lo/anaconda/lib/python2.7/site-packages/sklearn/utils/validation.py:420: DataConversionWarning: Data with input dtype int64 was converted to float64 by StandardScaler.\n",
      "  warnings.warn(msg, DataConversionWarning)\n",
      "/Users/K-Lo/anaconda/lib/python2.7/site-packages/sklearn/utils/validation.py:420: DataConversionWarning: Data with input dtype int64 was converted to float64 by StandardScaler.\n",
      "  warnings.warn(msg, DataConversionWarning)\n",
      "/Users/K-Lo/anaconda/lib/python2.7/site-packages/sklearn/utils/validation.py:420: DataConversionWarning: Data with input dtype int64 was converted to float64 by StandardScaler.\n",
      "  warnings.warn(msg, DataConversionWarning)\n"
     ]
    }
   ],
   "source": [
    "# standardize continuous values\n",
    "from sklearn.preprocessing import StandardScaler\n",
    "stdsc = StandardScaler()\n",
    "X_train = stdsc.fit_transform(X_train)\n",
    "X_valid = stdsc.transform(X_valid)\n",
    "X_test = stdsc.transform(X_test)"
   ]
  },
  {
   "cell_type": "markdown",
   "metadata": {},
   "source": [
    "### run models"
   ]
  },
  {
   "cell_type": "code",
   "execution_count": 27,
   "metadata": {
    "collapsed": false
   },
   "outputs": [
    {
     "name": "stdout",
     "output_type": "stream",
     "text": [
      "\n",
      "1 seconds to run linear regression (string parse)\n",
      "Training set (80/20) RMSE = 0.26974\n",
      "Validation set RMSE = 0.27019\n"
     ]
    }
   ],
   "source": [
    "# Linear Regression\n",
    "start = time.time()\n",
    "\n",
    "LRparse = LinearRegression()\n",
    "LRparse.fit(X_train, Y_train)\n",
    "LRparse_validate = LRparse.predict(X_valid)\n",
    "\n",
    "timer = time.time() - start\n",
    "print '\\n%d seconds to run linear regression (string parse)' % timer\n",
    "\n",
    "LRparse_rmse = math.sqrt(mean_squared_error(Y_train, LRparse.predict(X_train)))\n",
    "print 'Training set (80/20) RMSE = %0.5f' % LRparse_rmse\n",
    "\n",
    "LRparse_rmsev = math.sqrt(mean_squared_error(Y_valid, LRparse_validate))\n",
    "print 'Validation set RMSE = %0.5f' % LRparse_rmsev"
   ]
  },
  {
   "cell_type": "code",
   "execution_count": 28,
   "metadata": {
    "collapsed": false
   },
   "outputs": [
    {
     "name": "stdout",
     "output_type": "stream",
     "text": [
      "\n",
      "60 seconds to run random forest (string parse)\n",
      "Training set (80/20) RMSE = 0.13420\n",
      "Validation set RMSE = 0.17760\n"
     ]
    }
   ],
   "source": [
    "# Random Forest\n",
    "start = time.time()\n",
    "\n",
    "RFparse = RandomForestRegressor()\n",
    "RFparse.fit(X_train, Y_train)\n",
    "RFparse_validate = RFparse.predict(X_valid)\n",
    "\n",
    "timer = time.time() - start\n",
    "print '\\n%d seconds to run random forest (string parse)' % timer\n",
    "\n",
    "RFparse_rmse = math.sqrt(mean_squared_error(Y_train, RFparse.predict(X_train)))\n",
    "print 'Training set (80/20) RMSE = %0.5f' % RFparse_rmse\n",
    "\n",
    "RFparse_rmsev = math.sqrt(mean_squared_error(Y_valid, RFparse_validate))\n",
    "print 'Validation set RMSE = %0.5f' % RFparse_rmsev"
   ]
  },
  {
   "cell_type": "code",
   "execution_count": 30,
   "metadata": {
    "collapsed": false
   },
   "outputs": [],
   "source": [
    "LRparse_pred = LRparse.predict(X_test)\n",
    "#write_to_file(\"RFparse.csv\", RFparse_pred)"
   ]
  },
  {
   "cell_type": "code",
   "execution_count": null,
   "metadata": {
    "collapsed": false
   },
   "outputs": [],
   "source": [
    "#RFparse_pred.shape"
   ]
  },
  {
   "cell_type": "code",
   "execution_count": 31,
   "metadata": {
    "collapsed": false
   },
   "outputs": [
    {
     "name": "stdout",
     "output_type": "stream",
     "text": [
      "mean of predictions = 1.9158\n",
      "median of predictions = 1.9122\n",
      "minimum of predictions = 0.5389\n",
      "maximum of predictions = 3.0249\n"
     ]
    }
   ],
   "source": [
    "# just to summarize the data in the prediction vector\n",
    "print 'mean of predictions = %0.4f' % np.mean(LRparse_pred)\n",
    "print 'median of predictions = %0.4f' % np.median(LRparse_pred)\n",
    "print 'minimum of predictions = %0.4f' % np.min(LRparse_pred)\n",
    "print 'maximum of predictions = %0.4f' % np.max(LRparse_pred)"
   ]
  },
  {
   "cell_type": "code",
   "execution_count": 87,
   "metadata": {
    "collapsed": false
   },
   "outputs": [
    {
     "name": "stdout",
     "output_type": "stream",
     "text": [
      "\n",
      "Alpha = 1.0000\n",
      "0 seconds to complete lasso (string parse)\n",
      "Training set (80/20) RMSE = 0.40710\n",
      "Validation set RMSE = 0.40750\n",
      "\n",
      "Alpha = 0.1000\n",
      "3 seconds to complete lasso (string parse)\n",
      "Training set (80/20) RMSE = 0.32687\n",
      "Validation set RMSE = 0.32699\n",
      "\n",
      "Alpha = 0.0100\n",
      "11 seconds to complete lasso (string parse)\n",
      "Training set (80/20) RMSE = 0.25249\n",
      "Validation set RMSE = 0.25298\n",
      "\n",
      "Alpha = 0.0010\n",
      "84 seconds to complete lasso (string parse)\n",
      "Training set (80/20) RMSE = 0.24348\n",
      "Validation set RMSE = 0.24394\n",
      "\n",
      "Alpha = 0.0001\n",
      "175 seconds to complete lasso (string parse)\n",
      "Training set (80/20) RMSE = 0.24295\n",
      "Validation set RMSE = 0.24340\n"
     ]
    }
   ],
   "source": [
    "# Lasso\n",
    "start = time.time()\n",
    "\n",
    "params = [1.0, 0.1, 0.01, 0.001, 0.0001]\n",
    "\n",
    "for alpha in params:\n",
    "    LRparse = Lasso(alpha)\n",
    "    LRparse.fit(X_train, Y_train)\n",
    "    LRparse_validate = LRparse.predict(X_valid)\n",
    "    #LRparse_pred = LR_lasso2.predict(X_test)\n",
    "\n",
    "    timer = time.time() - start\n",
    "    print '\\nAlpha = %0.4f' % alpha\n",
    "    print '%d seconds to complete lasso (string parse)' % timer\n",
    "\n",
    "    LRparse_rmse = math.sqrt(mean_squared_error(Y_train, LRparse.predict(X_train)))\n",
    "    print 'Training set (80/20) RMSE = %0.5f' % LRparse_rmse\n",
    "\n",
    "    LRparse_rmsev = math.sqrt(mean_squared_error(Y_valid, LRparse_validate))\n",
    "    print 'Validation set RMSE = %0.5f' % LRparse_rmsev"
   ]
  },
  {
   "cell_type": "markdown",
   "metadata": {},
   "source": [
    "### add additional columns re: bonds"
   ]
  },
  {
   "cell_type": "markdown",
   "metadata": {},
   "source": [
    "We add 3 additional extracted features generated using RDKit, with a more accurate count of aromatic, single, and double bonds. We also tried adding an interaction of these. We rerun the random forest."
   ]
  },
  {
   "cell_type": "code",
   "execution_count": 22,
   "metadata": {
    "collapsed": false
   },
   "outputs": [
    {
     "name": "stdout",
     "output_type": "stream",
     "text": [
      "0 seconds to load data\n"
     ]
    }
   ],
   "source": [
    "start = time.time()\n",
    "\n",
    "\"\"\"\n",
    "Read in additional data as Pandas DataFrames\n",
    "\"\"\"\n",
    "df_add = pd.read_csv(\"bond_type_counts.csv\")\n",
    "\n",
    "timer = time.time() - start\n",
    "print '%d seconds to load data' % timer"
   ]
  },
  {
   "cell_type": "code",
   "execution_count": 90,
   "metadata": {
    "collapsed": false
   },
   "outputs": [
    {
     "data": {
      "text/html": [
       "<div>\n",
       "<table border=\"1\" class=\"dataframe\">\n",
       "  <thead>\n",
       "    <tr style=\"text-align: right;\">\n",
       "      <th></th>\n",
       "      <th>Unnamed: 0</th>\n",
       "      <th>Single</th>\n",
       "      <th>Double</th>\n",
       "      <th>Aromatic</th>\n",
       "    </tr>\n",
       "  </thead>\n",
       "  <tbody>\n",
       "    <tr>\n",
       "      <th>0</th>\n",
       "      <td>0</td>\n",
       "      <td>3</td>\n",
       "      <td>0</td>\n",
       "      <td>29</td>\n",
       "    </tr>\n",
       "    <tr>\n",
       "      <th>1</th>\n",
       "      <td>1</td>\n",
       "      <td>9</td>\n",
       "      <td>5</td>\n",
       "      <td>16</td>\n",
       "    </tr>\n",
       "    <tr>\n",
       "      <th>2</th>\n",
       "      <td>2</td>\n",
       "      <td>7</td>\n",
       "      <td>1</td>\n",
       "      <td>25</td>\n",
       "    </tr>\n",
       "    <tr>\n",
       "      <th>3</th>\n",
       "      <td>3</td>\n",
       "      <td>8</td>\n",
       "      <td>4</td>\n",
       "      <td>21</td>\n",
       "    </tr>\n",
       "    <tr>\n",
       "      <th>4</th>\n",
       "      <td>4</td>\n",
       "      <td>1</td>\n",
       "      <td>0</td>\n",
       "      <td>34</td>\n",
       "    </tr>\n",
       "  </tbody>\n",
       "</table>\n",
       "</div>"
      ],
      "text/plain": [
       "   Unnamed: 0  Single  Double  Aromatic\n",
       "0           0       3       0        29\n",
       "1           1       9       5        16\n",
       "2           2       7       1        25\n",
       "3           3       8       4        21\n",
       "4           4       1       0        34"
      ]
     },
     "execution_count": 90,
     "metadata": {},
     "output_type": "execute_result"
    }
   ],
   "source": [
    "df_add.head()"
   ]
  },
  {
   "cell_type": "code",
   "execution_count": 91,
   "metadata": {
    "collapsed": false
   },
   "outputs": [
    {
     "data": {
      "text/plain": [
       "(1824230, 4)"
      ]
     },
     "execution_count": 91,
     "metadata": {},
     "output_type": "execute_result"
    }
   ],
   "source": [
    "df_add.shape"
   ]
  },
  {
   "cell_type": "code",
   "execution_count": 92,
   "metadata": {
    "collapsed": false
   },
   "outputs": [
    {
     "data": {
      "text/plain": [
       "False"
      ]
     },
     "execution_count": 92,
     "metadata": {},
     "output_type": "execute_result"
    }
   ],
   "source": [
    "(smileparseDF['dblbond']==df_add['Double']).all()"
   ]
  },
  {
   "cell_type": "markdown",
   "metadata": {},
   "source": [
    "Maybe a different way of counting?"
   ]
  },
  {
   "cell_type": "code",
   "execution_count": 93,
   "metadata": {
    "collapsed": false
   },
   "outputs": [
    {
     "data": {
      "text/plain": [
       "False"
      ]
     },
     "execution_count": 93,
     "metadata": {},
     "output_type": "execute_result"
    }
   ],
   "source": [
    "(smileparseDF['sglbond']==df_add['Single']).all()"
   ]
  },
  {
   "cell_type": "code",
   "execution_count": 23,
   "metadata": {
    "collapsed": true
   },
   "outputs": [],
   "source": [
    "smileparseDF['RDKit_single'] = df_add['Single']\n",
    "smileparseDF['RDKit_double'] = df_add['Double']\n",
    "smileparseDF['RDKit_aromatic'] = df_add['Aromatic']"
   ]
  },
  {
   "cell_type": "code",
   "execution_count": 34,
   "metadata": {
    "collapsed": false
   },
   "outputs": [
    {
     "data": {
      "text/html": [
       "<div>\n",
       "<table border=\"1\" class=\"dataframe\">\n",
       "  <thead>\n",
       "    <tr style=\"text-align: right;\">\n",
       "      <th></th>\n",
       "      <th>smallc</th>\n",
       "      <th>bigc</th>\n",
       "      <th>sumc</th>\n",
       "      <th>bigh</th>\n",
       "      <th>smallo</th>\n",
       "      <th>smalln</th>\n",
       "      <th>smalls</th>\n",
       "      <th>bigs</th>\n",
       "      <th>sums</th>\n",
       "      <th>nh</th>\n",
       "      <th>...</th>\n",
       "      <th>dblbond</th>\n",
       "      <th>sglbond</th>\n",
       "      <th>roundbr</th>\n",
       "      <th>squarebr</th>\n",
       "      <th>bracks</th>\n",
       "      <th>benz</th>\n",
       "      <th>rings</th>\n",
       "      <th>RDKit_single</th>\n",
       "      <th>RDKit_double</th>\n",
       "      <th>RDKit_aromatic</th>\n",
       "    </tr>\n",
       "  </thead>\n",
       "  <tbody>\n",
       "    <tr>\n",
       "      <th>0</th>\n",
       "      <td>19</td>\n",
       "      <td>0</td>\n",
       "      <td>19</td>\n",
       "      <td>0</td>\n",
       "      <td>1</td>\n",
       "      <td>3</td>\n",
       "      <td>2</td>\n",
       "      <td>0</td>\n",
       "      <td>2</td>\n",
       "      <td>0</td>\n",
       "      <td>...</td>\n",
       "      <td>0</td>\n",
       "      <td>3</td>\n",
       "      <td>3</td>\n",
       "      <td>1</td>\n",
       "      <td>4</td>\n",
       "      <td>0</td>\n",
       "      <td>3</td>\n",
       "      <td>3</td>\n",
       "      <td>0</td>\n",
       "      <td>29</td>\n",
       "    </tr>\n",
       "    <tr>\n",
       "      <th>1</th>\n",
       "      <td>12</td>\n",
       "      <td>9</td>\n",
       "      <td>21</td>\n",
       "      <td>4</td>\n",
       "      <td>0</td>\n",
       "      <td>2</td>\n",
       "      <td>0</td>\n",
       "      <td>0</td>\n",
       "      <td>0</td>\n",
       "      <td>0</td>\n",
       "      <td>...</td>\n",
       "      <td>5</td>\n",
       "      <td>0</td>\n",
       "      <td>1</td>\n",
       "      <td>2</td>\n",
       "      <td>3</td>\n",
       "      <td>0</td>\n",
       "      <td>4</td>\n",
       "      <td>9</td>\n",
       "      <td>5</td>\n",
       "      <td>16</td>\n",
       "    </tr>\n",
       "    <tr>\n",
       "      <th>2</th>\n",
       "      <td>18</td>\n",
       "      <td>3</td>\n",
       "      <td>21</td>\n",
       "      <td>3</td>\n",
       "      <td>0</td>\n",
       "      <td>3</td>\n",
       "      <td>1</td>\n",
       "      <td>0</td>\n",
       "      <td>1</td>\n",
       "      <td>1</td>\n",
       "      <td>...</td>\n",
       "      <td>1</td>\n",
       "      <td>3</td>\n",
       "      <td>2</td>\n",
       "      <td>2</td>\n",
       "      <td>4</td>\n",
       "      <td>0</td>\n",
       "      <td>5</td>\n",
       "      <td>7</td>\n",
       "      <td>1</td>\n",
       "      <td>25</td>\n",
       "    </tr>\n",
       "    <tr>\n",
       "      <th>3</th>\n",
       "      <td>18</td>\n",
       "      <td>5</td>\n",
       "      <td>23</td>\n",
       "      <td>5</td>\n",
       "      <td>1</td>\n",
       "      <td>1</td>\n",
       "      <td>0</td>\n",
       "      <td>0</td>\n",
       "      <td>0</td>\n",
       "      <td>1</td>\n",
       "      <td>...</td>\n",
       "      <td>4</td>\n",
       "      <td>2</td>\n",
       "      <td>1</td>\n",
       "      <td>3</td>\n",
       "      <td>4</td>\n",
       "      <td>0</td>\n",
       "      <td>3</td>\n",
       "      <td>8</td>\n",
       "      <td>4</td>\n",
       "      <td>21</td>\n",
       "    </tr>\n",
       "    <tr>\n",
       "      <th>4</th>\n",
       "      <td>20</td>\n",
       "      <td>0</td>\n",
       "      <td>20</td>\n",
       "      <td>0</td>\n",
       "      <td>2</td>\n",
       "      <td>6</td>\n",
       "      <td>0</td>\n",
       "      <td>0</td>\n",
       "      <td>0</td>\n",
       "      <td>0</td>\n",
       "      <td>...</td>\n",
       "      <td>0</td>\n",
       "      <td>1</td>\n",
       "      <td>1</td>\n",
       "      <td>0</td>\n",
       "      <td>1</td>\n",
       "      <td>0</td>\n",
       "      <td>5</td>\n",
       "      <td>1</td>\n",
       "      <td>0</td>\n",
       "      <td>34</td>\n",
       "    </tr>\n",
       "  </tbody>\n",
       "</table>\n",
       "<p>5 rows × 29 columns</p>\n",
       "</div>"
      ],
      "text/plain": [
       "   smallc  bigc  sumc  bigh  smallo  smalln  smalls  bigs  sums  nh  \\\n",
       "0      19     0    19     0       1       3       2     0     2   0   \n",
       "1      12     9    21     4       0       2       0     0     0   0   \n",
       "2      18     3    21     3       0       3       1     0     1   1   \n",
       "3      18     5    23     5       1       1       0     0     0   1   \n",
       "4      20     0    20     0       2       6       0     0     0   0   \n",
       "\n",
       "        ...        dblbond  sglbond  roundbr  squarebr  bracks  benz  rings  \\\n",
       "0       ...              0        3        3         1       4     0      3   \n",
       "1       ...              5        0        1         2       3     0      4   \n",
       "2       ...              1        3        2         2       4     0      5   \n",
       "3       ...              4        2        1         3       4     0      3   \n",
       "4       ...              0        1        1         0       1     0      5   \n",
       "\n",
       "   RDKit_single  RDKit_double  RDKit_aromatic  \n",
       "0             3             0              29  \n",
       "1             9             5              16  \n",
       "2             7             1              25  \n",
       "3             8             4              21  \n",
       "4             1             0              34  \n",
       "\n",
       "[5 rows x 29 columns]"
      ]
     },
     "execution_count": 34,
     "metadata": {},
     "output_type": "execute_result"
    }
   ],
   "source": [
    "smileparseDF.head()"
   ]
  },
  {
   "cell_type": "code",
   "execution_count": 35,
   "metadata": {
    "collapsed": false
   },
   "outputs": [
    {
     "name": "stdout",
     "output_type": "stream",
     "text": [
      "Train features:  (800000, 29)\n",
      "Validation set:  (200000, 29)\n",
      "Train gap:  (800000,)\n",
      "Validation set for gap:  (200000,)\n",
      "Test features: (824230, 29)\n"
     ]
    }
   ],
   "source": [
    "parsevals = smileparseDF.values  # converts data to numpy format (array)\n",
    "\n",
    "cutoff = 800000\n",
    "X_train = parsevals[:cutoff]\n",
    "X_valid = parsevals[cutoff:test_idx]\n",
    "X_test = parsevals[test_idx:]\n",
    "\n",
    "print \"Train features: \", X_train.shape\n",
    "print \"Validation set: \", X_valid.shape\n",
    "print \"Train gap: \", Y_train.shape\n",
    "print \"Validation set for gap: \", Y_valid.shape\n",
    "print \"Test features:\", X_test.shape"
   ]
  },
  {
   "cell_type": "code",
   "execution_count": null,
   "metadata": {
    "collapsed": true
   },
   "outputs": [],
   "source": [
    "#stdsc = StandardScaler()\n",
    "#X_train = stdsc.fit_transform(X_train)\n",
    "#X_valid = stdsc.transform(X_valid)\n",
    "#X_test = stdsc.transform(X_test)"
   ]
  },
  {
   "cell_type": "code",
   "execution_count": 81,
   "metadata": {
    "collapsed": false
   },
   "outputs": [
    {
     "name": "stdout",
     "output_type": "stream",
     "text": [
      "\n",
      "65 seconds to run random forest (string parse + 3 added bond counts & interactions)\n",
      "Training set (80/20) RMSE = 0.11803\n",
      "Validation set RMSE = 0.15821\n"
     ]
    }
   ],
   "source": [
    "# Random Forest\n",
    "start = time.time()\n",
    "\n",
    "RFparse2 = RandomForestRegressor()\n",
    "RFparse2.fit(X_train, Y_train)\n",
    "RFparse2_validate = RFparse2.predict(X_valid)\n",
    "\n",
    "timer = time.time() - start\n",
    "print '\\n%d seconds to run random forest (string parse + 3 added bond counts)' % timer\n",
    "\n",
    "RFparse2_rmse = math.sqrt(mean_squared_error(Y_train, RFparse2.predict(X_train)))\n",
    "print 'Training set (80/20) RMSE = %0.5f' % RFparse2_rmse\n",
    "\n",
    "RFparse2_rmsev = math.sqrt(mean_squared_error(Y_valid, RFparse2_validate))\n",
    "print 'Validation set RMSE = %0.5f' % RFparse2_rmsev"
   ]
  },
  {
   "cell_type": "code",
   "execution_count": null,
   "metadata": {
    "collapsed": true
   },
   "outputs": [],
   "source": [
    "#RFparse2_pred = RFparse2.predict(X_test)\n",
    "#write_to_file(\"RFparse2.csv\", RFparse2_pred)"
   ]
  },
  {
   "cell_type": "code",
   "execution_count": null,
   "metadata": {
    "collapsed": false
   },
   "outputs": [],
   "source": [
    "# just to summarize the data in the prediction vector\n",
    "#print 'mean of predictions = %0.4f' % np.mean(RFparse2_pred)\n",
    "#print 'median of predictions = %0.4f' % np.median(RFparse2_pred)\n",
    "#print 'minimum of predictions = %0.4f' % np.min(RFparse2_pred)\n",
    "#print 'maximum of predictions = %0.4f' % np.max(RFparse2_pred)"
   ]
  },
  {
   "cell_type": "markdown",
   "metadata": {},
   "source": [
    "### try only three bond features"
   ]
  },
  {
   "cell_type": "code",
   "execution_count": 96,
   "metadata": {
    "collapsed": false
   },
   "outputs": [
    {
     "data": {
      "text/html": [
       "<div>\n",
       "<table border=\"1\" class=\"dataframe\">\n",
       "  <thead>\n",
       "    <tr style=\"text-align: right;\">\n",
       "      <th></th>\n",
       "      <th>Single</th>\n",
       "      <th>Double</th>\n",
       "      <th>Aromatic</th>\n",
       "    </tr>\n",
       "  </thead>\n",
       "  <tbody>\n",
       "    <tr>\n",
       "      <th>0</th>\n",
       "      <td>3</td>\n",
       "      <td>0</td>\n",
       "      <td>29</td>\n",
       "    </tr>\n",
       "    <tr>\n",
       "      <th>1</th>\n",
       "      <td>9</td>\n",
       "      <td>5</td>\n",
       "      <td>16</td>\n",
       "    </tr>\n",
       "    <tr>\n",
       "      <th>2</th>\n",
       "      <td>7</td>\n",
       "      <td>1</td>\n",
       "      <td>25</td>\n",
       "    </tr>\n",
       "    <tr>\n",
       "      <th>3</th>\n",
       "      <td>8</td>\n",
       "      <td>4</td>\n",
       "      <td>21</td>\n",
       "    </tr>\n",
       "    <tr>\n",
       "      <th>4</th>\n",
       "      <td>1</td>\n",
       "      <td>0</td>\n",
       "      <td>34</td>\n",
       "    </tr>\n",
       "  </tbody>\n",
       "</table>\n",
       "</div>"
      ],
      "text/plain": [
       "   Single  Double  Aromatic\n",
       "0       3       0        29\n",
       "1       9       5        16\n",
       "2       7       1        25\n",
       "3       8       4        21\n",
       "4       1       0        34"
      ]
     },
     "execution_count": 96,
     "metadata": {},
     "output_type": "execute_result"
    }
   ],
   "source": [
    "df_add = df_add.drop(['Unnamed: 0'], axis=1)\n",
    "df_add.head()"
   ]
  },
  {
   "cell_type": "code",
   "execution_count": 97,
   "metadata": {
    "collapsed": false
   },
   "outputs": [
    {
     "name": "stdout",
     "output_type": "stream",
     "text": [
      "Train features:  (800000, 3)\n",
      "Validation set:  (200000, 3)\n",
      "Train gap:  (800000,)\n",
      "Validation set for gap:  (200000,)\n",
      "Test features: (824230, 3)\n"
     ]
    }
   ],
   "source": [
    "parsevals = df_add.values  # converts data to numpy format (array)\n",
    "\n",
    "X_train = parsevals[:cutoff]\n",
    "X_valid = parsevals[cutoff:test_idx]\n",
    "X_test = parsevals[test_idx:]\n",
    "\n",
    "print \"Train features: \", X_train.shape\n",
    "print \"Validation set: \", X_valid.shape\n",
    "print \"Train gap: \", Y_train.shape\n",
    "print \"Validation set for gap: \", Y_valid.shape\n",
    "print \"Test features:\", X_test.shape"
   ]
  },
  {
   "cell_type": "code",
   "execution_count": 98,
   "metadata": {
    "collapsed": false
   },
   "outputs": [
    {
     "name": "stdout",
     "output_type": "stream",
     "text": [
      "\n",
      "0 seconds to run linear regression (three bond features only)\n",
      "Training set (80/20) RMSE = 0.32455\n",
      "Validation set RMSE = 0.32470\n"
     ]
    }
   ],
   "source": [
    "# Linear Regression\n",
    "start = time.time()\n",
    "\n",
    "LRbond = LinearRegression()\n",
    "LRbond.fit(X_train, Y_train)\n",
    "LRbond_validate = LRbond.predict(X_valid)\n",
    "\n",
    "timer = time.time() - start\n",
    "print '\\n%d seconds to run linear regression (three bond features only)' % timer\n",
    "\n",
    "LRbond_rmse = math.sqrt(mean_squared_error(Y_train, LRbond.predict(X_train)))\n",
    "print 'Training set (80/20) RMSE = %0.5f' % LRbond_rmse\n",
    "\n",
    "LRbond_rmsev = math.sqrt(mean_squared_error(Y_valid, LRbond_validate))\n",
    "print 'Validation set RMSE = %0.5f' % LRbond_rmsev"
   ]
  },
  {
   "cell_type": "code",
   "execution_count": 99,
   "metadata": {
    "collapsed": false
   },
   "outputs": [
    {
     "name": "stdout",
     "output_type": "stream",
     "text": [
      "\n",
      "6 seconds to run random forest (three bond features only)\n",
      "Training set (80/20) RMSE = 0.26338\n",
      "Validation set RMSE = 0.26445\n"
     ]
    }
   ],
   "source": [
    "# Random Forest\n",
    "start = time.time()\n",
    "\n",
    "RFbond = RandomForestRegressor()\n",
    "RFbond.fit(X_train, Y_train)\n",
    "RFbond_validate = RFbond.predict(X_valid)\n",
    "\n",
    "timer = time.time() - start\n",
    "print '\\n%d seconds to run random forest (three bond features only)' % timer\n",
    "\n",
    "RFbond_rmse = math.sqrt(mean_squared_error(Y_train, RFbond.predict(X_train)))\n",
    "print 'Training set (80/20) RMSE = %0.5f' % RFbond_rmse\n",
    "\n",
    "RFbond_rmsev = math.sqrt(mean_squared_error(Y_valid, RFbond_validate))\n",
    "print 'Validation set RMSE = %0.5f' % RFbond_rmsev"
   ]
  },
  {
   "cell_type": "markdown",
   "metadata": {},
   "source": [
    "### try combining features (reduced DF with interations plus bond features plus character strings)"
   ]
  },
  {
   "cell_type": "code",
   "execution_count": 101,
   "metadata": {
    "collapsed": false
   },
   "outputs": [
    {
     "data": {
      "text/html": [
       "<div>\n",
       "<table border=\"1\" class=\"dataframe\">\n",
       "  <thead>\n",
       "    <tr style=\"text-align: right;\">\n",
       "      <th></th>\n",
       "      <th>smallc</th>\n",
       "      <th>bigc</th>\n",
       "      <th>sumc</th>\n",
       "      <th>bigh</th>\n",
       "      <th>smallo</th>\n",
       "      <th>smalln</th>\n",
       "      <th>smalls</th>\n",
       "      <th>bigs</th>\n",
       "      <th>sums</th>\n",
       "      <th>nh</th>\n",
       "      <th>...</th>\n",
       "      <th>nc</th>\n",
       "      <th>dblbond</th>\n",
       "      <th>sglbond</th>\n",
       "      <th>roundbr</th>\n",
       "      <th>squarebr</th>\n",
       "      <th>bracks</th>\n",
       "      <th>rings</th>\n",
       "      <th>RDKit_single</th>\n",
       "      <th>RDKit_double</th>\n",
       "      <th>RDKit_aromatic</th>\n",
       "    </tr>\n",
       "  </thead>\n",
       "  <tbody>\n",
       "    <tr>\n",
       "      <th>0</th>\n",
       "      <td>19</td>\n",
       "      <td>0</td>\n",
       "      <td>19</td>\n",
       "      <td>0</td>\n",
       "      <td>1</td>\n",
       "      <td>3</td>\n",
       "      <td>2</td>\n",
       "      <td>0</td>\n",
       "      <td>2</td>\n",
       "      <td>0</td>\n",
       "      <td>...</td>\n",
       "      <td>2</td>\n",
       "      <td>0</td>\n",
       "      <td>3</td>\n",
       "      <td>3</td>\n",
       "      <td>1</td>\n",
       "      <td>4</td>\n",
       "      <td>3</td>\n",
       "      <td>3</td>\n",
       "      <td>0</td>\n",
       "      <td>29</td>\n",
       "    </tr>\n",
       "    <tr>\n",
       "      <th>1</th>\n",
       "      <td>12</td>\n",
       "      <td>9</td>\n",
       "      <td>21</td>\n",
       "      <td>4</td>\n",
       "      <td>0</td>\n",
       "      <td>2</td>\n",
       "      <td>0</td>\n",
       "      <td>0</td>\n",
       "      <td>0</td>\n",
       "      <td>0</td>\n",
       "      <td>...</td>\n",
       "      <td>2</td>\n",
       "      <td>5</td>\n",
       "      <td>0</td>\n",
       "      <td>1</td>\n",
       "      <td>2</td>\n",
       "      <td>3</td>\n",
       "      <td>4</td>\n",
       "      <td>9</td>\n",
       "      <td>5</td>\n",
       "      <td>16</td>\n",
       "    </tr>\n",
       "    <tr>\n",
       "      <th>2</th>\n",
       "      <td>18</td>\n",
       "      <td>3</td>\n",
       "      <td>21</td>\n",
       "      <td>3</td>\n",
       "      <td>0</td>\n",
       "      <td>3</td>\n",
       "      <td>1</td>\n",
       "      <td>0</td>\n",
       "      <td>1</td>\n",
       "      <td>1</td>\n",
       "      <td>...</td>\n",
       "      <td>1</td>\n",
       "      <td>1</td>\n",
       "      <td>3</td>\n",
       "      <td>2</td>\n",
       "      <td>2</td>\n",
       "      <td>4</td>\n",
       "      <td>5</td>\n",
       "      <td>7</td>\n",
       "      <td>1</td>\n",
       "      <td>25</td>\n",
       "    </tr>\n",
       "    <tr>\n",
       "      <th>3</th>\n",
       "      <td>18</td>\n",
       "      <td>5</td>\n",
       "      <td>23</td>\n",
       "      <td>5</td>\n",
       "      <td>1</td>\n",
       "      <td>1</td>\n",
       "      <td>0</td>\n",
       "      <td>0</td>\n",
       "      <td>0</td>\n",
       "      <td>1</td>\n",
       "      <td>...</td>\n",
       "      <td>0</td>\n",
       "      <td>4</td>\n",
       "      <td>2</td>\n",
       "      <td>1</td>\n",
       "      <td>3</td>\n",
       "      <td>4</td>\n",
       "      <td>3</td>\n",
       "      <td>8</td>\n",
       "      <td>4</td>\n",
       "      <td>21</td>\n",
       "    </tr>\n",
       "    <tr>\n",
       "      <th>4</th>\n",
       "      <td>20</td>\n",
       "      <td>0</td>\n",
       "      <td>20</td>\n",
       "      <td>0</td>\n",
       "      <td>2</td>\n",
       "      <td>6</td>\n",
       "      <td>0</td>\n",
       "      <td>0</td>\n",
       "      <td>0</td>\n",
       "      <td>0</td>\n",
       "      <td>...</td>\n",
       "      <td>4</td>\n",
       "      <td>0</td>\n",
       "      <td>1</td>\n",
       "      <td>1</td>\n",
       "      <td>0</td>\n",
       "      <td>1</td>\n",
       "      <td>5</td>\n",
       "      <td>1</td>\n",
       "      <td>0</td>\n",
       "      <td>34</td>\n",
       "    </tr>\n",
       "  </tbody>\n",
       "</table>\n",
       "<p>5 rows × 28 columns</p>\n",
       "</div>"
      ],
      "text/plain": [
       "   smallc  bigc  sumc  bigh  smallo  smalln  smalls  bigs  sums  nh  \\\n",
       "0      19     0    19     0       1       3       2     0     2   0   \n",
       "1      12     9    21     4       0       2       0     0     0   0   \n",
       "2      18     3    21     3       0       3       1     0     1   1   \n",
       "3      18     5    23     5       1       1       0     0     0   1   \n",
       "4      20     0    20     0       2       6       0     0     0   0   \n",
       "\n",
       "        ...        nc  dblbond  sglbond  roundbr  squarebr  bracks  rings  \\\n",
       "0       ...         2        0        3        3         1       4      3   \n",
       "1       ...         2        5        0        1         2       3      4   \n",
       "2       ...         1        1        3        2         2       4      5   \n",
       "3       ...         0        4        2        1         3       4      3   \n",
       "4       ...         4        0        1        1         0       1      5   \n",
       "\n",
       "   RDKit_single  RDKit_double  RDKit_aromatic  \n",
       "0             3             0              29  \n",
       "1             9             5              16  \n",
       "2             7             1              25  \n",
       "3             8             4              21  \n",
       "4             1             0              34  \n",
       "\n",
       "[5 rows x 28 columns]"
      ]
     },
     "execution_count": 101,
     "metadata": {},
     "output_type": "execute_result"
    }
   ],
   "source": [
    "smileparseDF.head()"
   ]
  },
  {
   "cell_type": "code",
   "execution_count": 102,
   "metadata": {
    "collapsed": false
   },
   "outputs": [
    {
     "data": {
      "text/html": [
       "<div>\n",
       "<table border=\"1\" class=\"dataframe\">\n",
       "  <thead>\n",
       "    <tr style=\"text-align: right;\">\n",
       "      <th></th>\n",
       "      <th>feat_001</th>\n",
       "      <th>feat_005</th>\n",
       "      <th>feat_006</th>\n",
       "      <th>feat_007</th>\n",
       "      <th>feat_025</th>\n",
       "      <th>feat_037</th>\n",
       "      <th>feat_044</th>\n",
       "      <th>feat_068</th>\n",
       "      <th>feat_069</th>\n",
       "      <th>feat_072</th>\n",
       "      <th>...</th>\n",
       "      <th>feat_225x226</th>\n",
       "      <th>feat_225x248</th>\n",
       "      <th>feat_225x251</th>\n",
       "      <th>feat_225x252</th>\n",
       "      <th>feat_226x248</th>\n",
       "      <th>feat_226x251</th>\n",
       "      <th>feat_226x252</th>\n",
       "      <th>feat_248x251</th>\n",
       "      <th>feat_248x252</th>\n",
       "      <th>feat_251x252</th>\n",
       "    </tr>\n",
       "  </thead>\n",
       "  <tbody>\n",
       "    <tr>\n",
       "      <th>0</th>\n",
       "      <td>0</td>\n",
       "      <td>1</td>\n",
       "      <td>0</td>\n",
       "      <td>1</td>\n",
       "      <td>0</td>\n",
       "      <td>0</td>\n",
       "      <td>0</td>\n",
       "      <td>1</td>\n",
       "      <td>0</td>\n",
       "      <td>1</td>\n",
       "      <td>...</td>\n",
       "      <td>0</td>\n",
       "      <td>0</td>\n",
       "      <td>0</td>\n",
       "      <td>0</td>\n",
       "      <td>1</td>\n",
       "      <td>0</td>\n",
       "      <td>0</td>\n",
       "      <td>0</td>\n",
       "      <td>0</td>\n",
       "      <td>0</td>\n",
       "    </tr>\n",
       "    <tr>\n",
       "      <th>1</th>\n",
       "      <td>1</td>\n",
       "      <td>1</td>\n",
       "      <td>0</td>\n",
       "      <td>1</td>\n",
       "      <td>1</td>\n",
       "      <td>1</td>\n",
       "      <td>0</td>\n",
       "      <td>0</td>\n",
       "      <td>1</td>\n",
       "      <td>1</td>\n",
       "      <td>...</td>\n",
       "      <td>0</td>\n",
       "      <td>0</td>\n",
       "      <td>0</td>\n",
       "      <td>0</td>\n",
       "      <td>1</td>\n",
       "      <td>1</td>\n",
       "      <td>0</td>\n",
       "      <td>1</td>\n",
       "      <td>0</td>\n",
       "      <td>0</td>\n",
       "    </tr>\n",
       "    <tr>\n",
       "      <th>2</th>\n",
       "      <td>1</td>\n",
       "      <td>1</td>\n",
       "      <td>1</td>\n",
       "      <td>1</td>\n",
       "      <td>0</td>\n",
       "      <td>1</td>\n",
       "      <td>0</td>\n",
       "      <td>1</td>\n",
       "      <td>1</td>\n",
       "      <td>1</td>\n",
       "      <td>...</td>\n",
       "      <td>0</td>\n",
       "      <td>0</td>\n",
       "      <td>0</td>\n",
       "      <td>0</td>\n",
       "      <td>1</td>\n",
       "      <td>0</td>\n",
       "      <td>1</td>\n",
       "      <td>0</td>\n",
       "      <td>1</td>\n",
       "      <td>0</td>\n",
       "    </tr>\n",
       "    <tr>\n",
       "      <th>3</th>\n",
       "      <td>1</td>\n",
       "      <td>1</td>\n",
       "      <td>1</td>\n",
       "      <td>1</td>\n",
       "      <td>1</td>\n",
       "      <td>0</td>\n",
       "      <td>0</td>\n",
       "      <td>1</td>\n",
       "      <td>0</td>\n",
       "      <td>0</td>\n",
       "      <td>...</td>\n",
       "      <td>0</td>\n",
       "      <td>0</td>\n",
       "      <td>0</td>\n",
       "      <td>0</td>\n",
       "      <td>1</td>\n",
       "      <td>0</td>\n",
       "      <td>1</td>\n",
       "      <td>0</td>\n",
       "      <td>1</td>\n",
       "      <td>0</td>\n",
       "    </tr>\n",
       "    <tr>\n",
       "      <th>4</th>\n",
       "      <td>0</td>\n",
       "      <td>1</td>\n",
       "      <td>0</td>\n",
       "      <td>1</td>\n",
       "      <td>0</td>\n",
       "      <td>0</td>\n",
       "      <td>0</td>\n",
       "      <td>0</td>\n",
       "      <td>0</td>\n",
       "      <td>1</td>\n",
       "      <td>...</td>\n",
       "      <td>0</td>\n",
       "      <td>0</td>\n",
       "      <td>0</td>\n",
       "      <td>0</td>\n",
       "      <td>1</td>\n",
       "      <td>0</td>\n",
       "      <td>0</td>\n",
       "      <td>0</td>\n",
       "      <td>0</td>\n",
       "      <td>0</td>\n",
       "    </tr>\n",
       "  </tbody>\n",
       "</table>\n",
       "<p>5 rows × 406 columns</p>\n",
       "</div>"
      ],
      "text/plain": [
       "   feat_001  feat_005  feat_006  feat_007  feat_025  feat_037  feat_044  \\\n",
       "0         0         1         0         1         0         0         0   \n",
       "1         1         1         0         1         1         1         0   \n",
       "2         1         1         1         1         0         1         0   \n",
       "3         1         1         1         1         1         0         0   \n",
       "4         0         1         0         1         0         0         0   \n",
       "\n",
       "   feat_068  feat_069  feat_072      ...       feat_225x226  feat_225x248  \\\n",
       "0         1         0         1      ...                  0             0   \n",
       "1         0         1         1      ...                  0             0   \n",
       "2         1         1         1      ...                  0             0   \n",
       "3         1         0         0      ...                  0             0   \n",
       "4         0         0         1      ...                  0             0   \n",
       "\n",
       "   feat_225x251  feat_225x252  feat_226x248  feat_226x251  feat_226x252  \\\n",
       "0             0             0             1             0             0   \n",
       "1             0             0             1             1             0   \n",
       "2             0             0             1             0             1   \n",
       "3             0             0             1             0             1   \n",
       "4             0             0             1             0             0   \n",
       "\n",
       "   feat_248x251  feat_248x252  feat_251x252  \n",
       "0             0             0             0  \n",
       "1             1             0             0  \n",
       "2             0             1             0  \n",
       "3             0             1             0  \n",
       "4             0             0             0  \n",
       "\n",
       "[5 rows x 406 columns]"
      ]
     },
     "execution_count": 102,
     "metadata": {},
     "output_type": "execute_result"
    }
   ],
   "source": [
    "reduced_DF.head()"
   ]
  },
  {
   "cell_type": "code",
   "execution_count": 24,
   "metadata": {
    "collapsed": false
   },
   "outputs": [
    {
     "data": {
      "text/plain": [
       "(1824230, 435)"
      ]
     },
     "execution_count": 24,
     "metadata": {},
     "output_type": "execute_result"
    }
   ],
   "source": [
    "# join dataframes\n",
    "combineDF = pd.concat((smileparseDF, reduced_DF), axis=1)\n",
    "combineDF.shape"
   ]
  },
  {
   "cell_type": "code",
   "execution_count": 25,
   "metadata": {
    "collapsed": false
   },
   "outputs": [
    {
     "name": "stdout",
     "output_type": "stream",
     "text": [
      "Train features:  (800000, 435)\n",
      "Validation set:  (200000, 435)\n",
      "Train gap:  (800000,)\n",
      "Validation set for gap:  (200000,)\n",
      "Test features: (824230, 435)\n"
     ]
    }
   ],
   "source": [
    "parsevalscomb = combineDF.values  # converts data to numpy format (array)\n",
    "\n",
    "X_train = parsevalscomb[:cutoff]\n",
    "X_valid = parsevalscomb[cutoff:test_idx]\n",
    "X_test = parsevalscomb[test_idx:]\n",
    "\n",
    "print \"Train features: \", X_train.shape\n",
    "print \"Validation set: \", X_valid.shape\n",
    "print \"Train gap: \", Y_train.shape\n",
    "print \"Validation set for gap: \", Y_valid.shape\n",
    "print \"Test features:\", X_test.shape"
   ]
  },
  {
   "cell_type": "code",
   "execution_count": 27,
   "metadata": {
    "collapsed": false
   },
   "outputs": [],
   "source": [
    "# from sklearn.preprocessing import StandardScaler\n",
    "stdsc = StandardScaler()\n",
    "X_train = stdsc.fit_transform(X_train)\n",
    "X_valid = stdsc.transform(X_valid)\n",
    "X_test = stdsc.transform(X_test)"
   ]
  },
  {
   "cell_type": "code",
   "execution_count": 28,
   "metadata": {
    "collapsed": false
   },
   "outputs": [
    {
     "name": "stdout",
     "output_type": "stream",
     "text": [
      "\n",
      "51 seconds to run linear regression (combo)\n",
      "Training set (80/20) RMSE = 0.19460\n",
      "Validation set RMSE = 0.19536\n"
     ]
    }
   ],
   "source": [
    "# Linear Regression\n",
    "start = time.time()\n",
    "\n",
    "LRcomb = LinearRegression()\n",
    "LRcomb.fit(X_train, Y_train)\n",
    "LRcomb_validate = LRcomb.predict(X_valid)\n",
    "\n",
    "timer = time.time() - start\n",
    "print '\\n%d seconds to run linear regression (combo)' % timer\n",
    "\n",
    "LRcomb_rmse = math.sqrt(mean_squared_error(Y_train, LRcomb.predict(X_train)))\n",
    "print 'Training set (80/20) RMSE = %0.5f' % LRcomb_rmse\n",
    "\n",
    "LRcomb_rmsev = math.sqrt(mean_squared_error(Y_valid, LRcomb_validate))\n",
    "print 'Validation set RMSE = %0.5f' % LRcomb_rmsev"
   ]
  },
  {
   "cell_type": "code",
   "execution_count": 107,
   "metadata": {
    "collapsed": false
   },
   "outputs": [
    {
     "name": "stdout",
     "output_type": "stream",
     "text": [
      "\n",
      "475 seconds to run random forest (combo)\n",
      "Training set (80/20) RMSE = 0.09788\n",
      "Validation set RMSE = 0.14944\n"
     ]
    }
   ],
   "source": [
    "# Random Forest\n",
    "start = time.time()\n",
    "\n",
    "RFcomb = RandomForestRegressor()\n",
    "RFcomb.fit(X_train, Y_train)\n",
    "RFcomb_validate = RFcomb.predict(X_valid)\n",
    "\n",
    "timer = time.time() - start\n",
    "print '\\n%d seconds to run random forest (combo)' % timer\n",
    "\n",
    "RFcomb_rmse = math.sqrt(mean_squared_error(Y_train, RFcomb.predict(X_train)))\n",
    "print 'Training set (80/20) RMSE = %0.5f' % RFcomb_rmse\n",
    "\n",
    "RFcomb_rmsev = math.sqrt(mean_squared_error(Y_valid, RFcomb_validate))\n",
    "print 'Validation set RMSE = %0.5f' % RFcomb_rmsev"
   ]
  },
  {
   "cell_type": "code",
   "execution_count": 110,
   "metadata": {
    "collapsed": false
   },
   "outputs": [],
   "source": [
    "# RFcomb_pred = RFcomb.predict(X_test)\n",
    "# write_to_file(\"RFcomb.csv\", RFcomb_pred)"
   ]
  },
  {
   "cell_type": "code",
   "execution_count": 111,
   "metadata": {
    "collapsed": false
   },
   "outputs": [
    {
     "name": "stdout",
     "output_type": "stream",
     "text": [
      "mean of predictions = 1.9123\n",
      "median of predictions = 1.9080\n",
      "minimum of predictions = 0.8150\n",
      "maximum of predictions = 3.4680\n"
     ]
    }
   ],
   "source": [
    "# just to summarize the data in the prediction vector\n",
    "print 'mean of predictions = %0.4f' % np.mean(RFcomb_pred)\n",
    "print 'median of predictions = %0.4f' % np.median(RFcomb_pred)\n",
    "print 'minimum of predictions = %0.4f' % np.min(RFcomb_pred)\n",
    "print 'maximum of predictions = %0.4f' % np.max(RFcomb_pred)"
   ]
  }
 ],
 "metadata": {
  "kernelspec": {
   "display_name": "Python 2",
   "language": "python",
   "name": "python2"
  },
  "language_info": {
   "codemirror_mode": {
    "name": "ipython",
    "version": 2
   },
   "file_extension": ".py",
   "mimetype": "text/x-python",
   "name": "python",
   "nbconvert_exporter": "python",
   "pygments_lexer": "ipython2",
   "version": "2.7.11"
  }
 },
 "nbformat": 4,
 "nbformat_minor": 0
}

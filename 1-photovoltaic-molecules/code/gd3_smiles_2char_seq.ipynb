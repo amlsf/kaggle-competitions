{
 "cells": [
  {
   "cell_type": "code",
   "execution_count": 1,
   "metadata": {
    "collapsed": false
   },
   "outputs": [
    {
     "data": {
      "text/plain": [
       "'2.7.11 |Anaconda 2.4.1 (x86_64)| (default, Dec  6 2015, 18:57:58) \\n[GCC 4.2.1 (Apple Inc. build 5577)]'"
      ]
     },
     "execution_count": 1,
     "metadata": {},
     "output_type": "execute_result"
    }
   ],
   "source": [
    "import sys\n",
    "sys.version"
   ]
  },
  {
   "cell_type": "code",
   "execution_count": 2,
   "metadata": {
    "collapsed": false
   },
   "outputs": [],
   "source": [
    "import time\n",
    "import numpy as np\n",
    "import math\n",
    "import pandas as pd\n",
    "import itertools\n",
    "\n",
    "from sklearn.linear_model import LinearRegression\n",
    "from sklearn.ensemble import RandomForestRegressor\n",
    "from sklearn.metrics import mean_squared_error\n",
    "\n",
    "%matplotlib inline\n",
    "import matplotlib.pyplot as plt"
   ]
  },
  {
   "cell_type": "markdown",
   "metadata": {},
   "source": [
    "<div class=\"alert alert-info\">\n",
    "<strong>LOAD DATA & CREATE FEATURES</strong>\n",
    "</div>"
   ]
  },
  {
   "cell_type": "code",
   "execution_count": 3,
   "metadata": {
    "collapsed": false
   },
   "outputs": [],
   "source": [
    "# load all data\n",
    "df_train = pd.read_csv('data/train.csv')\n",
    "df_test = pd.read_csv('data/test.csv')"
   ]
  },
  {
   "cell_type": "code",
   "execution_count": 4,
   "metadata": {
    "collapsed": true
   },
   "outputs": [],
   "source": [
    "# # smaller dataframe for testing purposes\n",
    "# df_train = df_train[:100]\n",
    "# df_test = df_test[:100]"
   ]
  },
  {
   "cell_type": "code",
   "execution_count": 5,
   "metadata": {
    "collapsed": false
   },
   "outputs": [],
   "source": [
    "# store gap values\n",
    "Y_train = df_train.gap.values\n",
    "\n",
    "# row where testing examples start\n",
    "test_idx = df_train.shape[0]\n",
    "\n",
    "# delete 'Id' column\n",
    "df_test = df_test.drop(['Id'], axis=1)\n",
    "\n",
    "# delete 'gap' column\n",
    "df_train = df_train.drop(['gap'], axis=1)"
   ]
  },
  {
   "cell_type": "code",
   "execution_count": 6,
   "metadata": {
    "collapsed": false
   },
   "outputs": [
    {
     "data": {
      "text/plain": [
       "((1000000, 257), (824230, 257))"
      ]
     },
     "execution_count": 6,
     "metadata": {},
     "output_type": "execute_result"
    }
   ],
   "source": [
    "# original dataframe sizes\n",
    "df_train.shape, df_test.shape"
   ]
  },
  {
   "cell_type": "code",
   "execution_count": 7,
   "metadata": {
    "collapsed": false
   },
   "outputs": [
    {
     "data": {
      "text/plain": [
       "((1824230, 256), (1824230, 1))"
      ]
     },
     "execution_count": 7,
     "metadata": {},
     "output_type": "execute_result"
    }
   ],
   "source": [
    "# dataframe with all train and test examples so we can more easily apply feature engineering\n",
    "df_all = pd.concat((df_train, df_test), axis=0)\n",
    "\n",
    "# extract 'smiles' column - for separate processing\n",
    "df_smiles = pd.DataFrame(df_all.smiles.values, columns=['smiles'], index=df_all.index.values)\n",
    "\n",
    "# drop the 'smiles' column\n",
    "df_all = df_all.drop(['smiles'], axis=1)\n",
    "\n",
    "df_all.shape, df_smiles.shape"
   ]
  },
  {
   "cell_type": "code",
   "execution_count": 8,
   "metadata": {
    "collapsed": false
   },
   "outputs": [
    {
     "data": {
      "text/plain": [
       "(1824230, 31)"
      ]
     },
     "execution_count": 8,
     "metadata": {},
     "output_type": "execute_result"
    }
   ],
   "source": [
    "# drop columns that are all zeros\n",
    "df_all_sum = pd.DataFrame(df_all.sum(axis=0), index=df_all.columns, columns=['SUM'])\n",
    "df_all_zeros = df_all_sum[df_all_sum.SUM==0].index.values\n",
    "df_all.drop(df_all_zeros, axis=1, inplace=True)\n",
    "df_all.shape"
   ]
  },
  {
   "cell_type": "code",
   "execution_count": 9,
   "metadata": {
    "collapsed": false
   },
   "outputs": [
    {
     "data": {
      "text/plain": [
       "31"
      ]
     },
     "execution_count": 9,
     "metadata": {},
     "output_type": "execute_result"
    }
   ],
   "source": [
    "# number of original features\n",
    "num_orig_features = df_all.shape[1]\n",
    "num_orig_features"
   ]
  },
  {
   "cell_type": "code",
   "execution_count": 10,
   "metadata": {
    "collapsed": true
   },
   "outputs": [],
   "source": [
    "def split_smiles(smile, chars):\n",
    "    result = []\n",
    "    for s in range(len(smile)-chars+1):\n",
    "        result.append(smile[s:s+chars])\n",
    "    return result"
   ]
  },
  {
   "cell_type": "code",
   "execution_count": 11,
   "metadata": {
    "collapsed": false
   },
   "outputs": [],
   "source": [
    "# create all string combinations\n",
    "\n",
    "i = 2 # max=63\n",
    "\n",
    "df_tmp = df_smiles.copy()\n",
    "df_tmp = df_tmp.applymap(lambda x: split_smiles(x, i))\n",
    "df_smiles['SEQ_' + str(i) + '_CHARS'] = df_tmp.smiles.copy()"
   ]
  },
  {
   "cell_type": "code",
   "execution_count": 12,
   "metadata": {
    "collapsed": false
   },
   "outputs": [
    {
     "data": {
      "text/plain": [
       "159"
      ]
     },
     "execution_count": 12,
     "metadata": {},
     "output_type": "execute_result"
    }
   ],
   "source": [
    "unique_feat = sorted(set(list(itertools.chain(*df_smiles['SEQ_' + str(i) + '_CHARS'].values))))\n",
    "len(unique_feat)"
   ]
  },
  {
   "cell_type": "code",
   "execution_count": 13,
   "metadata": {
    "collapsed": false
   },
   "outputs": [],
   "source": [
    "# turn into features\n",
    "\n",
    "i = 2 # max=63\n",
    "\n",
    "for f in unique_feat:\n",
    "    df_tmp = df_smiles['SEQ_' + str(i) + '_CHARS'].copy()\n",
    "    df_tmp = df_tmp.map(lambda x: x.count(f))\n",
    "    df_smiles['SEQ_' + str(i) + '_CHARS_' + f] = df_tmp"
   ]
  },
  {
   "cell_type": "code",
   "execution_count": 14,
   "metadata": {
    "collapsed": false
   },
   "outputs": [
    {
     "data": {
      "text/plain": [
       "(1824230, 161)"
      ]
     },
     "execution_count": 14,
     "metadata": {},
     "output_type": "execute_result"
    }
   ],
   "source": [
    "df_smiles.shape"
   ]
  },
  {
   "cell_type": "code",
   "execution_count": 15,
   "metadata": {
    "collapsed": true
   },
   "outputs": [],
   "source": [
    "# df_smiles.to_csv('data/smiles_features_2char.csv') "
   ]
  },
  {
   "cell_type": "code",
   "execution_count": 16,
   "metadata": {
    "collapsed": false
   },
   "outputs": [
    {
     "data": {
      "text/plain": [
       "(1824230, 190)"
      ]
     },
     "execution_count": 16,
     "metadata": {},
     "output_type": "execute_result"
    }
   ],
   "source": [
    "# combine old and new features\n",
    "df_enh = pd.concat([df_smiles, df_all], axis=1)\n",
    "\n",
    "# drop the 'smiles' column\n",
    "df_enh = df_enh.drop(['smiles'], axis=1)\n",
    "\n",
    "# drop the list columns\n",
    "i = 2 # max=63\n",
    "df_enh = df_enh.drop(['SEQ_' + str(i) + '_CHARS'], axis=1)\n",
    "\n",
    "# see what we ended up with!\n",
    "df_enh.shape"
   ]
  },
  {
   "cell_type": "code",
   "execution_count": 17,
   "metadata": {
    "collapsed": true
   },
   "outputs": [],
   "source": [
    "# df_enh.to_csv('data/enhaced_features_2char.csv') "
   ]
  },
  {
   "cell_type": "code",
   "execution_count": 18,
   "metadata": {
    "collapsed": false
   },
   "outputs": [
    {
     "name": "stdout",
     "output_type": "stream",
     "text": [
      "Train features: (1000000, 190)\n",
      "Train gap: (1000000,)\n",
      "Test features: (824230, 190)\n"
     ]
    }
   ],
   "source": [
    "# split back up into training and test data\n",
    "lcols = df_enh.columns.values.tolist()\n",
    "vals = df_enh.values\n",
    "X_train = vals[:test_idx]\n",
    "X_test = vals[test_idx:]\n",
    "\n",
    "print 'Train features:', X_train.shape\n",
    "print 'Train gap:', Y_train.shape\n",
    "print 'Test features:', X_test.shape"
   ]
  },
  {
   "cell_type": "markdown",
   "metadata": {},
   "source": [
    "<div class=\"alert alert-info\">\n",
    "<strong>PREDICTORS</strong>\n",
    "</div>"
   ]
  },
  {
   "cell_type": "code",
   "execution_count": 19,
   "metadata": {
    "collapsed": true
   },
   "outputs": [],
   "source": [
    "def write_to_file(filename, predictions):\n",
    "    with open(filename, \"w\") as f:\n",
    "        f.write(\"Id,Prediction\\n\")\n",
    "        for i,p in enumerate(predictions):\n",
    "            f.write(str(i+1) + \",\" + str(p) + \"\\n\")"
   ]
  },
  {
   "cell_type": "markdown",
   "metadata": {},
   "source": [
    "**Linear Regression**"
   ]
  },
  {
   "cell_type": "code",
   "execution_count": 20,
   "metadata": {
    "collapsed": false
   },
   "outputs": [],
   "source": [
    "# # linear regression - test & validation split\n",
    "# LR = LinearRegression()\n",
    "# LR.fit(X_train[:800000], Y_train[:800000])\n",
    "# LR_rmse_train = math.sqrt(mean_squared_error(Y_train[:800000], LR.predict(X_train[:800000])))\n",
    "# LR_rmse_val = math.sqrt(mean_squared_error(Y_train[800000:], LR.predict(X_train[800000:])))\n",
    "# print 'Linear regression RMSE - training set = %0.5f' % LR_rmse_train\n",
    "# print 'Linear regression RMSE - validation set = %0.5f' % LR_rmse_val\n",
    "# print 'Baseline linear regression RMSE = 0.29892'"
   ]
  },
  {
   "cell_type": "code",
   "execution_count": 21,
   "metadata": {
    "collapsed": false
   },
   "outputs": [],
   "source": [
    "# # linear regression - training & test split\n",
    "# LR = LinearRegression()\n",
    "# LR.fit(X_train, Y_train)\n",
    "# LR_pred = LR.predict(X_test)\n",
    "# LR_rmse = math.sqrt(mean_squared_error(Y_train, LR.predict(X_train)))\n",
    "# print 'New linear regression RMSE = %0.5f' % LR_rmse\n",
    "# print 'Baseline linear regression RMSE = 0.29892'\n",
    "# write_to_file('data/LR_2char.csv', LR_pred)"
   ]
  },
  {
   "cell_type": "markdown",
   "metadata": {},
   "source": [
    "**Random Forest**"
   ]
  },
  {
   "cell_type": "code",
   "execution_count": 22,
   "metadata": {
    "collapsed": false
   },
   "outputs": [
    {
     "name": "stdout",
     "output_type": "stream",
     "text": [
      "Random forest RMSE - training set = 0.05110\n",
      "Random forest RMSE - validation set = 0.10020\n",
      "Baseline random forest RMSE = 0.27188\n"
     ]
    }
   ],
   "source": [
    "# random forest regressor - test & validation split\n",
    "RF = RandomForestRegressor()\n",
    "RF.fit(X_train[:800000], Y_train[:800000])\n",
    "RF_rmse_train = math.sqrt(mean_squared_error(Y_train[:800000], RF.predict(X_train[:800000])))\n",
    "RF_rmse_val = math.sqrt(mean_squared_error(Y_train[800000:], RF.predict(X_train[800000:])))\n",
    "print 'Random forest RMSE - training set = %0.5f' % RF_rmse_train\n",
    "print 'Random forest RMSE - validation set = %0.5f' % RF_rmse_val\n",
    "print 'Baseline random forest RMSE = 0.27188'"
   ]
  },
  {
   "cell_type": "code",
   "execution_count": 23,
   "metadata": {
    "collapsed": false
   },
   "outputs": [
    {
     "name": "stdout",
     "output_type": "stream",
     "text": [
      "New random forest RMSE = 0.05146\n",
      "Baseline random forest RMSE = 0.27188\n"
     ]
    }
   ],
   "source": [
    "# random forest regressor - training & test split\n",
    "RF = RandomForestRegressor()\n",
    "RF.fit(X_train, Y_train)\n",
    "RF_pred = RF.predict(X_test)\n",
    "RF_rmse = math.sqrt(mean_squared_error(Y_train, RF.predict(X_train)))\n",
    "print 'New random forest RMSE = %0.5f' % RF_rmse\n",
    "print 'Baseline random forest RMSE = 0.27188'\n",
    "write_to_file('data/RF_2char.csv', RF_pred)"
   ]
  }
 ],
 "metadata": {
  "kernelspec": {
   "display_name": "Python 2",
   "language": "python",
   "name": "python2"
  },
  "language_info": {
   "codemirror_mode": {
    "name": "ipython",
    "version": 2
   },
   "file_extension": ".py",
   "mimetype": "text/x-python",
   "name": "python",
   "nbconvert_exporter": "python",
   "pygments_lexer": "ipython2",
   "version": "2.7.11"
  }
 },
 "nbformat": 4,
 "nbformat_minor": 0
}

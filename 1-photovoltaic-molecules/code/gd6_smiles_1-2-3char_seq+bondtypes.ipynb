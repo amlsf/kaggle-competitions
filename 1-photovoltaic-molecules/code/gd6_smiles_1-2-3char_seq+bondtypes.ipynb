{
 "cells": [
  {
   "cell_type": "code",
   "execution_count": 1,
   "metadata": {
    "collapsed": false
   },
   "outputs": [
    {
     "data": {
      "text/plain": [
       "'2.7.11 |Anaconda 2.4.1 (x86_64)| (default, Dec  6 2015, 18:57:58) \\n[GCC 4.2.1 (Apple Inc. build 5577)]'"
      ]
     },
     "execution_count": 1,
     "metadata": {},
     "output_type": "execute_result"
    }
   ],
   "source": [
    "import sys\n",
    "sys.version"
   ]
  },
  {
   "cell_type": "code",
   "execution_count": 2,
   "metadata": {
    "collapsed": false
   },
   "outputs": [],
   "source": [
    "import time\n",
    "import numpy as np\n",
    "import math\n",
    "import pandas as pd\n",
    "import itertools\n",
    "\n",
    "from sklearn.linear_model import LinearRegression\n",
    "from sklearn.ensemble import RandomForestRegressor\n",
    "from sklearn.metrics import mean_squared_error\n",
    "\n",
    "%matplotlib inline\n",
    "import matplotlib.pyplot as plt"
   ]
  },
  {
   "cell_type": "markdown",
   "metadata": {},
   "source": [
    "<div class=\"alert alert-info\">\n",
    "<strong>LOAD DATA</strong>\n",
    "</div>"
   ]
  },
  {
   "cell_type": "code",
   "execution_count": 3,
   "metadata": {
    "collapsed": false
   },
   "outputs": [
    {
     "data": {
      "text/plain": [
       "(1000000,)"
      ]
     },
     "execution_count": 3,
     "metadata": {},
     "output_type": "execute_result"
    }
   ],
   "source": [
    "# load Y values\n",
    "df_Y = pd.read_csv('data/train_Y.csv')\n",
    "df_Y = df_Y.drop(['Unnamed: 0'], axis=1)\n",
    "Y_train = df_Y.GAP.values\n",
    "test_idx = Y_train.shape[0]\n",
    "test_idx"
   ]
  },
  {
   "cell_type": "code",
   "execution_count": 4,
   "metadata": {
    "collapsed": false
   },
   "outputs": [
    {
     "data": {
      "text/plain": [
       "(1824230, 52)"
      ]
     },
     "execution_count": 4,
     "metadata": {},
     "output_type": "execute_result"
    }
   ],
   "source": [
    "# load 1-char features\n",
    "df_1char = pd.read_csv('data/enhaced_features_1char.csv')\n",
    "df_1char = df_1char.drop(['Unnamed: 0'], axis=1)\n",
    "df_1char.shape"
   ]
  },
  {
   "cell_type": "code",
   "execution_count": 5,
   "metadata": {
    "collapsed": false
   },
   "outputs": [
    {
     "data": {
      "text/plain": [
       "(1824230, 190)"
      ]
     },
     "execution_count": 5,
     "metadata": {},
     "output_type": "execute_result"
    }
   ],
   "source": [
    "# load 2-char features\n",
    "df_2char = pd.read_csv('data/enhaced_features_2char.csv')\n",
    "df_2char = df_2char.drop(['Unnamed: 0'], axis=1)\n",
    "df_2char.shape"
   ]
  },
  {
   "cell_type": "code",
   "execution_count": 6,
   "metadata": {
    "collapsed": false
   },
   "outputs": [
    {
     "data": {
      "text/plain": [
       "(1824230, 211)"
      ]
     },
     "execution_count": 6,
     "metadata": {},
     "output_type": "execute_result"
    }
   ],
   "source": [
    "# merge and drop duplicate columns\n",
    "cols_to_use = df_2char.columns.difference(df_1char.columns)\n",
    "df_comb = pd.concat([df_1char, df_2char[cols_to_use]], axis=1)\n",
    "df_comb.shape"
   ]
  },
  {
   "cell_type": "code",
   "execution_count": 7,
   "metadata": {
    "collapsed": true
   },
   "outputs": [],
   "source": [
    "# clear memory before moving on\n",
    "df_1char = None\n",
    "df_2char = None"
   ]
  },
  {
   "cell_type": "code",
   "execution_count": 8,
   "metadata": {
    "collapsed": false
   },
   "outputs": [
    {
     "data": {
      "text/plain": [
       "(1824230, 593)"
      ]
     },
     "execution_count": 8,
     "metadata": {},
     "output_type": "execute_result"
    }
   ],
   "source": [
    "# load 3-char features\n",
    "df_3char = pd.read_csv('data/enhaced_features_3char.csv')\n",
    "df_3char = df_3char.drop(['Unnamed: 0'], axis=1)\n",
    "df_3char.shape"
   ]
  },
  {
   "cell_type": "code",
   "execution_count": 9,
   "metadata": {
    "collapsed": false
   },
   "outputs": [
    {
     "data": {
      "text/plain": [
       "(1824230, 773)"
      ]
     },
     "execution_count": 9,
     "metadata": {},
     "output_type": "execute_result"
    }
   ],
   "source": [
    "# merge and drop duplicate columns\n",
    "cols_to_use = df_3char.columns.difference(df_comb.columns)\n",
    "df_comb = pd.concat([df_comb, df_3char[cols_to_use]], axis=1)\n",
    "df_comb.shape"
   ]
  },
  {
   "cell_type": "code",
   "execution_count": 10,
   "metadata": {
    "collapsed": true
   },
   "outputs": [],
   "source": [
    "# clear memory before moving on\n",
    "df_3char = None"
   ]
  },
  {
   "cell_type": "code",
   "execution_count": 11,
   "metadata": {
    "collapsed": false
   },
   "outputs": [
    {
     "data": {
      "text/plain": [
       "(1824230, 3)"
      ]
     },
     "execution_count": 11,
     "metadata": {},
     "output_type": "execute_result"
    }
   ],
   "source": [
    "# load three bond type features\n",
    "df_bondtypes = pd.read_csv('data/bond_type_counts.csv')\n",
    "df_bondtypes = df_bondtypes.drop(['Unnamed: 0'], axis=1)\n",
    "df_bondtypes.shape"
   ]
  },
  {
   "cell_type": "code",
   "execution_count": 12,
   "metadata": {
    "collapsed": false
   },
   "outputs": [
    {
     "data": {
      "text/plain": [
       "(1824230, 776)"
      ]
     },
     "execution_count": 12,
     "metadata": {},
     "output_type": "execute_result"
    }
   ],
   "source": [
    "# combine all data\n",
    "df_comb = pd.concat([df_comb, df_bondtypes], axis=1)\n",
    "df_comb.shape"
   ]
  },
  {
   "cell_type": "code",
   "execution_count": 13,
   "metadata": {
    "collapsed": true
   },
   "outputs": [],
   "source": [
    "# clear memory before moving on\n",
    "df_bondtypes = None"
   ]
  },
  {
   "cell_type": "code",
   "execution_count": 18,
   "metadata": {
    "collapsed": false
   },
   "outputs": [
    {
     "name": "stdout",
     "output_type": "stream",
     "text": [
      "Train features: (1000000, 776)\n",
      "Train gap: (1000000,)\n",
      "Test features: (824230, 776)\n"
     ]
    }
   ],
   "source": [
    "# split back up into training and test data\n",
    "lcols = df_comb.columns.values.tolist()\n",
    "vals = df_comb.values\n",
    "X_train = vals[:test_idx]\n",
    "X_test = vals[test_idx:]\n",
    "\n",
    "print 'Train features:', X_train.shape\n",
    "print 'Train gap:', Y_train.shape\n",
    "print 'Test features:', X_test.shape"
   ]
  },
  {
   "cell_type": "markdown",
   "metadata": {},
   "source": [
    "<div class=\"alert alert-info\">\n",
    "<strong>PREDICTORS</strong>\n",
    "</div>"
   ]
  },
  {
   "cell_type": "code",
   "execution_count": 19,
   "metadata": {
    "collapsed": true
   },
   "outputs": [],
   "source": [
    "def write_to_file(filename, predictions):\n",
    "    with open(filename, \"w\") as f:\n",
    "        f.write(\"Id,Prediction\\n\")\n",
    "        for i,p in enumerate(predictions):\n",
    "            f.write(str(i+1) + \",\" + str(p) + \"\\n\")"
   ]
  },
  {
   "cell_type": "markdown",
   "metadata": {},
   "source": [
    "**Linear Regression**"
   ]
  },
  {
   "cell_type": "code",
   "execution_count": 20,
   "metadata": {
    "collapsed": false
   },
   "outputs": [],
   "source": [
    "# # linear regression - test & validation split\n",
    "# LR = LinearRegression()\n",
    "# LR.fit(X_train[:800000], Y_train[:800000])\n",
    "# LR_rmse_train = math.sqrt(mean_squared_error(Y_train[:800000], LR.predict(X_train[:800000])))\n",
    "# LR_rmse_val = math.sqrt(mean_squared_error(Y_train[800000:], LR.predict(X_train[800000:])))\n",
    "# print 'Linear regression RMSE - training set = %0.5f' % LR_rmse_train\n",
    "# print 'Linear regression RMSE - validation set = %0.5f' % LR_rmse_val\n",
    "# print 'Baseline linear regression RMSE = 0.29892'"
   ]
  },
  {
   "cell_type": "code",
   "execution_count": 21,
   "metadata": {
    "collapsed": false
   },
   "outputs": [],
   "source": [
    "# # linear regression - training & test split\n",
    "# LR = LinearRegression()\n",
    "# LR.fit(X_train, Y_train)\n",
    "# LR_pred = LR.predict(X_test)\n",
    "# LR_rmse = math.sqrt(mean_squared_error(Y_train, LR.predict(X_train)))\n",
    "# print 'New linear regression RMSE = %0.5f' % LR_rmse\n",
    "# print 'Baseline linear regression RMSE = 0.29892'\n",
    "# write_to_file('data/LR_3char.csv_bondtypes.csv', LR_pred)"
   ]
  },
  {
   "cell_type": "markdown",
   "metadata": {},
   "source": [
    "**Random Forest**"
   ]
  },
  {
   "cell_type": "code",
   "execution_count": 22,
   "metadata": {
    "collapsed": false
   },
   "outputs": [
    {
     "name": "stdout",
     "output_type": "stream",
     "text": [
      "Random forest RMSE - training set = 0.03285\n",
      "Random forest RMSE - validation set = 0.07156\n",
      "Baseline random forest RMSE = 0.27188\n"
     ]
    }
   ],
   "source": [
    "# random forest regressor - test & validation split\n",
    "RF = RandomForestRegressor()\n",
    "RF.fit(X_train[:800000], Y_train[:800000])\n",
    "RF_rmse_train = math.sqrt(mean_squared_error(Y_train[:800000], RF.predict(X_train[:800000])))\n",
    "RF_rmse_val = math.sqrt(mean_squared_error(Y_train[800000:], RF.predict(X_train[800000:])))\n",
    "print 'Random forest RMSE - training set = %0.5f' % RF_rmse_train\n",
    "print 'Random forest RMSE - validation set = %0.5f' % RF_rmse_val\n",
    "print 'Baseline random forest RMSE = 0.27188'"
   ]
  },
  {
   "cell_type": "code",
   "execution_count": 24,
   "metadata": {
    "collapsed": false
   },
   "outputs": [],
   "source": [
    "# # random forest regressor - training & test split\n",
    "# RF = RandomForestRegressor()\n",
    "# RF.fit(X_train, Y_train)\n",
    "# RF_pred = RF.predict(X_test)\n",
    "# RF_rmse = math.sqrt(mean_squared_error(Y_train, RF.predict(X_train)))\n",
    "# print 'New random forest RMSE = %0.5f' % RF_rmse\n",
    "# print 'Baseline random forest RMSE = 0.27188'\n",
    "# write_to_file('data/RF_1_2_3char_bondtypes.csv', RF_pred)"
   ]
  }
 ],
 "metadata": {
  "kernelspec": {
   "display_name": "Python 2",
   "language": "python",
   "name": "python2"
  },
  "language_info": {
   "codemirror_mode": {
    "name": "ipython",
    "version": 2
   },
   "file_extension": ".py",
   "mimetype": "text/x-python",
   "name": "python",
   "nbconvert_exporter": "python",
   "pygments_lexer": "ipython2",
   "version": "2.7.11"
  }
 },
 "nbformat": 4,
 "nbformat_minor": 0
}

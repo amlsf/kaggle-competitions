{
 "cells": [
  {
   "cell_type": "code",
   "execution_count": 1,
   "metadata": {
    "collapsed": false
   },
   "outputs": [
    {
     "data": {
      "text/plain": [
       "'2.7.11 |Anaconda 2.4.1 (x86_64)| (default, Dec  6 2015, 18:57:58) \\n[GCC 4.2.1 (Apple Inc. build 5577)]'"
      ]
     },
     "execution_count": 1,
     "metadata": {},
     "output_type": "execute_result"
    }
   ],
   "source": [
    "import sys\n",
    "sys.version"
   ]
  },
  {
   "cell_type": "code",
   "execution_count": 2,
   "metadata": {
    "collapsed": false
   },
   "outputs": [],
   "source": [
    "import time\n",
    "import numpy as np\n",
    "import math\n",
    "import pandas as pd\n",
    "import itertools\n",
    "\n",
    "from sklearn.linear_model import LinearRegression\n",
    "from sklearn.ensemble import RandomForestRegressor\n",
    "from sklearn.metrics import mean_squared_error\n",
    "\n",
    "%matplotlib inline\n",
    "import matplotlib.pyplot as plt"
   ]
  },
  {
   "cell_type": "markdown",
   "metadata": {},
   "source": [
    "<div class=\"alert alert-info\">\n",
    "<strong>LOAD DATA</strong>\n",
    "</div>"
   ]
  },
  {
   "cell_type": "code",
   "execution_count": 14,
   "metadata": {
    "collapsed": false
   },
   "outputs": [
    {
     "data": {
      "text/plain": [
       "1000000"
      ]
     },
     "execution_count": 14,
     "metadata": {},
     "output_type": "execute_result"
    }
   ],
   "source": [
    "# load Y values\n",
    "df_Y = pd.read_csv('data/train_Y.csv')\n",
    "df_Y = df_Y.drop(['Unnamed: 0'], axis=1)\n",
    "Y_train = df_Y.GAP.values\n",
    "test_idx = Y_train.shape[0]\n",
    "test_idx"
   ]
  },
  {
   "cell_type": "code",
   "execution_count": 3,
   "metadata": {
    "collapsed": true
   },
   "outputs": [],
   "source": [
    "# load 3-char features\n",
    "df_enh = pd.read_csv('data/enhaced_features_3char.csv')\n",
    "df_enh = df_enh.drop(['Unnamed: 0'], axis=1)\n",
    "df_enh.shape"
   ]
  },
  {
   "cell_type": "code",
   "execution_count": 9,
   "metadata": {
    "collapsed": true
   },
   "outputs": [],
   "source": [
    "# load three bond type features\n",
    "df_bondtypes = pd.read_csv('data/bond_type_counts.csv')\n",
    "df_bondtypes = df_bondtypes.drop(['Unnamed: 0'], axis=1)\n",
    "df_bondtypes.shape"
   ]
  },
  {
   "cell_type": "code",
   "execution_count": 11,
   "metadata": {
    "collapsed": false
   },
   "outputs": [
    {
     "data": {
      "text/plain": [
       "(1824230, 596)"
      ]
     },
     "execution_count": 11,
     "metadata": {},
     "output_type": "execute_result"
    }
   ],
   "source": [
    "# combine all data\n",
    "df_comb = pd.concat([df_enh, df_bondtypes], axis=1)\n",
    "df_comb.shape"
   ]
  },
  {
   "cell_type": "code",
   "execution_count": 15,
   "metadata": {
    "collapsed": false
   },
   "outputs": [
    {
     "name": "stdout",
     "output_type": "stream",
     "text": [
      "Train features: (1000000, 596)\n",
      "Train gap: (1000000,)\n",
      "Test features: (824230, 596)\n"
     ]
    }
   ],
   "source": [
    "# split back up into training and test data\n",
    "lcols = df_comb.columns.values.tolist()\n",
    "vals = df_comb.values\n",
    "X_train = vals[:test_idx]\n",
    "X_test = vals[test_idx:]\n",
    "\n",
    "print 'Train features:', X_train.shape\n",
    "print 'Train gap:', Y_train.shape\n",
    "print 'Test features:', X_test.shape"
   ]
  },
  {
   "cell_type": "markdown",
   "metadata": {},
   "source": [
    "<div class=\"alert alert-info\">\n",
    "<strong>PREDICTORS</strong>\n",
    "</div>"
   ]
  },
  {
   "cell_type": "code",
   "execution_count": 16,
   "metadata": {
    "collapsed": true
   },
   "outputs": [],
   "source": [
    "def write_to_file(filename, predictions):\n",
    "    with open(filename, \"w\") as f:\n",
    "        f.write(\"Id,Prediction\\n\")\n",
    "        for i,p in enumerate(predictions):\n",
    "            f.write(str(i+1) + \",\" + str(p) + \"\\n\")"
   ]
  },
  {
   "cell_type": "markdown",
   "metadata": {},
   "source": [
    "**Linear Regression**"
   ]
  },
  {
   "cell_type": "code",
   "execution_count": 17,
   "metadata": {
    "collapsed": false
   },
   "outputs": [],
   "source": [
    "# # linear regression - test & validation split\n",
    "# LR = LinearRegression()\n",
    "# LR.fit(X_train[:800000], Y_train[:800000])\n",
    "# LR_rmse_train = math.sqrt(mean_squared_error(Y_train[:800000], LR.predict(X_train[:800000])))\n",
    "# LR_rmse_val = math.sqrt(mean_squared_error(Y_train[800000:], LR.predict(X_train[800000:])))\n",
    "# print 'Linear regression RMSE - training set = %0.5f' % LR_rmse_train\n",
    "# print 'Linear regression RMSE - validation set = %0.5f' % LR_rmse_val\n",
    "# print 'Baseline linear regression RMSE = 0.29892'"
   ]
  },
  {
   "cell_type": "code",
   "execution_count": 18,
   "metadata": {
    "collapsed": false
   },
   "outputs": [],
   "source": [
    "# # linear regression - training & test split\n",
    "# LR = LinearRegression()\n",
    "# LR.fit(X_train, Y_train)\n",
    "# LR_pred = LR.predict(X_test)\n",
    "# LR_rmse = math.sqrt(mean_squared_error(Y_train, LR.predict(X_train)))\n",
    "# print 'New linear regression RMSE = %0.5f' % LR_rmse\n",
    "# print 'Baseline linear regression RMSE = 0.29892'\n",
    "# write_to_file('data/LR_3char.csv_bondtypes.csv', LR_pred)"
   ]
  },
  {
   "cell_type": "markdown",
   "metadata": {},
   "source": [
    "**Random Forest**"
   ]
  },
  {
   "cell_type": "code",
   "execution_count": 19,
   "metadata": {
    "collapsed": false
   },
   "outputs": [
    {
     "name": "stdout",
     "output_type": "stream",
     "text": [
      "Random forest RMSE - training set = 0.03075\n",
      "Random forest RMSE - validation set = 0.06704\n",
      "Baseline random forest RMSE = 0.27188\n"
     ]
    }
   ],
   "source": [
    "# random forest regressor - test & validation split\n",
    "RF = RandomForestRegressor()\n",
    "RF.fit(X_train[:800000], Y_train[:800000])\n",
    "RF_rmse_train = math.sqrt(mean_squared_error(Y_train[:800000], RF.predict(X_train[:800000])))\n",
    "RF_rmse_val = math.sqrt(mean_squared_error(Y_train[800000:], RF.predict(X_train[800000:])))\n",
    "print 'Random forest RMSE - training set = %0.5f' % RF_rmse_train\n",
    "print 'Random forest RMSE - validation set = %0.5f' % RF_rmse_val\n",
    "print 'Baseline random forest RMSE = 0.27188'"
   ]
  },
  {
   "cell_type": "code",
   "execution_count": 20,
   "metadata": {
    "collapsed": false
   },
   "outputs": [
    {
     "name": "stdout",
     "output_type": "stream",
     "text": [
      "New random forest RMSE = 0.02931\n",
      "Baseline random forest RMSE = 0.27188\n"
     ]
    }
   ],
   "source": [
    "# random forest regressor - training & test split\n",
    "RF = RandomForestRegressor()\n",
    "RF.fit(X_train, Y_train)\n",
    "RF_pred = RF.predict(X_test)\n",
    "RF_rmse = math.sqrt(mean_squared_error(Y_train, RF.predict(X_train)))\n",
    "print 'New random forest RMSE = %0.5f' % RF_rmse\n",
    "print 'Baseline random forest RMSE = 0.27188'\n",
    "write_to_file('data/RF_3char_bondtypes.csv', RF_pred)"
   ]
  }
 ],
 "metadata": {
  "kernelspec": {
   "display_name": "Python 2",
   "language": "python",
   "name": "python2"
  },
  "language_info": {
   "codemirror_mode": {
    "name": "ipython",
    "version": 2
   },
   "file_extension": ".py",
   "mimetype": "text/x-python",
   "name": "python",
   "nbconvert_exporter": "python",
   "pygments_lexer": "ipython2",
   "version": "2.7.11"
  }
 },
 "nbformat": 4,
 "nbformat_minor": 0
}
